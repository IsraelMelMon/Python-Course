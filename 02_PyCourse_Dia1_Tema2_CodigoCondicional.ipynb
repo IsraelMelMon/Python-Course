{
 "cells": [
  {
   "cell_type": "markdown",
   "metadata": {},
   "source": [
    "### <font color='black'><div style=\"text-align: center\">2020</div></font>\n",
    "---\n",
    "![image](materials/python-logo-notext.svg)\n",
    "# <div style=\"text-align:center;font-size:1.8em;color:#227FBA;font-family:verdana\">CURSO BÁSICO DE PYTHON</div>\n",
    "## <div style=\"text-align:center;font-size:1.2em;color:#227FBA;font-family:verdana\">DÍA 1</div>\n",
    "\n",
    "<div font color='gray'><div style=\"text-align: center\">AXTEL</div>\n"
   ]
  },
  {
   "cell_type": "markdown",
   "metadata": {},
   "source": [
    "\n",
    "# <div style=\"text-align:center;font-size:1.1em;color:#227FBA;font-family:verdana\">2. CÓDIGO CONDICIONAL </div>\n"
   ]
  },
  {
   "cell_type": "markdown",
   "metadata": {},
   "source": [
    "## <div style=\"text-align:left;font-size:1.1em;color:#666666;font-family:verdana\">2.1 CÓDIGO CONDICIONAL</div>\n"
   ]
  },
  {
   "cell_type": "markdown",
   "metadata": {},
   "source": [
    "# Comando IF"
   ]
  },
  {
   "cell_type": "markdown",
   "metadata": {},
   "source": [
    "<div style=\"text-align:justify;font-size:1.1em;color:#2F2B29;font-family:verdana\"> El código condicional se ejecuta únicamente cuando se cumplen ciertas condiciones preestablecidas. La declaración (o estructura de control o comando) que nos permite esto es \"IF\". </div>"
   ]
  },
  {
   "cell_type": "markdown",
   "metadata": {},
   "source": [
    "<div style=\"text-align:justify;font-size:1.1em;color:#2F2B29;font-family:verdana\"> Por ejemplo, imaginemos que deseamos correr cierto código únicamente si el valor de una cierta variable de nombre \"a\" es mayor que 1. Si es mayor que este valor, se imprimirá la frase \"Valor mayor que 1\". De lo contrario, no pasará nada. Podemos resumir este comportamiento con el siguiente diagrama:</div>"
   ]
  },
  {
   "cell_type": "markdown",
   "metadata": {},
   "source": [
    "<img src=\"materials/Firstif.svg\" style=\"width: 480px;\"/>\n",
    "\n"
   ]
  },
  {
   "cell_type": "markdown",
   "metadata": {},
   "source": [
    "<div style=\"text-align:justify;font-size:1.1em;color:#2F2B29;font-family:verdana\"> El diagrama anterior puede ser codificado de la siguiente manera:</div>"
   ]
  },
  {
   "cell_type": "code",
   "execution_count": 22,
   "metadata": {},
   "outputs": [],
   "source": [
    "#a = 3\n",
    "#if (a>1):\n",
    "    #print(\"'a' es mayor que 1\")"
   ]
  },
  {
   "cell_type": "markdown",
   "metadata": {},
   "source": [
    "<div style=\"text-align:justify;font-size:1.1em;color:#2F2B29;font-family:verdana\"> Probemos el código. Intenta sustituir el valor de la variable \"a\" en la celda siguiente y ejecutala para verificar que el código funciona correctamente:</div>"
   ]
  },
  {
   "cell_type": "markdown",
   "metadata": {},
   "source": [
    "<div style=\"text-align:justify;font-size:1.1em;color:#2F2B29;font-family:verdana\"> El formato de la declaración \"IF\" es especial. Primeramente, luego de escribir \"IF\", debemos declarar una comparación (para obtener un valor booleano), la cual puede ir o no dentro de paréntesis. Esta irá seguida de dos puntos. </div>"
   ]
  },
  {
   "cell_type": "code",
   "execution_count": 2,
   "metadata": {},
   "outputs": [
    {
     "name": "stdout",
     "output_type": "stream",
     "text": [
      "a es mayor que 1\n",
      "a es mayor que 2\n"
     ]
    }
   ],
   "source": [
    "a = 3\n",
    "if (a>1):\n",
    "    print(\"a es mayor que 1\")\n",
    "   # print(\"Python es el mejor lenguaje\")\n",
    "    if (a>2):\n",
    "        print(\"a es mayor que 2\")"
   ]
  },
  {
   "attachments": {
    "IF.svg": {
     "image/svg+xml": [
      "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"
     ]
    }
   },
   "cell_type": "markdown",
   "metadata": {},
   "source": [
    "![IF.svg](attachment:IF.svg)"
   ]
  },
  {
   "cell_type": "markdown",
   "metadata": {},
   "source": [
    "<div style=\"text-align:justify;font-size:1.1em;color:#2F2B29;font-family:verdana\"> Una vez establecida la condición, procedemos a agregar el código a ejecutar en el renglón inferior. Este código debe estar indentado, es decir, debe speararse del margen izquierdo por una cierta cantidad de espacios. En este caso, lo alejaremos del margen por 4 espacios. Una manera rápida de hacer esto es la tecla \"tab\". "
   ]
  },
  {
   "attachments": {
    "IF2.svg": {
     "image/svg+xml": [
      "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"
     ]
    }
   },
   "cell_type": "markdown",
   "metadata": {},
   "source": [
    "![IF2.svg](attachment:IF2.svg)"
   ]
  },
  {
   "cell_type": "markdown",
   "metadata": {},
   "source": [
    "<img src=\"materials/notepad.svg\" style=\"width: 150px;\"/>\n"
   ]
  },
  {
   "cell_type": "markdown",
   "metadata": {},
   "source": [
    "#### <div style=\"text-align:CENTER;font-size:1.3em;color:red;font-family:verdana\"> EJERCICIO 2.1-1 [1 minuto]</div>\n",
    "<div style=\"text-align:justify;font-size:1.2em;color:red;font-family:verdana\"> Utiliza la función \"if\" para crear código que imprima la frase \"Valor igual a  0\" si la variable \"a\" es igual a 0. Pruebala con diferentes valores. </div>"
   ]
  },
  {
   "cell_type": "code",
   "execution_count": 4,
   "metadata": {},
   "outputs": [
    {
     "name": "stdout",
     "output_type": "stream",
     "text": [
      "Valor igual a 0\n"
     ]
    }
   ],
   "source": [
    "# Escribe tu código aquí\n",
    "a = 0\n",
    "\n",
    "if ( a == 0 ):\n",
    "    print(\"Valor igual a 0\")"
   ]
  },
  {
   "cell_type": "markdown",
   "metadata": {},
   "source": [
    "\n"
   ]
  },
  {
   "cell_type": "markdown",
   "metadata": {},
   "source": [
    "\n"
   ]
  },
  {
   "cell_type": "markdown",
   "metadata": {},
   "source": [
    "\n"
   ]
  },
  {
   "cell_type": "markdown",
   "metadata": {},
   "source": [
    "# Comando else"
   ]
  },
  {
   "cell_type": "markdown",
   "metadata": {},
   "source": [
    "<div style=\"text-align:justify;font-size:1.1em;color:#2F2B29;font-family:verdana\"> Un complemento para la declaración \"if\" es la declaración \"else\". Al utilizarla, podemos especificar que se ejecute cierto código cuando las condiciones del \"if\" no se cumplen. </div>"
   ]
  },
  {
   "cell_type": "markdown",
   "metadata": {},
   "source": [
    "<div style=\"text-align:justify;font-size:1.1em;color:#2F2B29;font-family:verdana\"> Por ejemplo, podemos complementar el ejemplo al inicio de este módulo agregándole una funcionalidad más: si el valor de una variable \"a\" NO es mayor que 1, entonces se imprime \"Valor menor o igual a 1\". El diagrama que resume este comportamiento es el siguiente: </div>"
   ]
  },
  {
   "cell_type": "markdown",
   "metadata": {},
   "source": [
    "<img src=\"materials/secondif.svg\" style=\"width: 520px;\"/>\n"
   ]
  },
  {
   "cell_type": "markdown",
   "metadata": {},
   "source": [
    "<div style=\"text-align:justify;font-size:1.1em;color:#2F2B29;font-family:verdana\"> El diagrama anterior puede ser codificado de la siguiente manera:</div>"
   ]
  },
  {
   "cell_type": "code",
   "execution_count": 16,
   "metadata": {},
   "outputs": [
    {
     "name": "stdout",
     "output_type": "stream",
     "text": [
      "Valor mayor que 1\n"
     ]
    }
   ],
   "source": [
    "a = 2\n",
    "if ( a > 1 ):\n",
    "    print(\"Valor mayor que 1\")\n",
    "else:\n",
    "    print(\"Valor menor o igual a 1\")"
   ]
  },
  {
   "cell_type": "markdown",
   "metadata": {},
   "source": [
    "<div style=\"text-align:justify;font-size:1.1em;color:#2F2B29;font-family:verdana\"> Ahora, probemos el código dándole diversos valores a la variable \"a\":</div>"
   ]
  },
  {
   "cell_type": "code",
   "execution_count": 5,
   "metadata": {},
   "outputs": [
    {
     "name": "stdout",
     "output_type": "stream",
     "text": [
      "Valor menor o igual a 1\n"
     ]
    }
   ],
   "source": [
    "a = 0.5\n",
    "\n",
    "if ( a > 1 ):\n",
    "    print(\"Valor mayor que 1\")\n",
    "else:\n",
    "    print(\"Valor menor o igual a 1\")"
   ]
  },
  {
   "cell_type": "markdown",
   "metadata": {},
   "source": [
    "<div style=\"text-align:justify;font-size:1.1em;color:#2F2B29;font-family:verdana\"> Podemos notar que el formato de la declaración \"else\" es muy parecido al de \"IF\". Sin embargo, no se agrega ninguna condición luego del nombre del comando (declaración), ya que \"else\" tomará TODOS los casos en los que la condición de \"IF\" no se cumpla. El código condicional tiene un indentado de 4 espacios también. </div>"
   ]
  },
  {
   "cell_type": "markdown",
   "metadata": {},
   "source": [
    "<img src=\"materials/notepad.svg\" style=\"width: 150px;\"/>\n"
   ]
  },
  {
   "cell_type": "markdown",
   "metadata": {},
   "source": [
    "#### <div style=\"text-align:CENTER;font-size:1.3em;color:red;font-family:verdana\"> EJERCICIO 2.1-2 [5 minutos]</div>\n",
    "<div style=\"text-align:justify;font-size:1.2em;color:red;font-family:verdana\">Imaginemos que queremos crear un software que le diga a un usuario si tiene o no más de 50 años con base a su año de nacimiento. Utiliza las declaraciones \"IF\" y \"ELSE\" para crear código que clasifique la edad con base a una variable de nombre \"año\". Si el valor de año es menor o igual a 1969, el código debe imprimir el mensaje \"Tienes 50 años o más\". Si el valor es mayor a esa cantidad, se debe imprimir \"Tienes menos de 50 años\". Prueba tu código con diferentes valores para la variable \"año\". </div>"
   ]
  },
  {
   "cell_type": "code",
   "execution_count": 23,
   "metadata": {},
   "outputs": [
    {
     "name": "stdout",
     "output_type": "stream",
     "text": [
      "En que año naciste?1964\n",
      "Tienes 50 años o mas\n"
     ]
    }
   ],
   "source": [
    "# Escribe tu código aquí\n",
    "\n",
    "año = int(input(\"En que año naciste?\"))\n",
    "\n",
    "if (año <= 1969):\n",
    "    print(\"Tienes 50 años o mas\")\n",
    "else:\n",
    "    print(\"Tienes menos de 50 años\")\n",
    "\n",
    "# Pista:\n",
    "# if (año <= 1968)...\n",
    "\n",
    "\n"
   ]
  },
  {
   "cell_type": "markdown",
   "metadata": {},
   "source": [
    "\n"
   ]
  },
  {
   "cell_type": "markdown",
   "metadata": {},
   "source": [
    "\n"
   ]
  },
  {
   "cell_type": "markdown",
   "metadata": {},
   "source": [
    "\n"
   ]
  },
  {
   "cell_type": "markdown",
   "metadata": {},
   "source": [
    "# Comando elif"
   ]
  },
  {
   "cell_type": "markdown",
   "metadata": {},
   "source": [
    "<div style=\"text-align:justify;font-size:1.1em;color:#2F2B29;font-family:verdana\"> En ocasiones debemos programar un comportamiento más específico que ejecute código solo en  casos bien definidos. Es entonces que podemos utilizar la declaración \"elif\". </div>"
   ]
  },
  {
   "cell_type": "markdown",
   "metadata": {},
   "source": [
    "<div style=\"text-align:justify;font-size:1.1em;color:#2F2B29;font-family:verdana\"> Veamos un ejemplo sencillo. Cambia el valor de la variable \"opcion\" y ejecuta la celda para apreciar el funcionamiento de \"elif\": </div>"
   ]
  },
  {
   "cell_type": "code",
   "execution_count": null,
   "metadata": {},
   "outputs": [],
   "source": [
    "# Modifica esta celda\n",
    "\n",
    "opcion = 1\n",
    "\n",
    "if (opcion==1):\n",
    "    print(\"Escogiste la opción 1\")\n",
    "    \n",
    "elif (opcion==2):\n",
    "    print(\"Escogiste la opción 2\")\n",
    "    \n",
    "else:\n",
    "    print(\"Opción no soportada\")"
   ]
  },
  {
   "cell_type": "markdown",
   "metadata": {},
   "source": [
    "<div style=\"text-align:justify;font-size:1.1em;color:#2F2B29;font-family:verdana\"> Podemos describir el código anterior con el siguiente diagrama:</div>"
   ]
  },
  {
   "cell_type": "markdown",
   "metadata": {},
   "source": [
    "<img src=\"materials/thirdif.svg\" style=\"width: 720px;\"/>\n"
   ]
  },
  {
   "cell_type": "markdown",
   "metadata": {},
   "source": [
    "<div style=\"text-align:justify;font-size:1.1em;color:#2F2B29;font-family:verdana\"> No tenemos que limitarnos a un solo \"elif\". Podemos utilizar el número que deseemos: </div>"
   ]
  },
  {
   "cell_type": "code",
   "execution_count": 25,
   "metadata": {},
   "outputs": [
    {
     "name": "stdout",
     "output_type": "stream",
     "text": [
      "Escogiste la opción 3\n"
     ]
    }
   ],
   "source": [
    "# Modifica el valor de \"opcion\" y ejecuta la celda\n",
    "\n",
    "opcion = 3\n",
    "\n",
    "if (opcion==1):\n",
    "    print(\"Escogiste la opción 1\")\n",
    "    \n",
    "elif (opcion==2):\n",
    "    print(\"Escogiste la opción 2\")\n",
    "    \n",
    "elif (opcion==3):\n",
    "    print(\"Escogiste la opción 3\")\n",
    "    \n",
    "elif (opcion==4):\n",
    "    print(\"Escogiste la opción 4\")\n",
    "    \n",
    "elif (opcion==5):\n",
    "    print(\"Escogiste la opción 5\")\n",
    "    \n",
    "# Podemos seguir agregando elifs\n",
    "    \n",
    "else:\n",
    "    print(\"Opción no soportada\")"
   ]
  },
  {
   "cell_type": "markdown",
   "metadata": {},
   "source": [
    "<img src=\"materials/notepad.svg\" style=\"width: 150px;\"/>\n"
   ]
  },
  {
   "cell_type": "markdown",
   "metadata": {},
   "source": [
    "#### <div style=\"text-align:CENTER;font-size:1.3em;color:red;font-family:verdana\"> EJERCICIO 2.1-3 [5 minutos]</div>\n",
    "<div style=\"text-align:justify;font-size:1.2em;color:red;font-family:verdana\"> Utiliza la declaraciones o comandos \"if\", \"else\" y \"elif\" para crear código que reciba un número del 1 al 10 (integer) y lo convierta a letra (\"uno\", \"dos\", etc).</div>"
   ]
  },
  {
   "cell_type": "code",
   "execution_count": 6,
   "metadata": {},
   "outputs": [
    {
     "name": "stdout",
     "output_type": "stream",
     "text": [
      "escribe un número5\n",
      "cinco\n"
     ]
    }
   ],
   "source": [
    "# Escribe tu código aquí\n",
    "\n",
    "opcion = int(input(\"escribe un número\"))\n",
    "\n",
    "if (opcion == 1):\n",
    "    print(\"uno\")\n",
    "    \n",
    "elif (opcion == 2):\n",
    "    print(\"dos\")\n",
    "    \n",
    "elif (opcion == 3):\n",
    "    print(\"tres\")\n",
    "    \n",
    "elif (opcion == 4):\n",
    "    print(\"cuatro\")\n",
    "    \n",
    "elif (opcion == 5):\n",
    "    print(\"cinco\")\n",
    "    \n",
    "elif (opcion == 6):\n",
    "    print(\"seis\")\n",
    "    \n",
    "elif (opcion == 7):\n",
    "    print(\"siete\")\n",
    "    \n",
    "elif (opcion == 8):\n",
    "    print(\"ocho\")\n",
    "    \n",
    "elif (opcion == 9):\n",
    "    print(\"nueve\")\n",
    "\n",
    "elif (opcion == 10):\n",
    "    print(\"diez\")\n",
    "    \n",
    "# Podemos seguir agregando elifs\n",
    "    \n",
    "else:\n",
    "    print(\"Opción no soportada\")\n"
   ]
  },
  {
   "cell_type": "markdown",
   "metadata": {},
   "source": [
    "\n"
   ]
  },
  {
   "cell_type": "markdown",
   "metadata": {},
   "source": [
    "\n"
   ]
  },
  {
   "cell_type": "markdown",
   "metadata": {},
   "source": [
    "\n"
   ]
  },
  {
   "cell_type": "markdown",
   "metadata": {},
   "source": [
    "\n"
   ]
  },
  {
   "cell_type": "markdown",
   "metadata": {},
   "source": [
    "\n"
   ]
  },
  {
   "cell_type": "markdown",
   "metadata": {},
   "source": [
    "\n"
   ]
  }
 ],
 "metadata": {
  "kernelspec": {
   "display_name": "Python 3",
   "language": "python",
   "name": "python3"
  },
  "language_info": {
   "codemirror_mode": {
    "name": "ipython",
    "version": 3
   },
   "file_extension": ".py",
   "mimetype": "text/x-python",
   "name": "python",
   "nbconvert_exporter": "python",
   "pygments_lexer": "ipython3",
   "version": "3.7.5"
  }
 },
 "nbformat": 4,
 "nbformat_minor": 2
}
