{
 "cells": [
  {
   "cell_type": "markdown",
   "metadata": {},
   "source": [
    "### <font color='black'><div style=\"text-align: center\">2020</div></font>\n",
    "---\n",
    "![image](materials/python-logo-notext.svg)\n",
    "# <div style=\"text-align:center;font-size:1.8em;color:purple;font-family:verdana\">CURSO BÁSICO DE PYTHON</div>\n",
    "## <div style=\"text-align:center;font-size:1.2em;color:purple;font-family:verdana\">DÍA 2</div>\n",
    "\n",
    "<div font color='gray'><div style=\"text-align: center\">AXTEL</div>"
   ]
  },
  {
   "cell_type": "markdown",
   "metadata": {},
   "source": [
    "\n",
    "# <div style=\"text-align:center;font-size:1.1em;color:purple;font-family:verdana\">10. CONEXIÓN REMOTA A BASES DE DATOS</div>"
   ]
  },
  {
   "cell_type": "markdown",
   "metadata": {},
   "source": [
    "<div style=\"text-align:justify;font-size:1.1em;color:#2F2B29;font-family:verdana\"> Las conexiones a las bases de datos son muy comunes y necesarias. Normalmente uno se conecta con a una base de datos mediante una interfaz gráfica de usuario. Esto es muy sencillo y eficiente cuando hacemos pruebas para explorar información,\n",
    "no obstante, cuando ya sabemos la información a descargar tenemos una rutina que podría automatizarse y ahorrarnos mucho tiempo de usuario y de cómputo.</div>"
   ]
  },
  {
   "cell_type": "markdown",
   "metadata": {},
   "source": [
    "<div style=\"text-align:justify;font-size:1.1em;color:#2F2B29;font-family:verdana\">  Existen librerías integradas a python para ayudarnos con conexiones a bases de datos (por ejemplo: Oracle, mysql, PostreSQL, etc).\n",
    "Con esto es muy sencillo automatizar nuestras tareas, recabando nuestra información de manera más rápida\n",
    "y eficiente. Por ejemplo, procesar datos en excel es intuitivo y sencillo, pero cuando tenemos\n",
    "muchos registros, excel no es muy potente. Python junto con librerías de conexiones de bases de datos\n",
    "y de procesadores de inforamción (como Pandas) son ideales para este tipo de trabajo.</div>"
   ]
  },
  {
   "cell_type": "markdown",
   "metadata": {},
   "source": [
    "# MySQL"
   ]
  },
  {
   "cell_type": "markdown",
   "metadata": {},
   "source": [
    "\n"
   ]
  },
  {
   "cell_type": "markdown",
   "metadata": {},
   "source": [
    "<div style=\"text-align:justify;font-size:1.1em;color:#2F2B29;font-family:verdana\">MySQL es una base de datos relacional propiedad de Oracle, antes de la comunidad opensource. Aun existe este Fork de la comunidad que es muy bueno para el alamacenamiento de datos estructurados. Una base de datos es un sistema que gestiona volumenes\n",
    "grandes de información (registros) de manera consistente y también los tiene disponibles para consulta\n",
    "y procesamiento. Para eso, se le hacen peticiones al DBSM (DataBase System Manager), en este caso MySQL,\n",
    "en un lenguaje llamado SQL (Structured Query Language), que entiende y procesa y después ejecuta en lenguaje de máquina para \n",
    "almancenar y procesar la información. El puerto en el cual MySQL escucha estas peticiones es, por default, el 3306.</div>"
   ]
  },
  {
   "cell_type": "markdown",
   "metadata": {},
   "source": [
    "<div style=\"text-align:justify;font-size:1.1em;color:#2F2B29;font-family:verdana\">MySQL también cuenta con ciertas características de seguridad y algunas funciones especiales que nos facilitan el procesamiento de información.</div>"
   ]
  },
  {
   "cell_type": "markdown",
   "metadata": {},
   "source": [
    "#### <div style=\"text-align:justify;font-size:1.1em;color:#2F2B29;font-family:verdana\">Conexión remota usando Telnet</div>"
   ]
  },
  {
   "cell_type": "markdown",
   "metadata": {},
   "source": [
    "# Conexión Remota usando pymysql"
   ]
  },
  {
   "cell_type": "markdown",
   "metadata": {},
   "source": [
    "<div style=\"text-align:justify;font-size:1.1em;color:#2F2B29;font-family:verdana\">Para conectarnos a la base de datos utilizando python, debemos importar la librería pymysql, donde están todas las funciones y clases que nos ayudarán a gesitonar la conexión.</div>"
   ]
  },
  {
   "cell_type": "code",
   "execution_count": 2,
   "metadata": {},
   "outputs": [],
   "source": [
    "import pymysql"
   ]
  },
  {
   "cell_type": "markdown",
   "metadata": {},
   "source": [
    "\n"
   ]
  },
  {
   "cell_type": "markdown",
   "metadata": {},
   "source": [
    "# Estableciendo una Conexion a MySQL"
   ]
  },
  {
   "cell_type": "markdown",
   "metadata": {},
   "source": [
    "<div style=\"text-align:justify;font-size:1.1em;color:#2F2B29;font-family:verdana\"> Para conectarnos a MySQL desde Python, debemos, después de importar la librería pymysql, crear un objeto que nos representará la conexión con la base de datos, especificando: \n",
    "<ul> \n",
    "<li> HOSTADDRES </li>\n",
    "    <li> USER </li>\n",
    "    <li> PASSWORD </li>\n",
    "    <li> SCHEMA </li>\n",
    "</ul>\n",
    "    \n",
    "</div>"
   ]
  },
  {
   "cell_type": "code",
   "execution_count": 3,
   "metadata": {},
   "outputs": [],
   "source": [
    "import pymysql\n",
    "\n",
    "db = pymysql.connect(\"192.168.80.61\", \"python\", \"axtelpython\", \"sakila\")\n",
    "db.close()"
   ]
  },
  {
   "cell_type": "markdown",
   "metadata": {},
   "source": [
    "<div style=\"text-align:justify;font-size:1.1em;color:#2F2B29;font-family:verdana\"> Después creamos un objeto, al que llamamos cursor, que es el que ejecutará nuestros \"querys\", y con el cual interactuaremos para obtener nuestra información. </div>"
   ]
  },
  {
   "cell_type": "code",
   "execution_count": 2,
   "metadata": {},
   "outputs": [],
   "source": [
    "import pymysql\n",
    "\n",
    "db = pymysql.connect(\"192.168.80.61\", \"python\", \"axtelpython\", \"sakila\")\n",
    "cursor = db.cursor()\n",
    "db.close()"
   ]
  },
  {
   "cell_type": "markdown",
   "metadata": {},
   "source": [
    "### NOTA\n",
    "No es recomendable dejar estas variables \"Hardcoded\" o escritas explícitamente en el código debido\n",
    "a debilidades en la seguridad para la protección de la información. Es recomendable usar variables de entorno para accesar a esa información, por ejemplo la conexión de arriba se vería de una manera como esta:"
   ]
  },
  {
   "cell_type": "code",
   "execution_count": null,
   "metadata": {},
   "outputs": [],
   "source": [
    "# db = pymysql.connect(env.DB_HOST, env.DB_USER, env.DB_PWD, env.DB_SCHEMA)"
   ]
  },
  {
   "cell_type": "markdown",
   "metadata": {},
   "source": [
    "O También podrían pasarse como argumentos cuando se ejecuta desde la terminal"
   ]
  },
  {
   "cell_type": "markdown",
   "metadata": {},
   "source": [
    "# Probando la conexión al Servidor"
   ]
  },
  {
   "cell_type": "markdown",
   "metadata": {},
   "source": [
    "<div style=\"text-align:justify;font-size:1.1em;color:#2F2B29;font-family:verdana\"> Es común probar o revisar la conexión a la base de datos remota antes de empezar a construir o ejecutar nuestros querys automatizados, una manera de hacer esto es pedir la versión de la base de datos a la cual nos estamos conectando.</div>"
   ]
  },
  {
   "cell_type": "code",
   "execution_count": 3,
   "metadata": {},
   "outputs": [
    {
     "name": "stdout",
     "output_type": "stream",
     "text": [
      "Database version: ('5.7.27-0ubuntu0.16.04.1',)\n"
     ]
    }
   ],
   "source": [
    "import pymysql\n",
    "\n",
    "db = pymysql.connect(\"192.168.80.61\", \"python\", \"axtelpython\", \"sakila\")\n",
    "cursor = db.cursor()\n",
    "cursor.execute(\"SELECT VERSION()\")\n",
    "row = cursor.fetchone()\n",
    "print(\"Database version: {}\".format(row))\n",
    "db.close()"
   ]
  },
  {
   "cell_type": "markdown",
   "metadata": {},
   "source": [
    "<div style=\"text-align:justify;font-size:1.1em;color:#2F2B29;font-family:verdana\"> Como vemos en el el segmento de código anterior, hay una cosa muy importante: cerrar la conexión a la base de datos para evitarnos problemas y no tratar de abrir varias conexiones al mismo tiempo, etc.</div>"
   ]
  },
  {
   "cell_type": "markdown",
   "metadata": {},
   "source": [
    "# Métodos execute, fetchall, fetchone, fetchmany"
   ]
  },
  {
   "cell_type": "markdown",
   "metadata": {},
   "source": [
    "<div style=\"text-align:justify;font-size:1.1em;color:#2F2B29;font-family:verdana\"> El método \"execute\" manda o ejecuta el query en la base de datos a la cual estamos conectados. Este método no tiene la información en sí, hay que pedirle que nos la entregue con alguno de los métodos fetch. </div>"
   ]
  },
  {
   "cell_type": "code",
   "execution_count": 15,
   "metadata": {},
   "outputs": [
    {
     "name": "stdout",
     "output_type": "stream",
     "text": [
      "actorId: Brad\n",
      "first_name: Pitt\n",
      "last_name: 1\n"
     ]
    }
   ],
   "source": [
    "import pymysql\n",
    "\n",
    "db = pymysql.connect(\"192.168.80.61\", \"python\", \"axtelpython\", \"sakila\")\n",
    "cursor = db.cursor()\n",
    "\n",
    "sql = \"\"\"SELECT * FROM\n",
    "actor\n",
    "\"\"\"\n",
    "cursor.execute(sql)\n",
    "row = cursor.fetchone()\n",
    "print(\"actorId: {}\\nfirst_name: {}\\nlast_name: {}\".format(row[0], row[1], row[2]))\n",
    "db.close()"
   ]
  },
  {
   "cell_type": "markdown",
   "metadata": {},
   "source": [
    "<div style=\"text-align:justify;font-size:1.1em;color:#2F2B29;font-family:verdana\"> ¿Qué nos devuelve el método fetchone? El método fetchone nos devuelve sólo un registro (el primero) del query completo, en forma de tupla. Podemos accesar a los diferentes campos de la tupla por medio de indexación.</div>"
   ]
  },
  {
   "cell_type": "markdown",
   "metadata": {},
   "source": [
    "<div style=\"text-align:justify;font-size:1.1em;color:#2F2B29;font-family:verdana\"> De manera similar, los métodos fetchall y fetchmany nos regresan todos los registros o una cantidad determinada de registros en forma de tupla..</div>"
   ]
  },
  {
   "cell_type": "code",
   "execution_count": 21,
   "metadata": {
    "scrolled": true
   },
   "outputs": [
    {
     "name": "stdout",
     "output_type": "stream",
     "text": [
      "(('Brad', 'Pitt', 1), ('Leonardo', 'Dicaprio', 2), ('Hugo', 'Costilla', 3))\n"
     ]
    }
   ],
   "source": [
    "import pymysql\n",
    "\n",
    "db = pymysql.connect(\"192.168.80.61\", \"python\", \"axtelpython\", \"sakila\")\n",
    "cursor = db.cursor()\n",
    "\n",
    "sql = \"\"\"SELECT * FROM\n",
    "actor \n",
    "\"\"\"\n",
    "cursor.execute(sql)\n",
    "data = cursor.fetchmany(size = 10)\n",
    "print(data)\n",
    "db.close()"
   ]
  },
  {
   "cell_type": "markdown",
   "metadata": {},
   "source": [
    "<div style=\"text-align:justify;font-size:1.1em;color:#2F2B29;font-family:verdana\"> La forma en la que imprimimos los datos no es la óptima o la más bonita, no obstante la información está ordenada y estructurada de manera consistente. Podríamos imprimir la información de mejor manera haciendo:</div>"
   ]
  },
  {
   "cell_type": "code",
   "execution_count": 62,
   "metadata": {
    "scrolled": true
   },
   "outputs": [
    {
     "name": "stdout",
     "output_type": "stream",
     "text": [
      "('Brad', 'Martinez', 1)\n",
      "('Leonardo', 'Dicaprio', 2)\n",
      "('Hugo', 'Costilla', 3)\n",
      "('Hernan', 'Martinez', 4)\n"
     ]
    }
   ],
   "source": [
    "import pymysql\n",
    "\n",
    "db = pymysql.connect(\"192.168.80.61\", \"python\", \"axtelpython\", \"sakila\")\n",
    "cursor = db.cursor()\n",
    "\n",
    "sql = \"\"\"SELECT * FROM\n",
    "actor\n",
    "\"\"\"\n",
    "cursor.execute(sql)\n",
    "data = cursor.fetchmany(size = 10)\n",
    "\n",
    "for row in data:\n",
    "    print(row)\n",
    "db.close()"
   ]
  },
  {
   "cell_type": "markdown",
   "metadata": {},
   "source": [
    "O imprimiendo solo ciertos valores específicos, digamos apellido y nombre:"
   ]
  },
  {
   "cell_type": "code",
   "execution_count": 26,
   "metadata": {
    "scrolled": true
   },
   "outputs": [
    {
     "name": "stdout",
     "output_type": "stream",
     "text": [
      "0\tPitt      \t         1\n",
      "1\tDicaprio  \t         2\n",
      "2\tCostilla  \t         3\n"
     ]
    }
   ],
   "source": [
    "import pymysql\n",
    "\n",
    "db = pymysql.connect(\"192.168.80.61\", \"python\", \"axtelpython\", \"sakila\")\n",
    "cursor = db.cursor()\n",
    "\n",
    "sql = \"\"\"SELECT * FROM\n",
    "actor\n",
    "\"\"\"\n",
    "cursor.execute(sql)\n",
    "data = cursor.fetchmany(size = 10)\n",
    "\n",
    "# la función enumerate le asigna un valor entero a cada elemento del conjunto al cual estamos enumerando\n",
    "# se enumera desde el 0 hasta los numero de elementos - 1, en incrementos de 1 en 1\n",
    "for i, row in enumerate(data):\n",
    "    print(\"{:1}\\t{:10}\\t{:10}\".format(i, row[1], row[2]))\n",
    "db.close()"
   ]
  },
  {
   "cell_type": "markdown",
   "metadata": {},
   "source": [
    "<img src=\"materials/notepad.svg\" style=\"width: 150px;\"/>\n"
   ]
  },
  {
   "cell_type": "markdown",
   "metadata": {},
   "source": [
    "#### <div style=\"text-align:CENTER;font-size:1.3em;color:red;font-family:verdana\"> EJERCICIO 10.1-1</div>\n",
    "<div style=\"text-align:justify;font-size:1.2em;color:red;font-family:verdana\"> De el código anterior, copia y modifica para que entregue todos los registros y los imprima con el INDICE COMENZANDO DESDE 1 y no de 0.</div>"
   ]
  },
  {
   "cell_type": "code",
   "execution_count": 47,
   "metadata": {},
   "outputs": [
    {
     "name": "stdout",
     "output_type": "stream",
     "text": [
      "0\tPitt      \t         1\n",
      "1\tDicaprio  \t         2\n",
      "2\tCostilla  \t         3\n"
     ]
    },
    {
     "ename": "TypeError",
     "evalue": "unsupported format string passed to NoneType.__format__",
     "output_type": "error",
     "traceback": [
      "\u001b[1;31m---------------------------------------------------------------------------\u001b[0m",
      "\u001b[1;31mTypeError\u001b[0m                                 Traceback (most recent call last)",
      "\u001b[1;32m<ipython-input-47-18c172441434>\u001b[0m in \u001b[0;36m<module>\u001b[1;34m()\u001b[0m\n\u001b[0;32m     15\u001b[0m \u001b[1;31m# se enumera desde el 0 hasta los numero de elementos - 1, en incrementos de 1 en 1\u001b[0m\u001b[1;33m\u001b[0m\u001b[1;33m\u001b[0m\u001b[0m\n\u001b[0;32m     16\u001b[0m \u001b[1;32mfor\u001b[0m \u001b[0mi\u001b[0m\u001b[1;33m,\u001b[0m \u001b[0mrow\u001b[0m \u001b[1;32min\u001b[0m \u001b[0menumerate\u001b[0m\u001b[1;33m(\u001b[0m\u001b[0mdata\u001b[0m\u001b[1;33m)\u001b[0m\u001b[1;33m:\u001b[0m\u001b[1;33m\u001b[0m\u001b[0m\n\u001b[1;32m---> 17\u001b[1;33m     \u001b[0mprint\u001b[0m\u001b[1;33m(\u001b[0m\u001b[1;34m\"{:1}\\t{:10}\\t{:10}\"\u001b[0m\u001b[1;33m.\u001b[0m\u001b[0mformat\u001b[0m\u001b[1;33m(\u001b[0m\u001b[0mi\u001b[0m\u001b[1;33m,\u001b[0m \u001b[0mrow\u001b[0m\u001b[1;33m[\u001b[0m\u001b[1;36m1\u001b[0m\u001b[1;33m]\u001b[0m\u001b[1;33m,\u001b[0m \u001b[0mrow\u001b[0m\u001b[1;33m[\u001b[0m\u001b[1;36m2\u001b[0m\u001b[1;33m]\u001b[0m\u001b[1;33m)\u001b[0m\u001b[1;33m)\u001b[0m\u001b[1;33m\u001b[0m\u001b[0m\n\u001b[0m\u001b[0;32m     18\u001b[0m \u001b[0mdb\u001b[0m\u001b[1;33m.\u001b[0m\u001b[0mclose\u001b[0m\u001b[1;33m(\u001b[0m\u001b[1;33m)\u001b[0m\u001b[1;33m\u001b[0m\u001b[0m\n",
      "\u001b[1;31mTypeError\u001b[0m: unsupported format string passed to NoneType.__format__"
     ]
    }
   ],
   "source": [
    "# Escribe tu código aquí\n",
    "\n",
    "import pymysql\n",
    "\n",
    "db = pymysql.connect(\"192.168.80.61\", \"python\", \"axtelpython\", \"sakila\")\n",
    "cursor = db.cursor()\n",
    "\n",
    "sql = \"\"\"SELECT * FROM\n",
    "actor\n",
    "\"\"\"\n",
    "cursor.execute(sql)\n",
    "data = cursor.fetchmany(size = 10)\n",
    "\n",
    "# la función enumerate le asigna un valor entero a cada elemento del conjunto al cual estamos enumerando\n",
    "# se enumera desde el 0 hasta los numero de elementos - 1, en incrementos de 1 en 1\n",
    "for i, row in enumerate(data):\n",
    "    print(\"{:1}\\t{:10}\\t{:10}\".format(i, row[1], row[2]))\n",
    "db.close()"
   ]
  },
  {
   "cell_type": "markdown",
   "metadata": {},
   "source": [
    "\n"
   ]
  },
  {
   "cell_type": "markdown",
   "metadata": {},
   "source": [
    "\n"
   ]
  },
  {
   "cell_type": "markdown",
   "metadata": {},
   "source": [
    "\n"
   ]
  },
  {
   "cell_type": "markdown",
   "metadata": {},
   "source": [
    "# Insertando registros [de manera segura]"
   ]
  },
  {
   "cell_type": "markdown",
   "metadata": {},
   "source": [
    "<div style=\"text-align:justify;font-size:1.1em;color:#2F2B29;font-family:verdana\"> Para insertar registros seguimos utilizando el método execute. También es de mucha importancia mantener la integridad y consistencia de los datos que insertamos a una base de datos. Existen los métodos RollBack y Commit para revertir o confirmar los cambios que se hacen en la base de datos.\n",
    "<br>\n",
    "    <br>\n",
    "Normalmente el RollBack se hace en automático al detectar un error o alguna inconsistencia durante la inserción o modificación de los datos. El commit se hace cuando no se encuentran errores y estamos seguros que la información que modificamos es correcta</div>"
   ]
  },
  {
   "cell_type": "code",
   "execution_count": 46,
   "metadata": {
    "scrolled": true
   },
   "outputs": [
    {
     "name": "stdout",
     "output_type": "stream",
     "text": [
      "Values inserted succesfully...\n"
     ]
    }
   ],
   "source": [
    "import pymysql\n",
    "\n",
    "\n",
    "db = pymysql.connect(\"192.168.80.61\", \"python\", \"axtelpython\", \"sakila\")\n",
    "cursor = db.cursor()\n",
    "\n",
    "\n",
    "sql = \"\"\"INSERT INTO actor\n",
    "VALUES ('Hernan', 'Martinez',4)\n",
    "\"\"\"\n",
    "\n",
    "try:\n",
    "    cursor.execute(sql)\n",
    "    db.commit()\n",
    "    print(\"Values inserted succesfully...\")\n",
    "except Exception as e:\n",
    "    print(\"Error ocurred in database during insertion:\\n\")\n",
    "    print(e)\n",
    "    db.rollback()\n",
    "db.close()"
   ]
  },
  {
   "cell_type": "markdown",
   "metadata": {},
   "source": [
    "<img src=\"materials/notepad.svg\" style=\"width: 150px;\"/>\n"
   ]
  },
  {
   "cell_type": "markdown",
   "metadata": {},
   "source": [
    "#### <div style=\"text-align:CENTER;font-size:1.3em;color:red;font-family:verdana\"> EJERCICIO 10.2</div>\n",
    "<div style=\"text-align:justify;font-size:1.2em;color:red;font-family:verdana\"> Inserta de manera segura tu nombre, apellido, departamento, edad y color favorito de manera segura en la tabla users del esquema pybase. </div>"
   ]
  },
  {
   "cell_type": "markdown",
   "metadata": {},
   "source": [
    "# Borrando registros"
   ]
  },
  {
   "cell_type": "markdown",
   "metadata": {},
   "source": [
    "<div style=\"text-align:justify;font-size:1.1em;color:#2F2B29;font-family:verdana\"> Para borrar información usamos los mismos métodos (solo cambiamos nuestro SQL) y las misma manera de manejar errores: </div>"
   ]
  },
  {
   "cell_type": "code",
   "execution_count": 50,
   "metadata": {},
   "outputs": [
    {
     "name": "stdout",
     "output_type": "stream",
     "text": [
      "Values deleted succesfully...\n"
     ]
    }
   ],
   "source": [
    "import pymysql\n",
    "\n",
    "\n",
    "db = pymysql.connect(\"192.168.80.61\",\"python\", \"axtelpython\", \"sakila\")\n",
    "cursor = db.cursor()\n",
    "\n",
    "\n",
    "sql = \"\"\"DELETE FROM actor\n",
    "WHERE actorId = {}\n",
    "\"\"\".format(5)\n",
    "\n",
    "try:\n",
    "    cursor.execute(sql)\n",
    "    db.commit()\n",
    "    print(\"Values deleted succesfully...\")\n",
    "except Exception as e:\n",
    "    print(\"Error ocurred in database during insertion:\\n\")\n",
    "    print(e)\n",
    "    db.rollback()\n",
    "db.close()"
   ]
  },
  {
   "cell_type": "markdown",
   "metadata": {},
   "source": [
    "# Update"
   ]
  },
  {
   "cell_type": "markdown",
   "metadata": {},
   "source": [
    "<div style=\"text-align:justify;font-size:1.1em;color:#2F2B29;font-family:verdana\"> De igual manera, para hacer un update en la base de datos utilizamos execute: </div>"
   ]
  },
  {
   "cell_type": "code",
   "execution_count": 61,
   "metadata": {},
   "outputs": [
    {
     "name": "stdout",
     "output_type": "stream",
     "text": [
      "Values updated succesfully...\n"
     ]
    }
   ],
   "source": [
    "import pymysql\n",
    "\n",
    "\n",
    "db = pymysql.connect(\"192.168.80.61\", \"python\", \"axtelpython\", \"sakila\")\n",
    "cursor = db.cursor()\n",
    "\n",
    "\n",
    "sql = \"\"\"UPDATE actor\n",
    "SET last_name = 'Martinez'\n",
    "WHERE actorId = {}\n",
    "\"\"\".format( 1)\n",
    "\n",
    "try:\n",
    "    cursor.execute(sql)\n",
    "    db.commit()\n",
    "    print(\"Values updated succesfully...\")\n",
    "except Exception as e:\n",
    "    print(\"Error ocurred in database during insertion:\\n\")\n",
    "    print(e)\n",
    "    db.rollback()\n",
    "db.close()"
   ]
  },
  {
   "cell_type": "markdown",
   "metadata": {},
   "source": [
    "<img src=\"materials/notepad.svg\" style=\"width: 150px;\"/>\n"
   ]
  },
  {
   "cell_type": "markdown",
   "metadata": {},
   "source": [
    "#### <div style=\"text-align:CENTER;font-size:1.3em;color:red;font-family:verdana\"> EJERCICIO 10.3</div>\n",
    "<div style=\"text-align:justify;font-size:1.2em;color:red;font-family:verdana\"> Modifica el campo favorite_color de tu compañero de alado a tu color favorito (modifica  el campo del registro que describe a tu compañero). </div>"
   ]
  },
  {
   "cell_type": "markdown",
   "metadata": {},
   "source": [
    "# Crear una tabla en la base de datos"
   ]
  },
  {
   "cell_type": "code",
   "execution_count": 65,
   "metadata": {},
   "outputs": [
    {
     "name": "stdout",
     "output_type": "stream",
     "text": [
      "Table creation succesfull...\n"
     ]
    }
   ],
   "source": [
    "import pymysql\n",
    "\n",
    "\n",
    "db = pymysql.connect(\"192.168.80.61\", \"python\", \"axtelpython\", \"sakila\")\n",
    "cursor = db.cursor()\n",
    "\n",
    "\n",
    "sql_drop = \"\"\"\n",
    "DROP TABLE IF EXISTS casa\n",
    "\"\"\"\n",
    "\n",
    "sql_create = \"\"\"\n",
    "CREATE TABLE casa(\n",
    "        FIRST_NAME CHAR(20) NOT NULL,\n",
    "        LAST_NAME CHAR(20),\n",
    "        AGE INT,\n",
    "        SEX CHAR(1),\n",
    "        INCOME FLOAT)\n",
    "\"\"\"\n",
    "try:\n",
    "    cursor.execute(sql_drop)\n",
    "    cursor.execute(sql_create)\n",
    "    db.commit()\n",
    "    print(\"Table creation succesfull...\")\n",
    "except Exception as e:\n",
    "    print(\"Error ocurred in database during table creation:\\n\")\n",
    "    print(e)\n",
    "    db.rollback()\n",
    "db.close()"
   ]
  },
  {
   "cell_type": "markdown",
   "metadata": {},
   "source": [
    "# Cargando un archivo CSV a la base de datos"
   ]
  },
  {
   "cell_type": "code",
   "execution_count": null,
   "metadata": {},
   "outputs": [],
   "source": [
    "import pymysql\n",
    "import csv\n",
    "\n",
    "db = pymysql.connect(\"localhost\", \"python\", \"axtelpython\", \"pybase\")\n",
    "cursor = db.cursor()\n",
    "\n",
    "file = open(\"materials/salary.csv\", 'r')\n",
    "csv_data = csv.reader(file, delimiter=',')\n",
    "\n",
    "sql = \"\"\"INSERT INTO salary_upload(employee_name, age, phone_number, salary)\n",
    "VALUES({!r}, {}, {!r}, {})\n",
    "\"\"\"\n",
    "\n",
    "try:\n",
    "    for row in csv_data:\n",
    "        cursor.execute(sql.format(row[0], row[1], row[2], row[3]))\n",
    "    db.commit()\n",
    "    print(\"CSV file loaded succesfully\")\n",
    "except Exception as e:\n",
    "    \n",
    "    print(\"Error ocurred in database during csv upload:\")\n",
    "    print(e)\n",
    "    db.rollback()\n",
    "    print(\"Rollback executed...\")\n",
    "\n",
    "cursor.close()\n",
    "db.close()\n"
   ]
  },
  {
   "cell_type": "markdown",
   "metadata": {},
   "source": [
    "<img src=\"materials/notepad.svg\" style=\"width: 150px;\"/>\n"
   ]
  },
  {
   "cell_type": "markdown",
   "metadata": {},
   "source": [
    "#### <div style=\"text-align:CENTER;font-size:1.3em;color:red;font-family:verdana\"> EJERCICIO 10.4</div>\n",
    "<div style=\"text-align:justify;font-size:1.2em;color:red;font-family:verdana\"> Modifica el Código de arriba para que imprima cuantos registros a cargado cada 5 registros. Ejemplo:  \n",
    "<br>\n",
    "<br>\n",
    "[INFO]  5 rows inserted...<br>\n",
    "[INFO] 10 rows inserted...<br>\n",
    "[INFO] 15 rows inserted...<br>\n",
    "</div>"
   ]
  },
  {
   "cell_type": "code",
   "execution_count": null,
   "metadata": {},
   "outputs": [],
   "source": [
    "# escribe tu código aquí"
   ]
  }
 ],
 "metadata": {
  "kernelspec": {
   "display_name": "Python 3",
   "language": "python",
   "name": "python3"
  },
  "language_info": {
   "codemirror_mode": {
    "name": "ipython",
    "version": 3
   },
   "file_extension": ".py",
   "mimetype": "text/x-python",
   "name": "python",
   "nbconvert_exporter": "python",
   "pygments_lexer": "ipython3",
   "version": "3.7.5"
  }
 },
 "nbformat": 4,
 "nbformat_minor": 2
}
