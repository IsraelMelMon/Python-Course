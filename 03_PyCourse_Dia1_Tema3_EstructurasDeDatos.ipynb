{
 "cells": [
  {
   "cell_type": "markdown",
   "metadata": {},
   "source": [
    "### <font color='black'><div style=\"text-align: center\">2020</div></font>\n",
    "---\n",
    "![image](materials/python-logo-notext.svg)\n",
    "# <div style=\"text-align:center;font-size:1.8em;color:orange;font-family:verdana\">CURSO BÁSICO DE PYTHON</div>\n",
    "## <div style=\"text-align:center;font-size:1.2em;color:orange;font-family:verdana\">DÍA 1</div>\n",
    "\n",
    "<div font color='gray'><div style=\"text-align: center\">AXTEL</div>\n"
   ]
  },
  {
   "cell_type": "markdown",
   "metadata": {},
   "source": [
    "\n",
    "# <div style=\"text-align:center;font-size:1.1em;color:orange;font-family:verdana\">3. ESTRUCTURAS DE DATOS </div>\n"
   ]
  },
  {
   "cell_type": "markdown",
   "metadata": {},
   "source": [
    "<div style=\"text-align:justify;font-size:1.1em;color:#2F2B29;font-family:verdana\"> Una estructura de datos es un conjunto de objetos que son considerados una sola entidad. Esto facilita el manipular muchos objetos relacionados entre sí, aunque también es posible manipular valores específicos de la estructura. </div>"
   ]
  },
  {
   "cell_type": "markdown",
   "metadata": {},
   "source": [
    "<div style=\"text-align:justify;font-size:1.1em;color:#2F2B29;font-family:verdana\"> En este curso nos enfocaremos en 3 de estas estructuras: </div>\n",
    "\n",
    "- Strings\n",
    "- Listas\n",
    "- Diccionarios"
   ]
  },
  {
   "cell_type": "markdown",
   "metadata": {},
   "source": [
    "## <div style=\"text-align:left;font-size:1.1em;color:#666666;font-family:verdana\">3.1 STRINGS (CADENAS DE CARACTERES)</div>\n"
   ]
  },
  {
   "cell_type": "markdown",
   "metadata": {},
   "source": [
    "<div style=\"text-align:justify;font-size:1.1em;color:#2F2B29;font-family:verdana\"> Ya anteriormente habíamos mencionado que las \"variables\" del tipo \"string\" eran realmente estructuras de datos. Un \"string\" es realmente un conjunto de objetos de tipo \"caracter\", aunque este tipo en sí no podemos encontrarlo en Python. </div>"
   ]
  },
  {
   "cell_type": "markdown",
   "metadata": {},
   "source": [
    "<div style=\"text-align:justify;font-size:1.1em;color:#2F2B29;font-family:verdana\"> Pero, ¿cómo afecta a un string el hecho de ser un conjunto de datos?</div>"
   ]
  },
  {
   "cell_type": "markdown",
   "metadata": {},
   "source": [
    "<div style=\"text-align:justify;font-size:1.1em;color:#2F2B29;font-family:verdana\"> Debido a que es una estructura, un string está sujeto a métodos especiales que pueden resultar muy convenientes al momento de manipular información. Aquí veremos 2 muy importantes: </div>\n",
    "\n",
    "- Indexing\n",
    "- Slicing"
   ]
  },
  {
   "cell_type": "markdown",
   "metadata": {},
   "source": [
    "# String Indexing"
   ]
  },
  {
   "cell_type": "markdown",
   "metadata": {},
   "source": [
    "<div style=\"text-align:justify;font-size:1.1em;color:#2F2B29;font-family:verdana\"> Repasemos primeramente el uso de los strings. Para asignarlos a una variable, es necesario utilizar comillas: </div>"
   ]
  },
  {
   "cell_type": "code",
   "execution_count": 3,
   "metadata": {},
   "outputs": [
    {
     "name": "stdout",
     "output_type": "stream",
     "text": [
      "Juan\n"
     ]
    }
   ],
   "source": [
    "a = \"Juan\"\n",
    "\n",
    "print(a)"
   ]
  },
  {
   "cell_type": "markdown",
   "metadata": {},
   "source": [
    "<div style=\"text-align:justify;font-size:1.1em;color:#2F2B29;font-family:verdana\"> Ahora, recordemos que mencionamos que un \"string\" es un conjunto de carácteres. En el ejemplo anterior, el string \"Juan\" es realmente un conjunto de cuatro letras: \"J\", \"u\", \"a\" y \"n\". Mediante una función podemos invocar cualquier letra del nombre utilizando el índice como referencia. Pero, ¿cuál es este índice?</div>"
   ]
  },
  {
   "cell_type": "markdown",
   "metadata": {},
   "source": [
    "<div style=\"text-align:justify;font-size:1.1em;color:#2F2B29;font-family:verdana\"> Un índice indica la posición en la que se encuentra el objeto dentro de la estructura de datos.</div>"
   ]
  },
  {
   "cell_type": "markdown",
   "metadata": {},
   "source": [
    "<div style=\"text-align:justify;font-size:1.1em;color:#2F2B29;font-family:verdana\"> ¿Qué índice tendrá la letra \"a\" en el string con valor \"Juan\"?</div>"
   ]
  },
  {
   "cell_type": "markdown",
   "metadata": {},
   "source": [
    "<div style=\"text-align:justify;font-size:1.1em;color:#2F2B29;font-family:verdana\"> Algo importante que debemos saber al utilizar los índices es que estos comienzan con el valor \"0\" en lugar de \"1\". Entonces, los índices del string \"Juan\" quedarían así:</div>"
   ]
  },
  {
   "cell_type": "markdown",
   "metadata": {},
   "source": [
    "<img src=\"materials/strings.svg\" style=\"width: 420px;\"/>\n",
    "\n"
   ]
  },
  {
   "cell_type": "markdown",
   "metadata": {},
   "source": [
    "<div style=\"text-align:justify;font-size:1.1em;color:#2F2B29;font-family:verdana\"> Entonces, el caracter \"a\" tendría un índice con valor \"2\".</div>"
   ]
  },
  {
   "cell_type": "markdown",
   "metadata": {},
   "source": [
    "<div style=\"text-align:justify;font-size:1.1em;color:#2F2B29;font-family:verdana\"> Para utilizar este método, colocamos corchetes después del nombre de la variable o string, los cuales deben contener el índice del caracter al que queremos acceder. Por ejemplo, para sustraer el valor del caracter con índice 2 del string \"Juan\" haremos lo siguiente: </div>"
   ]
  },
  {
   "cell_type": "code",
   "execution_count": 4,
   "metadata": {},
   "outputs": [
    {
     "data": {
      "text/plain": [
       "'a'"
      ]
     },
     "execution_count": 4,
     "metadata": {},
     "output_type": "execute_result"
    }
   ],
   "source": [
    "\"Juan\"[2]"
   ]
  },
  {
   "cell_type": "markdown",
   "metadata": {},
   "source": [
    "<div style=\"text-align:justify;font-size:1.1em;color:#2F2B29;font-family:verdana\"> Podemos aplicar el mismo procedimiento utilizando variables para contener los valores:</div>"
   ]
  },
  {
   "cell_type": "code",
   "execution_count": 5,
   "metadata": {},
   "outputs": [
    {
     "name": "stdout",
     "output_type": "stream",
     "text": [
      "P\n"
     ]
    }
   ],
   "source": [
    "nombre = \"Juan Perez\"\n",
    "caracter = nombre[5]\n",
    "print(caracter)"
   ]
  },
  {
   "cell_type": "markdown",
   "metadata": {},
   "source": [
    "<div style=\"text-align:justify;font-size:1.1em;color:#2F2B29;font-family:verdana\">El espacio en blanco también cuenta como \"string\" y también ocupa un espacio en el índice.  </div>"
   ]
  },
  {
   "cell_type": "markdown",
   "metadata": {},
   "source": [
    "<img src=\"materials/notepad.svg\" style=\"width: 150px;\"/>\n"
   ]
  },
  {
   "cell_type": "markdown",
   "metadata": {},
   "source": [
    "#### <div style=\"text-align:CENTER;font-size:1.3em;color:red;font-family:verdana\"> EJERCICIO 3.1-1 [2 minutos]</div>\n",
    "<div style=\"text-align:justify;font-size:1.2em;color:red;font-family:verdana\"> Utiliza el método de indexing sobre el string en el siguiente ejemplo para imprimir los caracteres con los siguientes índices: 1, 6, 20 y 25.\n",
    "</div>"
   ]
  },
  {
   "cell_type": "code",
   "execution_count": 6,
   "metadata": {},
   "outputs": [
    {
     "name": "stdout",
     "output_type": "stream",
     "text": [
      "a a k s\n"
     ]
    }
   ],
   "source": [
    "# Escribe tu código aquí\n",
    "# ...\n",
    "a = \"Wakanda por siempre\"\n",
    "print(a[1],a[6],a[2],a[12])"
   ]
  },
  {
   "cell_type": "markdown",
   "metadata": {},
   "source": [
    "\n"
   ]
  },
  {
   "cell_type": "markdown",
   "metadata": {},
   "source": [
    "# String Slicing"
   ]
  },
  {
   "cell_type": "markdown",
   "metadata": {},
   "source": [
    "<div style=\"text-align:justify;font-size:1.1em;color:#2F2B29;font-family:verdana\"> Si queremos extraer el valor de varios índices a la vez, utilizaremos el método \"slicing\". </div>"
   ]
  },
  {
   "cell_type": "markdown",
   "metadata": {},
   "source": [
    "<div style=\"text-align:justify;font-size:1.1em;color:#2F2B29;font-family:verdana\"> Para esto, utilizaremos un formato muy similar al de indexing, pero dentro de los corchetes esribiremos primeramente el índice de comienzo y luego el índice de terminación, separados por dos puntos (:) : </div>"
   ]
  },
  {
   "cell_type": "code",
   "execution_count": 7,
   "metadata": {},
   "outputs": [
    {
     "data": {
      "text/plain": [
       "'ua'"
      ]
     },
     "execution_count": 7,
     "metadata": {},
     "output_type": "execute_result"
    }
   ],
   "source": [
    "\"Juan\"[1:3]\n"
   ]
  },
  {
   "cell_type": "markdown",
   "metadata": {},
   "source": [
    "<div style=\"text-align:justify;font-size:1.1em;color:#2F2B29;font-family:verdana\"> Algo importante es que el \"corte\" de los caracteres llega a un número antes del índice especificado como final:</div>"
   ]
  },
  {
   "cell_type": "markdown",
   "metadata": {},
   "source": [
    "<img src=\"materials/strings3.svg\" style=\"width: 480px;\"/>\n"
   ]
  },
  {
   "cell_type": "markdown",
   "metadata": {},
   "source": [
    "<img src=\"materials/notepad.svg\" style=\"width: 150px;\"/>\n"
   ]
  },
  {
   "cell_type": "markdown",
   "metadata": {},
   "source": [
    "#### <div style=\"text-align:CENTER;font-size:1.3em;color:red;font-family:verdana\"> EJERCICIO 3.1-2 [4 minutos]</div>\n",
    "<div style=\"text-align:justify;font-size:1.2em;color:red;font-family:verdana\"> A continuación se te proporciona un string con un nombre completo. Utiliza el método de slicing para imprimir el nombre, primer apellido y segundo apellido por separado. </div>"
   ]
  },
  {
   "cell_type": "code",
   "execution_count": 12,
   "metadata": {},
   "outputs": [
    {
     "name": "stdout",
     "output_type": "stream",
     "text": [
      "Hugo Carlos Costilla Gomez\n"
     ]
    }
   ],
   "source": [
    "# Escribe tu código aquí\n",
    "# ...\n",
    "a = \"HugoCarlosCostillaGomez\"\n",
    "print(a[0:4],a[4:10],a[10:18],a[18:23])"
   ]
  },
  {
   "cell_type": "markdown",
   "metadata": {},
   "source": [
    "\n"
   ]
  },
  {
   "cell_type": "markdown",
   "metadata": {},
   "source": [
    "\n"
   ]
  },
  {
   "cell_type": "markdown",
   "metadata": {},
   "source": [
    "\n"
   ]
  },
  {
   "cell_type": "markdown",
   "metadata": {},
   "source": [
    "## <div style=\"text-align:left;font-size:1.1em;color:#666666;font-family:verdana\">3.2 LISTAS</div>\n"
   ]
  },
  {
   "cell_type": "markdown",
   "metadata": {},
   "source": [
    "<div style=\"text-align:justify;font-size:1.1em;color:#2F2B29;font-family:verdana\"> Si deseamos crear un conjunto de objetos de otro tipo, por ejemplo, integers o booleans, utilizaremos una lista. </div>"
   ]
  },
  {
   "cell_type": "markdown",
   "metadata": {},
   "source": [
    "<div style=\"text-align:justify;font-size:1.1em;color:#2F2B29;font-family:verdana\"> Una lista es muy similar a un string en cuanto a los métodos que se pueden usar sobre ella, pero difiere en cuanto a su composición. Un ejemplo de una lista de integers sería el siguiente: </div>"
   ]
  },
  {
   "cell_type": "code",
   "execution_count": 13,
   "metadata": {},
   "outputs": [],
   "source": [
    "lista1 = [1, 2, 3]"
   ]
  },
  {
   "cell_type": "markdown",
   "metadata": {},
   "source": [
    "<div style=\"text-align:justify;font-size:1.1em;color:#2F2B29;font-family:verdana\"> Nótese que para declarar una lista es necesario declarar los valores dentro de corchetes y separados por comas. El ejemplo anterior es una lista con 3 elementos: los enteros \"1\", \"2\" y \"3\".</div>"
   ]
  },
  {
   "cell_type": "markdown",
   "metadata": {},
   "source": [
    "<img src=\"materials/notepad.svg\" style=\"width: 150px;\"/>\n"
   ]
  },
  {
   "cell_type": "markdown",
   "metadata": {},
   "source": [
    "#### <div style=\"text-align:CENTER;font-size:1.3em;color:red;font-family:verdana\"> EJERCICIO 3.1-3 [1 minuto]</div>\n",
    "<div style=\"text-align:justify;font-size:1.2em;color:red;font-family:verdana\"> Declara una lista con números enteros del 1 al 10. Imprime su valor.</div>"
   ]
  },
  {
   "cell_type": "code",
   "execution_count": 16,
   "metadata": {},
   "outputs": [
    {
     "name": "stdout",
     "output_type": "stream",
     "text": [
      "[1, 2, 3, 4, 5, 6, 7, 8, 9, 10]\n"
     ]
    }
   ],
   "source": [
    "# Escribe tu código aquí\n",
    "miLista = [1, 2, 3, 4, 5, 6, 7, 8, 9, 10]\n",
    "print(miLista)"
   ]
  },
  {
   "cell_type": "markdown",
   "metadata": {},
   "source": [
    "\n"
   ]
  },
  {
   "cell_type": "markdown",
   "metadata": {},
   "source": [
    "\n"
   ]
  },
  {
   "cell_type": "markdown",
   "metadata": {},
   "source": [
    "\n"
   ]
  },
  {
   "cell_type": "markdown",
   "metadata": {},
   "source": [
    "<img src=\"materials/notepad.svg\" style=\"width: 150px;\"/>\n"
   ]
  },
  {
   "cell_type": "markdown",
   "metadata": {},
   "source": [
    "#### <div style=\"text-align:CENTER;font-size:1.3em;color:red;font-family:verdana\"> EJERCICIO 3.1-4 [2 minutos]</div>\n",
    "<div style=\"text-align:justify;font-size:1.2em;color:red;font-family:verdana\"> Declara una lista con 5 valores \"string\" de tu elección. Imprime su valor.</div>"
   ]
  },
  {
   "cell_type": "code",
   "execution_count": 17,
   "metadata": {},
   "outputs": [
    {
     "name": "stdout",
     "output_type": "stream",
     "text": [
      "['Ironman', 'Hawkeye', 'Hulk', 'Superman', 'Black Widow']\n"
     ]
    }
   ],
   "source": [
    "# Escribe tu código aquí\n",
    "\n",
    "lista = [\"Ironman\", \"Hawkeye\", \"Hulk\", \"Superman\", \"Black Widow\"]\n",
    "print(lista)"
   ]
  },
  {
   "cell_type": "markdown",
   "metadata": {},
   "source": [
    "\n"
   ]
  },
  {
   "cell_type": "markdown",
   "metadata": {},
   "source": [
    "\n"
   ]
  },
  {
   "cell_type": "markdown",
   "metadata": {},
   "source": [
    "\n"
   ]
  },
  {
   "cell_type": "markdown",
   "metadata": {},
   "source": [
    "# Valores de las listas"
   ]
  },
  {
   "cell_type": "markdown",
   "metadata": {},
   "source": [
    "<div style=\"text-align:justify;font-size:1.1em;color:#2F2B29;font-family:verdana\"> Las listas pueden estar compuestas por valores de diferente tipo (e.g. integers, booleans, floats). \n",
    "    Una lista puede incluir incluso valores de tipo string:</div>"
   ]
  },
  {
   "cell_type": "markdown",
   "metadata": {},
   "source": [
    "\n"
   ]
  },
  {
   "cell_type": "code",
   "execution_count": 1,
   "metadata": {},
   "outputs": [
    {
     "name": "stdout",
     "output_type": "stream",
     "text": [
      "[1, 2.2, True, 'Hola mundo']\n"
     ]
    }
   ],
   "source": [
    "lista1 = [1, 2.2, True,\"Hola mundo\"]\n",
    "\n",
    "print(lista1)"
   ]
  },
  {
   "cell_type": "markdown",
   "metadata": {},
   "source": [
    "\n"
   ]
  },
  {
   "cell_type": "markdown",
   "metadata": {},
   "source": [
    "\n"
   ]
  },
  {
   "cell_type": "markdown",
   "metadata": {},
   "source": [
    "# Indexing  con Listas"
   ]
  },
  {
   "cell_type": "markdown",
   "metadata": {},
   "source": [
    "<div style=\"text-align:justify;font-size:1.1em;color:#2F2B29;font-family:verdana\"> Los métodos de indice y \"slicing\" se utilizan de la misma manera que con los \"strings\". Recordemos la manera en la que se manejan los índices utilizando un ejemplo:</div>"
   ]
  },
  {
   "cell_type": "code",
   "execution_count": null,
   "metadata": {},
   "outputs": [],
   "source": [
    "lista1 = [2, 6, 9, 10]"
   ]
  },
  {
   "cell_type": "markdown",
   "metadata": {},
   "source": [
    "<div style=\"text-align:justify;font-size:1.1em;color:#2F2B29;font-family:verdana\"> Los indices serían los siguientes:</div>"
   ]
  },
  {
   "cell_type": "markdown",
   "metadata": {},
   "source": [
    "<img src=\"materials/strings2.svg\" style=\"width: 420px;\"/>\n"
   ]
  },
  {
   "cell_type": "markdown",
   "metadata": {},
   "source": [
    "<div style=\"text-align:justify;font-size:1.1em;color:#2F2B29;font-family:verdana\"> Usamos el método indexing de la misma manera que los \"strings\". Por ejemplo, si queremos imprimir el segundo valor en la lista haríamos lo siguiente:</div>"
   ]
  },
  {
   "cell_type": "code",
   "execution_count": 19,
   "metadata": {},
   "outputs": [
    {
     "name": "stdout",
     "output_type": "stream",
     "text": [
      "6\n"
     ]
    }
   ],
   "source": [
    "lista1 = [2, 6, 9, 10]\n",
    "\n",
    "print(lista1[1])"
   ]
  },
  {
   "cell_type": "markdown",
   "metadata": {},
   "source": [
    "<img src=\"materials/notepad.svg\" style=\"width: 150px;\"/>\n"
   ]
  },
  {
   "cell_type": "markdown",
   "metadata": {},
   "source": [
    "#### <div style=\"text-align:CENTER;font-size:1.3em;color:red;font-family:verdana\"> EJERCICIO 3.1-4 [4 minutos]</div>\n",
    "<div style=\"text-align:justify;font-size:1.2em;color:red;font-family:verdana\"> Utiliza el método de indexing sobre la lista en el siguiente ejemplo para imprimir el valor del primer, segundo, cuarto, quinto y septimo objeto.\n",
    "</div>"
   ]
  },
  {
   "cell_type": "code",
   "execution_count": 20,
   "metadata": {},
   "outputs": [
    {
     "name": "stdout",
     "output_type": "stream",
     "text": [
      "10 9 7 seis 4\n"
     ]
    }
   ],
   "source": [
    "# Escribe tu código aquí\n",
    "lista = [10, 9 , 8, 7, \"seis\", \"im justice\", \"4\", 3, 2, 1]\n",
    "print(lista[0],lista[1],lista[3],lista[4],lista[6])\n"
   ]
  },
  {
   "cell_type": "markdown",
   "metadata": {},
   "source": [
    "\n"
   ]
  },
  {
   "cell_type": "markdown",
   "metadata": {},
   "source": [
    "\n"
   ]
  },
  {
   "cell_type": "markdown",
   "metadata": {},
   "source": [
    "# Agregar elementos a Listas: Append"
   ]
  },
  {
   "cell_type": "markdown",
   "metadata": {},
   "source": [
    "<div style=\"text-align:justify;font-size:1.1em;color:#2F2B29;font-family:verdana\"> Si deseamos agregar un elemento adicional a una lista, utilizamos la función \"append\".</div>"
   ]
  },
  {
   "cell_type": "markdown",
   "metadata": {},
   "source": [
    "<div style=\"text-align:justify;font-size:1.1em;color:#2F2B29;font-family:verdana\"> Esta función agregará el elemento al final de la lista. Para usarla, debemos escribir el nombre de la lista, agregar un punto y luego escribir \"append()\". Dentro del paréntesis escribiremos el valor que será agregado. Por ejemplo:</div>"
   ]
  },
  {
   "cell_type": "code",
   "execution_count": 22,
   "metadata": {},
   "outputs": [
    {
     "name": "stdout",
     "output_type": "stream",
     "text": [
      "[1, 2, 3, 'hugo']\n"
     ]
    }
   ],
   "source": [
    "lista1 = [1,2,3]\n",
    "\n",
    "lista1.append(\"hugo\")\n",
    "\n",
    "print(lista1)"
   ]
  },
  {
   "cell_type": "markdown",
   "metadata": {},
   "source": [
    "<img src=\"materials/notepad.svg\" style=\"width: 150px;\"/>\n"
   ]
  },
  {
   "cell_type": "markdown",
   "metadata": {},
   "source": [
    "#### <div style=\"text-align:CENTER;font-size:1.3em;color:red;font-family:verdana\"> EJERCICIO 3.1-5 [4 minutos]</div>\n",
    "<div style=\"text-align:justify;font-size:1.2em;color:red;font-family:verdana\"> Agrega el tercer valor de \"lista_A\" al final de \"lista_B\". Utiliza indexing y la función \"append\" para lograrlo. Imprime el valor de \"lista_B\".\n",
    "</div>"
   ]
  },
  {
   "cell_type": "code",
   "execution_count": 23,
   "metadata": {},
   "outputs": [
    {
     "name": "stdout",
     "output_type": "stream",
     "text": [
      "['uno', 'dos', 3]\n"
     ]
    }
   ],
   "source": [
    "# Escribe tu código aquí\n",
    "lista_A = [1, 2, 3]\n",
    "lista_B = [\"uno\", \"dos\"]\n",
    "lista_B.append(lista_A[2])\n",
    "print(lista_B)"
   ]
  },
  {
   "cell_type": "markdown",
   "metadata": {},
   "source": [
    "\n"
   ]
  },
  {
   "cell_type": "markdown",
   "metadata": {},
   "source": [
    "\n"
   ]
  },
  {
   "cell_type": "markdown",
   "metadata": {},
   "source": [
    "\n"
   ]
  },
  {
   "cell_type": "markdown",
   "metadata": {},
   "source": [
    "# Agregar elementos a Listas: Insert"
   ]
  },
  {
   "cell_type": "markdown",
   "metadata": {},
   "source": [
    "<div style=\"text-align:justify;font-size:1.1em;color:#2F2B29;font-family:verdana\"> La función \"append\" es muy útil, pero ¿que sucedería si queremos agregar un elemento a una lista en un lugar específico? En este caso podemos utilizar la función \"insert\", la cual nos permite especificar el lugar donde se insertará el valor.</div>"
   ]
  },
  {
   "cell_type": "markdown",
   "metadata": {},
   "source": [
    "<div style=\"text-align:justify;font-size:1.1em;color:#2F2B29;font-family:verdana\"> Esta función se usa de una manera muy similar a \"append\". Primeramente escribimos el nombre de la lista, seguido de un punto. Luego agregamos \"insert()\". Dentro del paréntesis escribiremos primeramente el lugar donde se insertará (el indice que quedará al final) y luego el valor u objeto. Estos dos valores deben ir separados por una coma. Por ejemplo:</div>"
   ]
  },
  {
   "cell_type": "code",
   "execution_count": 2,
   "metadata": {},
   "outputs": [
    {
     "name": "stdout",
     "output_type": "stream",
     "text": [
      "[1, [1, 2, 3], 3, 4, 5]\n"
     ]
    }
   ],
   "source": [
    "lista1 = [1,3,4,5]\n",
    "\n",
    "lista1.insert(1,[1,2,3]) # Aquí insertamos el valor \"[1,2,3]\" en la posición con índice \"1\"\n",
    "\n",
    "print(lista1)"
   ]
  },
  {
   "cell_type": "markdown",
   "metadata": {},
   "source": [
    "<img src=\"materials/notepad.svg\" style=\"width: 150px;\"/>\n"
   ]
  },
  {
   "cell_type": "markdown",
   "metadata": {},
   "source": [
    "#### <div style=\"text-align:CENTER;font-size:1.3em;color:red;font-family:verdana\"> EJERCICIO 3.1-6 [4 minutos]</div>\n",
    "<div style=\"text-align:justify;font-size:1.2em;color:red;font-family:verdana\"> Utiliza la función \"insert\" para modificar \"lista_A\" en la siguiente celda. Imprime su valor. El resultado debe ser el siguiente:\n",
    "</div>"
   ]
  },
  {
   "cell_type": "markdown",
   "metadata": {},
   "source": [
    "<div style=\"text-align:justify;font-size:1.2em;color:red;font-family:verdana\"> [1, 2, 3, 4, 5, 6, 7, 8, 9, 10]\n",
    "</div>"
   ]
  },
  {
   "cell_type": "code",
   "execution_count": 27,
   "metadata": {},
   "outputs": [
    {
     "name": "stdout",
     "output_type": "stream",
     "text": [
      "[1, 2, 3, 4, 5, 6, 7, 8, 9, 10]\n"
     ]
    }
   ],
   "source": [
    "# Escribe tu código aquí\n",
    "# ...\n",
    "list = [2,5,6,9]\n",
    "list.insert(0,1)\n",
    "list.insert(2,3)\n",
    "list.insert(3,4)\n",
    "list.insert(6,7)\n",
    "list.insert(7,8)\n",
    "list.insert(9,10)\n",
    "print(list)"
   ]
  },
  {
   "cell_type": "markdown",
   "metadata": {},
   "source": [
    "\n"
   ]
  },
  {
   "cell_type": "markdown",
   "metadata": {},
   "source": [
    "\n"
   ]
  },
  {
   "cell_type": "markdown",
   "metadata": {},
   "source": [
    "# Remover elementos de Listas: Remove"
   ]
  },
  {
   "cell_type": "markdown",
   "metadata": {},
   "source": [
    "<div style=\"text-align:justify;font-size:1.1em;color:#2F2B29;font-family:verdana\"> Utilizamos la función \"remove\" para elminar elementos en una lista.</div>"
   ]
  },
  {
   "cell_type": "markdown",
   "metadata": {},
   "source": [
    "<div style=\"text-align:justify;font-size:1.1em;color:#2F2B29;font-family:verdana\"> El formato para utilizar esta función es muy similar al de \"append\". Primeramente escribimos el nombre de la lista, seguido de un punto y la palabra \"remove()\". Dentro del paréntesis escribiremos el valor u objeto que queremos remover. Por ejemplo: </div>"
   ]
  },
  {
   "cell_type": "code",
   "execution_count": 4,
   "metadata": {},
   "outputs": [
    {
     "name": "stdout",
     "output_type": "stream",
     "text": [
      "[3, 4, 5, 6, 7, 6, 6]\n"
     ]
    }
   ],
   "source": [
    "lista1 = [3, 4, 5, 6, 7, 6, 6, \"soy la injusticia\"]\n",
    "\n",
    "lista1.remove(\"soy la injusticia\")\n",
    "\n",
    "print(lista1)"
   ]
  },
  {
   "cell_type": "markdown",
   "metadata": {},
   "source": [
    "<div style=\"text-align:justify;font-size:1.1em;color:#2F2B29;font-family:verdana\"> Es importante asegurarnos de que el valor que queremos remover está en la lista a modificar. De lo contrario, obtendremos un error. </div>"
   ]
  },
  {
   "cell_type": "markdown",
   "metadata": {},
   "source": [
    "<img src=\"materials/notepad.svg\" style=\"width: 150px;\"/>\n",
    "\n"
   ]
  },
  {
   "cell_type": "markdown",
   "metadata": {},
   "source": [
    "#### <div style=\"text-align:CENTER;font-size:1.3em;color:red;font-family:verdana\"> EJERCICIO 3.1-7 [2 minutos]</div>\n",
    "<div style=\"text-align:justify;font-size:1.2em;color:red;font-family:verdana\"> Utiliza la función \"remove\" para eliminar todos los objetos que no correspondan a la lista \"list_A\".\n",
    "</div>"
   ]
  },
  {
   "cell_type": "code",
   "execution_count": 32,
   "metadata": {},
   "outputs": [
    {
     "name": "stdout",
     "output_type": "stream",
     "text": [
      "[5, 4, 3, 2, 1]\n"
     ]
    }
   ],
   "source": [
    "# Escribe tu código aquí\n",
    "# ...\n",
    "listA = [1,2,3,4,5]\n",
    "listB = [5,4,3,2,1,9,8]\n",
    "listB.remove(9)\n",
    "listB.remove(8)\n",
    "print(listB)"
   ]
  },
  {
   "cell_type": "markdown",
   "metadata": {},
   "source": [
    "\n"
   ]
  },
  {
   "cell_type": "markdown",
   "metadata": {},
   "source": [
    "\n"
   ]
  },
  {
   "cell_type": "markdown",
   "metadata": {},
   "source": [
    "\n"
   ]
  },
  {
   "cell_type": "markdown",
   "metadata": {},
   "source": [
    "# Remover elementos de Listas: Pop"
   ]
  },
  {
   "cell_type": "markdown",
   "metadata": {},
   "source": [
    "<div style=\"text-align:justify;font-size:1.1em;color:#2F2B29;font-family:verdana\"> La función \"pop\" nos permite remover un elemento a partir de su índice. Si usamos \"pop\" sin especificar alguna posición, removeremos el último elemento en la lista:</div>"
   ]
  },
  {
   "cell_type": "code",
   "execution_count": 33,
   "metadata": {},
   "outputs": [
    {
     "name": "stdout",
     "output_type": "stream",
     "text": [
      "[1, 2, 3]\n"
     ]
    }
   ],
   "source": [
    "list1 = [1,2,3,4]\n",
    "\n",
    "list1.pop()\n",
    "\n",
    "print(list1)"
   ]
  },
  {
   "cell_type": "markdown",
   "metadata": {},
   "source": [
    "<div style=\"text-align:justify;font-size:1.1em;color:#2F2B29;font-family:verdana\"> Como se mencionó, es posible especificar el índice del elemento que vamos a remover escribiéndolo dentro del paréntesis después de pop:</div>"
   ]
  },
  {
   "cell_type": "code",
   "execution_count": 34,
   "metadata": {},
   "outputs": [
    {
     "name": "stdout",
     "output_type": "stream",
     "text": [
      "[1, 2, 4]\n"
     ]
    }
   ],
   "source": [
    "list1 = [1,2,3,4]\n",
    "\n",
    "list1.pop(2)\n",
    "\n",
    "print(list1)"
   ]
  },
  {
   "cell_type": "code",
   "execution_count": 35,
   "metadata": {},
   "outputs": [
    {
     "name": "stdout",
     "output_type": "stream",
     "text": [
      "[1, 2, 4]\n"
     ]
    }
   ],
   "source": [
    "list1 = [1,2,3,4]\n",
    "\n",
    "list1.pop(2)\n",
    "\n",
    "print(list1)"
   ]
  },
  {
   "cell_type": "markdown",
   "metadata": {},
   "source": [
    "<div style=\"text-align:justify;font-size:1.1em;color:#2F2B29;font-family:verdana\"> Una diferencia importante con la función \"remove\" es que \"pop\" retorna el valor que es removido. ¿Qué significa esto? Esto quiere decir que podemos usar esta función para asignar este valor removido a una variable. Por ejemplo:</div>"
   ]
  },
  {
   "cell_type": "code",
   "execution_count": 36,
   "metadata": {},
   "outputs": [
    {
     "name": "stdout",
     "output_type": "stream",
     "text": [
      "[1, 3, 4]\n",
      "2\n"
     ]
    }
   ],
   "source": [
    "list1 = [1,2,3,4]\n",
    "\n",
    "x = list1.pop(1)\n",
    "print(list1)\n",
    "print(x)"
   ]
  },
  {
   "cell_type": "markdown",
   "metadata": {},
   "source": [
    "<div style=\"text-align:justify;font-size:1.1em;color:#2F2B29;font-family:verdana\"> En el ejemplo pasado vemos como utilizando la función \"pop\" asignamos el valor del elemento removido a la variable \"x\". </div>"
   ]
  },
  {
   "cell_type": "markdown",
   "metadata": {},
   "source": [
    "<img src=\"materials/notepad.svg\" style=\"width: 150px;\"/>\n"
   ]
  },
  {
   "cell_type": "markdown",
   "metadata": {},
   "source": [
    "#### <div style=\"text-align:CENTER;font-size:1.3em;color:red;font-family:verdana\"> EJERCICIO 3.1-8 [4 minutos]</div>\n",
    "<div style=\"text-align:justify;font-size:1.2em;color:red;font-family:verdana\"> Declara una lista con valores del 1 al 10. Utiliza la función \"pop\" para remover los siguientes valores: 2, 5 y 7. Imprime el resultado. Éste deberá ser igual a lo siguiente:"
   ]
  },
  {
   "cell_type": "markdown",
   "metadata": {},
   "source": [
    "<div style=\"text-align:justify;font-size:1.2em;color:red;font-family:verdana\"> [1, 3, 4, 6, 8, 9, 10]\n",
    "</div>"
   ]
  },
  {
   "cell_type": "code",
   "execution_count": 39,
   "metadata": {},
   "outputs": [
    {
     "name": "stdout",
     "output_type": "stream",
     "text": [
      "[1, 3, 4, 6, 8, 9, 10]\n",
      "2 5 7\n",
      "[2, 5, 7]\n"
     ]
    }
   ],
   "source": [
    "# Escribe tu código aquí\n",
    "list1 = [1,2,3,4,5,6,7,8,9,10]\n",
    "list2 = []\n",
    "a = list1.pop(1)\n",
    "b = list1.pop(3)\n",
    "c = list1.pop(4)\n",
    "\n",
    "list2.append(a)\n",
    "list2.append(b)\n",
    "list2.append(c)\n",
    "\n",
    "print(list1)\n",
    "print(a,b,c)\n",
    "print(list2)"
   ]
  },
  {
   "cell_type": "markdown",
   "metadata": {},
   "source": [
    "\n"
   ]
  },
  {
   "cell_type": "markdown",
   "metadata": {},
   "source": [
    "\n"
   ]
  },
  {
   "cell_type": "markdown",
   "metadata": {},
   "source": [
    "\n"
   ]
  },
  {
   "cell_type": "markdown",
   "metadata": {},
   "source": [
    "# List Slicing"
   ]
  },
  {
   "cell_type": "markdown",
   "metadata": {},
   "source": [
    "<div style=\"text-align:justify;font-size:1.1em;color:#2F2B29;font-family:verdana\"> Podemos seleccionar diversos valores de una lista de una manera muy similar a los \"strings\":</div>"
   ]
  },
  {
   "cell_type": "code",
   "execution_count": 42,
   "metadata": {},
   "outputs": [
    {
     "data": {
      "text/plain": [
       "[3, 4, 5, 6]"
      ]
     },
     "execution_count": 42,
     "metadata": {},
     "output_type": "execute_result"
    }
   ],
   "source": [
    "list1 = [1,2,3,4,5,6]\n",
    "list1[2:6]"
   ]
  },
  {
   "cell_type": "markdown",
   "metadata": {},
   "source": [
    "<div style=\"text-align:justify;font-size:1.1em;color:#2F2B29;font-family:verdana\"> El valor resultante del \"slicing\" será una lista también: </div>"
   ]
  },
  {
   "cell_type": "code",
   "execution_count": 44,
   "metadata": {},
   "outputs": [
    {
     "name": "stdout",
     "output_type": "stream",
     "text": [
      "[1] <class 'list'>\n"
     ]
    }
   ],
   "source": [
    "list1 = [1,2,3,4,5,6]\n",
    "list2 = list1[0:1]\n",
    "print(list2,type(list2))"
   ]
  },
  {
   "cell_type": "markdown",
   "metadata": {},
   "source": [
    "<img src=\"materials/notepad.svg\" style=\"width: 150px;\"/>\n"
   ]
  },
  {
   "cell_type": "markdown",
   "metadata": {},
   "source": [
    "#### <div style=\"text-align:CENTER;font-size:1.3em;color:red;font-family:verdana\"> EJERCICIO 3.1-9 [2 minutos]</div>\n",
    "<div style=\"text-align:justify;font-size:1.2em;color:red;font-family:verdana\"> Utiliza slicing para te entregue todos los valores no numéricos de la siguiente lista:"
   ]
  },
  {
   "cell_type": "code",
   "execution_count": 46,
   "metadata": {},
   "outputs": [
    {
     "name": "stdout",
     "output_type": "stream",
     "text": [
      "['capitan america', 'she hulk', 'night monkey']\n"
     ]
    }
   ],
   "source": [
    "## Escribe codigo aqui\n",
    "\n",
    "list1 = [1,2,3,\"capitan america\", \"she hulk\", \"night monkey\", 4,5]\n",
    "print(list1[3:6])\n",
    "\n"
   ]
  },
  {
   "cell_type": "markdown",
   "metadata": {},
   "source": [
    "\n"
   ]
  },
  {
   "cell_type": "markdown",
   "metadata": {},
   "source": [
    "\n"
   ]
  },
  {
   "cell_type": "markdown",
   "metadata": {},
   "source": [
    "\n"
   ]
  },
  {
   "cell_type": "markdown",
   "metadata": {},
   "source": [
    "## <div style=\"text-align:left;font-size:1.1em;color:#666666;font-family:verdana\">3.3 DICCIONARIOS</div>\n"
   ]
  },
  {
   "cell_type": "markdown",
   "metadata": {},
   "source": [
    "<div style=\"text-align:justify;font-size:1.1em;color:#2F2B29;font-family:verdana\"> Existe otro tipo de estructura de datos muy popular entre la comunidad de programadores de Python: el diccionario. Un diccionario es similar a una lista, pero, en lugar de utilizar índices para identificar cada valor, se utilizan \"llaves\". Cada valor tiene asociada una llave específica, la cual sirve para llamarlo. Veamos un ejemplo: </div>"
   ]
  },
  {
   "cell_type": "markdown",
   "metadata": {},
   "source": [
    "<img src=\"materials/dictionary.svg\" style=\"width: 420px;\"/>\n"
   ]
  },
  {
   "cell_type": "markdown",
   "metadata": {},
   "source": [
    "<div style=\"text-align:justify;font-size:1.1em;color:#2F2B29;font-family:verdana\"> Podemos codificar el diagrama anterior de la siguiente manera: </div>"
   ]
  },
  {
   "cell_type": "code",
   "execution_count": null,
   "metadata": {},
   "outputs": [],
   "source": [
    "dict1 = {\"a\":\"uno\", \"b\":\"dos\", \"c\":\"tres\"}\n"
   ]
  },
  {
   "cell_type": "markdown",
   "metadata": {},
   "source": [
    "<div style=\"text-align:justify;font-size:1.1em;color:#2F2B29;font-family:verdana\"> Para declarar un diccionario, en lugar de utilizar corchetes, utilizaremos llaves \"{}\". Dentro de estas, nombraremos los diversos pares llave-valor. Estos dos irán separados por dos puntos (:). El primer elemento es la llave, mientras que el segundo es el valor. Los diversos pares llave-valor se separan mediante comas. </div>"
   ]
  },
  {
   "cell_type": "markdown",
   "metadata": {},
   "source": [
    "<img src=\"materials/dictionario2.svg\" style=\"width: 520px;\"/>\n"
   ]
  },
  {
   "cell_type": "markdown",
   "metadata": {},
   "source": [
    "# Acceder a valores de Diccionario"
   ]
  },
  {
   "cell_type": "markdown",
   "metadata": {},
   "source": [
    "<div style=\"text-align:justify;font-size:1.1em;color:#2F2B29;font-family:verdana\"> Podemos acceder a un valor del diccionario de manera parecida a como lo hacemos con las listas, sin embargo, utilizaremos la \"llave\" en lugar del índice: </div>"
   ]
  },
  {
   "cell_type": "code",
   "execution_count": 47,
   "metadata": {},
   "outputs": [
    {
     "name": "stdout",
     "output_type": "stream",
     "text": [
      "dos\n",
      "tres\n",
      "uno\n"
     ]
    }
   ],
   "source": [
    "dict1 = {\"a\":\"uno\", \"b\":\"dos\", \"c\":\"tres\"}\n",
    "\n",
    "print(dict1[\"b\"])\n",
    "print(dict1[\"c\"])\n",
    "print(dict1[\"a\"])"
   ]
  },
  {
   "cell_type": "markdown",
   "metadata": {},
   "source": [
    "# Llaves"
   ]
  },
  {
   "cell_type": "markdown",
   "metadata": {},
   "source": [
    "<div style=\"text-align:justify;font-size:1.1em;color:#2F2B29;font-family:verdana\"> ¿Qué tipo de valores podemos utilizar como llaves? El tipo de objeto puede ser un número, un booleano o un string, pero no una lista u otro diccionario. Es posible utilizar otros tipos de objeto (e.g. tuplas), pero estos no serán vistos en este curso. </div>"
   ]
  },
  {
   "cell_type": "code",
   "execution_count": 48,
   "metadata": {},
   "outputs": [
    {
     "name": "stdout",
     "output_type": "stream",
     "text": [
      "uno\n",
      "dos\n",
      "tres\n"
     ]
    }
   ],
   "source": [
    "dict1 = {1.1:\"uno\", -5:\"dos\", True:\"tres\"}\n",
    "\n",
    "print(dict1[1.1])\n",
    "print(dict1[-5])\n",
    "print(dict1[True])"
   ]
  },
  {
   "cell_type": "markdown",
   "metadata": {},
   "source": [
    "# Valores de Diccionarios"
   ]
  },
  {
   "cell_type": "markdown",
   "metadata": {},
   "source": [
    "<div style=\"text-align:justify;font-size:1.1em;color:#2F2B29;font-family:verdana\"> Los valores guardados en los diccionarios pueden pertenecer a cualquier tipo (enteros, floats, strings, listas, diccionarios, etc).  </div>"
   ]
  },
  {
   "cell_type": "code",
   "execution_count": 49,
   "metadata": {},
   "outputs": [
    {
     "name": "stdout",
     "output_type": "stream",
     "text": [
      "uno\n",
      "2\n",
      "True\n"
     ]
    }
   ],
   "source": [
    "dict1 = {1:\"uno\", 2:2, 3:True}\n",
    "\n",
    "print(dict1[1])\n",
    "print(dict1[2])\n",
    "print(dict1[3])"
   ]
  },
  {
   "cell_type": "markdown",
   "metadata": {},
   "source": [
    "# Agregar y borrar valores a diccionario"
   ]
  },
  {
   "cell_type": "markdown",
   "metadata": {},
   "source": [
    "<div style=\"text-align:justify;font-size:1.1em;color:#2F2B29;font-family:verdana\"> Para agregar un valor a un diccionario, simplemente debemos declarar el valor y la llave a la que corresponderá. Para eliminar valores, utilizaremos la función \"del\" Por ejemplo:  </div>"
   ]
  },
  {
   "cell_type": "code",
   "execution_count": 51,
   "metadata": {},
   "outputs": [
    {
     "name": "stdout",
     "output_type": "stream",
     "text": [
      "{'a': 1, 'b': 2}\n",
      "{'b': 2}\n"
     ]
    }
   ],
   "source": [
    "dictA = {}\n",
    "dictA[\"a\"] = 1\n",
    "dictA[\"b\"] = 2\n",
    "print(dictA)\n",
    "\n",
    "del dictA[\"a\"]\n",
    "print(dictA)\n",
    "\n"
   ]
  },
  {
   "cell_type": "markdown",
   "metadata": {},
   "source": [
    "<img src=\"materials/notepad.svg\" style=\"width: 150px;\"/>\n"
   ]
  },
  {
   "cell_type": "markdown",
   "metadata": {},
   "source": [
    "#### <div style=\"text-align:CENTER;font-size:1.3em;color:red;font-family:verdana\"> EJERCICIO 3.1-10 [4 minutos]</div>\n",
    "<div style=\"text-align:justify;font-size:1.2em;color:red;font-family:verdana\"> Imprime cada uno de los elementos del siguiente diccionario:"
   ]
  },
  {
   "cell_type": "code",
   "execution_count": null,
   "metadata": {},
   "outputs": [],
   "source": [
    "## Escribe codigo aqui\n",
    "dict1 = {1:\"uno\", 2:2, 3:True, 4:[1,2,3]}"
   ]
  }
 ],
 "metadata": {
  "kernelspec": {
   "display_name": "Python 3",
   "language": "python",
   "name": "python3"
  },
  "language_info": {
   "codemirror_mode": {
    "name": "ipython",
    "version": 3
   },
   "file_extension": ".py",
   "mimetype": "text/x-python",
   "name": "python",
   "nbconvert_exporter": "python",
   "pygments_lexer": "ipython3",
   "version": "3.7.5"
  }
 },
 "nbformat": 4,
 "nbformat_minor": 2
}
