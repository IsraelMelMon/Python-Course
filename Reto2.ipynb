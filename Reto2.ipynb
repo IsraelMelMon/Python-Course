{
 "cells": [
  {
   "cell_type": "markdown",
   "metadata": {},
   "source": [
    "<img src=\"materials/notepad.svg\" style=\"width: 150px;\"/>\n"
   ]
  },
  {
   "cell_type": "markdown",
   "metadata": {},
   "source": [
    "## <div style=\"text-align:left;font-size:2em;color:#000000;font-family:verdana\">Segundo reto</div>\n"
   ]
  },
  {
   "cell_type": "markdown",
   "metadata": {},
   "source": [
    "<div style=\"text-align:justify;font-size:1.1em;color:#2F2B29;font-family:verdana\"> Veamos como leer un archivo de texto: </div>"
   ]
  },
  {
   "cell_type": "code",
   "execution_count": 31,
   "metadata": {},
   "outputs": [
    {
     "name": "stdout",
     "output_type": "stream",
     "text": [
      "Matrícula\tNombre\tAntigüedad (en años)\tSalario (por año)\n",
      "\n",
      "1584363\tIsrael Melendez Montoya\t3\t400000\n",
      "\n",
      "1576853\tHernán Martínez Sánchez\t7\t500000\n",
      "\n",
      "1234542\tAbner Angel Anzures Estrada \t2\t378000\n",
      "\n",
      "1263862\tHugo Carlos Costilla Gómez\t4\t750000\n",
      "\n",
      "7833412\tJesus Briones Durán\t5\t342300\n",
      "\n",
      "4677865\tAlondra Sánchez Orozco\t1\t923000\n",
      "\n",
      "3242341\tJuan Ángel Hernández Montoya \t3\t323000\n",
      "\n",
      "2312313\tArtemisio Garza Sada\t12\t892230\n",
      "\n",
      "2342341\tRodrigo García Rodríguez\t2\t324233\n",
      "\n",
      "3245323\tOmar Álvarez Palacios\t7\t1150000\n"
     ]
    }
   ],
   "source": [
    "abrir_archivo = open('List_names.txt', encoding='mac-roman')\n",
    " \n",
    "for linea in abrir_archivo:\n",
    "    print(linea)\n",
    " \n",
    "abrir_archivo.close()"
   ]
  },
  {
   "cell_type": "markdown",
   "metadata": {},
   "source": [
    "<div style=\"text-align:justify;font-size:1.1em;color:#2F2B29;font-family:verdana\"> En este archivo existen 4 columnas y 11 filas. Podemos también leer la primera fila con el comando:</div> "
   ]
  },
  {
   "cell_type": "code",
   "execution_count": 33,
   "metadata": {},
   "outputs": [
    {
     "name": "stdout",
     "output_type": "stream",
     "text": [
      "Matrícula\tNombre\tAntigüedad (en años)\tSalario (por año)\n",
      "\n"
     ]
    }
   ],
   "source": [
    "\n",
    " \n",
    "archivo = open(\"List_names.txt\",  encoding=\"mac-roman\")\n",
    " \n",
    "print(archivo.readline());\n",
    " \n",
    " \n",
    " \n",
    "archivo.close()"
   ]
  },
  {
   "cell_type": "markdown",
   "metadata": {},
   "source": [
    "<div style=\"text-align:justify;font-size:1.1em;color:#2F2B29;font-family:verdana\"> En el anterior ejemplo, el \"encoding\" específico nos permite leer texto con acentos y diéresis de acuerdos al español.</div> \n"
   ]
  },
  {
   "cell_type": "markdown",
   "metadata": {},
   "source": [
    "<div style=\"text-align:justify;font-size:1.1em;color:#2F2B29;font-family:verdana\"> Continuaremos usando el archivo <b> List_names.txt</b> y realizaremos las siguientes tareas:</div>"
   ]
  },
  {
   "cell_type": "markdown",
   "metadata": {},
   "source": [
    "<div style=\"text-align:justify;font-size:1.1em;color:#2F2B29;font-family:verdana\"> Imprimir los primeros nombres alfabéticamente.</div>"
   ]
  },
  {
   "cell_type": "code",
   "execution_count": 45,
   "metadata": {},
   "outputs": [
    {
     "name": "stdout",
     "output_type": "stream",
     "text": [
      " \n",
      "['1584363', 'Israel', 'Melendez', 'Montoya', '3', '400000']\n",
      "1584363\n"
     ]
    }
   ],
   "source": [
    "#El siguiente programa guarda cada fila o línea del texto en la variable de lista \"x\"\n",
    "\n",
    "abrir_archivo = open('List_names.txt', encoding='mac-roman')\n",
    "x = [] \n",
    "\n",
    "for linea in abrir_archivo:\n",
    "    #print(linea)\n",
    "    splitted = linea.split()\n",
    "    x.append(splitted)\n",
    "\n",
    "abrir_archivo.close()\n",
    "print(\" \")\n",
    "print(x[1])\n",
    "print(x[1][0])"
   ]
  },
  {
   "cell_type": "markdown",
   "metadata": {},
   "source": [
    "<div style=\"text-align:justify;font-size:1.1em;color:#2F2B29;font-family:verdana\"> Para poder ordenar un arreglo de números o de carácteres, se pueden usar distintos algoritmos de ordenamiento o de \"sorting\".</div> \n"
   ]
  },
  {
   "cell_type": "markdown",
   "metadata": {},
   "source": [
    "<div style=\"text-align:justify;font-size:1.1em;color:#2F2B29;font-family:verdana\"> Uno de los algoritmos más sencillos en su implementación se llama \"bubble sort\" u ordenamiento de burbuja.</div> \n"
   ]
  },
  {
   "cell_type": "code",
   "execution_count": 51,
   "metadata": {},
   "outputs": [
    {
     "name": "stdout",
     "output_type": "stream",
     "text": [
      "[1, 3, 5, 11, 54]\n"
     ]
    }
   ],
   "source": [
    "x = [1,5,3,11,54]\n",
    "\n",
    "# longitud del arreglo \"x\"\n",
    "n = len(x) \n",
    "\n",
    "# Checa todos los n elementos del arreglo\n",
    "for i in range(n): \n",
    "    # los últimos i elementos están ordenados\n",
    "    for j in range(0, n-i-1): \n",
    "\n",
    "        # Checando el arreglo desde 0 a n-i-1 \n",
    "        # Cambiar valores si el valor es mayor \n",
    "        # que el siguiente elemento \n",
    "        if x[j] > x[j+1] : \n",
    "            x[j], x[j+1] = x[j+1], x[j] \n",
    "print(x)            \n",
    "            "
   ]
  },
  {
   "cell_type": "markdown",
   "metadata": {},
   "source": []
  },
  {
   "cell_type": "markdown",
   "metadata": {},
   "source": [
    "<div style=\"text-align:justify;font-size:1.1em;color:#2F2B29;font-family:verdana\"> Cambia los números de la lista \"x\" del anterior código para que cada elemento sea una palabra entre comillas dobles. Corre el código.</div> \n"
   ]
  },
  {
   "cell_type": "markdown",
   "metadata": {},
   "source": [
    "<div style=\"text-align:justify;font-size:1.1em;color:#2F2B29;font-family:verdana\"> Existen muchos más algoritmos de ordenamiento, los cuales tienen todos sus ventajas en velocidad dependiendo de la información que se podría tener. En el análisis del algoritmo se consideran los mejores, peores y el promedio de casos en los cuales se podría presentar la información ordenada. </div> \n"
   ]
  },
  {
   "cell_type": "markdown",
   "metadata": {},
   "source": [
    "<div style=\"text-align:justify;font-size:1.1em;color:#2F2B29;font-family:verdana\"> Otro algoritmo de ordenamiento es el llamado \"Merge sort\" o ordenamiento de fusión. A continuación está un ejemplo:</div> \n"
   ]
  },
  {
   "cell_type": "code",
   "execution_count": 55,
   "metadata": {},
   "outputs": [
    {
     "name": "stdout",
     "output_type": "stream",
     "text": [
      "El arreglo dado es\n",
      "[12, 11, 13, 5, 6, 7]\n",
      "El arreglo ordenado es: \n",
      "[5, 6, 7, 11, 12, 13]\n"
     ]
    }
   ],
   "source": [
    "\n",
    "# Programa de Python que implementa el \"merge sort\"\n",
    "def mergeSort(x): \n",
    "    if len(x) > 1: \n",
    "        mid = len(x)//2 # Encontrar la mitad del arreglo\n",
    "        L = x[:mid] # Dividir el arreglo\n",
    "        R = x[mid:] # en 2 mitades\n",
    "  \n",
    "        mergeSort(L) # Ordenando la primera mitad\n",
    "        mergeSort(R) # Ordenando la segunda mitad\n",
    "  \n",
    "        i = j = k = 0\n",
    "          \n",
    "        # Copiar la imformación al arreglo temporal L[] y R[] \n",
    "        while i < len(L) and j < len(R): \n",
    "            if L[i] < R[j]: \n",
    "                x[k] = L[i] \n",
    "                i+=1\n",
    "            else: \n",
    "                x[k] = R[j] \n",
    "                j+=1\n",
    "            k+=1\n",
    "          \n",
    "        # Checar si algún elemento se quedó fuera\n",
    "        while i < len(L): \n",
    "            x[k] = L[i] \n",
    "            i+=1\n",
    "            k+=1\n",
    "          \n",
    "        while j < len(R): \n",
    "            x[k] = R[j] \n",
    "            j+=1\n",
    "            k+=1\n",
    "\n",
    "  \n",
    "# Código para checar el código de arriba\n",
    "if __name__ == '__main__': \n",
    "    x = [12, 11, 13, 5, 6, 7]  \n",
    "    print (\"El arreglo dado es\", end=\"\\n\")  \n",
    "    print(x) \n",
    "    mergeSort(x) \n",
    "    print(\"El arreglo ordenado es: \", end=\"\\n\") \n",
    "    print(x) \n",
    "  "
   ]
  },
  {
   "cell_type": "markdown",
   "metadata": {},
   "source": [
    "<div style=\"text-align:justify;font-size:1.1em;color:#2F2B29;font-family:verdana\"> El funcionamiento se muestra en la siguiente imagen: </div> \n"
   ]
  },
  {
   "cell_type": "markdown",
   "metadata": {},
   "source": [
    "<img src=\"materials/Merge-Sort.png\" style=\"width: 480px;\"/>\n"
   ]
  },
  {
   "cell_type": "markdown",
   "metadata": {},
   "source": [
    "<div style=\"text-align:justify;font-size:1.1em;color:#2F2B29;font-family:verdana\"> Imprimir los últimos apellidos alfabéticamente.</div>"
   ]
  },
  {
   "cell_type": "code",
   "execution_count": null,
   "metadata": {},
   "outputs": [],
   "source": []
  },
  {
   "cell_type": "markdown",
   "metadata": {},
   "source": [
    "<div style=\"text-align:justify;font-size:1.1em;color:#2F2B29;font-family:verdana\"> Imprimir el arreglo de las matrículas de menor a mayor.</div>"
   ]
  },
  {
   "cell_type": "code",
   "execution_count": null,
   "metadata": {},
   "outputs": [],
   "source": []
  },
  {
   "cell_type": "markdown",
   "metadata": {},
   "source": [
    "<div style=\"text-align:justify;font-size:1.1em;color:#2F2B29;font-family:verdana\"> Imprimir los primeros dos dígitos de cada matrícula correspondiente. </div>"
   ]
  },
  {
   "cell_type": "code",
   "execution_count": null,
   "metadata": {},
   "outputs": [],
   "source": []
  },
  {
   "cell_type": "markdown",
   "metadata": {},
   "source": [
    "<div style=\"text-align:justify;font-size:1.1em;color:#2F2B29;font-family:verdana\"> Imprimir los nombres de las personas que más y menos ganan, corresponientemente. </div>"
   ]
  },
  {
   "cell_type": "code",
   "execution_count": null,
   "metadata": {},
   "outputs": [],
   "source": []
  },
  {
   "cell_type": "markdown",
   "metadata": {},
   "source": [
    "<div style=\"text-align:justify;font-size:1.1em;color:#2F2B29;font-family:verdana\"> Ahora, supongamos que necesitamos una contraseña para acceder a este archivo de texto. Esta contraseña después se salva en un archivo, y como es información sensible debemos encriptarla. Haremos entonces un <i>\"encriptador de contraseñas\"</i>. </div>"
   ]
  },
  {
   "cell_type": "markdown",
   "metadata": {},
   "source": [
    "<div style=\"text-align:justify;font-size:1.1em;color:#2F2B29;font-family:verdana\"> Al dar un \"input\" de cualquier tamaño  del tipo \"string\", se debe encriptar el \"input\" con los carácteres \"@\" y '!'.</div>"
   ]
  },
  {
   "cell_type": "code",
   "execution_count": null,
   "metadata": {},
   "outputs": [],
   "source": []
  }
 ],
 "metadata": {
  "kernelspec": {
   "display_name": "Python 3",
   "language": "python",
   "name": "python3"
  },
  "language_info": {
   "codemirror_mode": {
    "name": "ipython",
    "version": 3
   },
   "file_extension": ".py",
   "mimetype": "text/x-python",
   "name": "python",
   "nbconvert_exporter": "python",
   "pygments_lexer": "ipython3",
   "version": "3.7.5"
  }
 },
 "nbformat": 4,
 "nbformat_minor": 2
}
