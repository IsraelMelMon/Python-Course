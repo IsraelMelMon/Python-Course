{
 "cells": [
  {
   "cell_type": "markdown",
   "metadata": {},
   "source": [
    "### <font color='black'><div style=\"text-align: center\">2020</div></font>\n",
    "---\n",
    "![image](materials/python-logo-notext.svg)\n",
    "# <div style=\"text-align:center;font-size:1.8em;color:purple;font-family:verdana\">CURSO BÁSICO DE PYTHON</div>\n",
    "## <div style=\"text-align:center;font-size:1.2em;color:purple;font-family:verdana\">DÍA 2</div>\n",
    "\n",
    "<div font color='gray'><div style=\"text-align: center\">AXTEL</div>"
   ]
  },
  {
   "cell_type": "markdown",
   "metadata": {},
   "source": [
    "\n",
    "# <div style=\"text-align:center;font-size:1.1em;color:purple;font-family:verdana\">9. CONEXIÓN REMOTA A SERVIDORES</div>"
   ]
  },
  {
   "cell_type": "markdown",
   "metadata": {},
   "source": [
    "<div style=\"text-align:justify;font-size:1.1em;color:#2F2B29;font-family:verdana\">  En esta época, es fundamental poder acceder a equipos a distancia para ejecutar comandos y recabar información. Existen muchos protocolos que facilitan el intercambio de datos entre dos equipos que no se encuentran directamente conectados entre sí. Ejemplos de estos son SSH, FTP y Telnet. Un protocolo es una serie de reglas y prácticas que definen un proceso.</div>"
   ]
  },
  {
   "cell_type": "markdown",
   "metadata": {},
   "source": [
    "<div style=\"text-align:justify;font-size:1.1em;color:#2F2B29;font-family:verdana\">  En este curso aprenderemos a automatizar la conexión remota con equipos a través de internet utilizando el protocolo de comunicación Telnet.</div>"
   ]
  },
  {
   "cell_type": "markdown",
   "metadata": {},
   "source": [
    "# Telnet"
   ]
  },
  {
   "cell_type": "markdown",
   "metadata": {},
   "source": [
    "\n"
   ]
  },
  {
   "cell_type": "markdown",
   "metadata": {},
   "source": [
    "<div style=\"text-align:justify;font-size:1.1em;color:#2F2B29;font-family:verdana\">Telnet es el  protocolo de red que  permite acceder a otra máquina para controlarla remotamente. También es el nombre del programa informático que implementa el cliente. Para que la conexión funcione, como en todos los servicios de Internet, la máquina a la que se acceda debe tener una aplicación que reciba y gestione las conexiones. El puerto que se utiliza generalmente es el 23.</div>"
   ]
  },
  {
   "cell_type": "markdown",
   "metadata": {},
   "source": [
    "<div style=\"text-align:justify;font-size:1.1em;color:#2F2B29;font-family:verdana\">Telnet es solo útil para acceder en modo terminal, es decir, sin gráficos, pero sirve para arreglar fallos, consultar datos y ejecutar comandos. Se utilizó con frecuencia para que múltiples usuarios accedieran a una máquina y pudieran trabajar en ella.</div>"
   ]
  },
  {
   "cell_type": "markdown",
   "metadata": {},
   "source": [
    "<div style=\"text-align:justify;font-size:1.1em;color:#2F2B29;font-family:verdana\">Sin embargo, Telnet posee un gran defecto: no cuenta con la suficiente seguridad como para proteger su contenido. Debido a esto, no se recomienda para sistemas modernos, aunque permanece como una opción para redes privadas y para la enseñanza. </div>"
   ]
  },
  {
   "cell_type": "markdown",
   "metadata": {},
   "source": [
    "<div style=\"text-align:justify;font-size:1.1em;color:#2F2B29;font-family:verdana\">El abandono de Telnet ha dado lugar a un protocolo más seguro y funcional llamado SSH, el cual provee toda la funcionalidad de Telnet con un adicional cifrado fuerte para evitar que los datos sensibles puedan ser interceptados. Este protocolo emplea autenticación mediante llaves. Para este curso, utilizaremos Telnet, ya que en principio, es muy similar a SSH, pero su automatización es menos compleja. </div>"
   ]
  },
  {
   "cell_type": "markdown",
   "metadata": {},
   "source": [
    "#### <div style=\"text-align:justify;font-size:1.1em;color:#2F2B29;font-family:verdana\">Conexión remota usando Telnet</div>"
   ]
  },
  {
   "cell_type": "markdown",
   "metadata": {},
   "source": [
    "# Conexión Remota usando Telnet"
   ]
  },
  {
   "cell_type": "markdown",
   "metadata": {},
   "source": [
    "<div style=\"text-align:justify;font-size:1.1em;color:#2F2B29;font-family:verdana\">Para conectarnos al primer servidor utilizando Telnet, debemos abrir la ventana \"cmd\", donde ingresaremos una serie de comandos. Primeramente escribimos \"telnet -l ubuntu 192.168.121.32 23\" y damos enter. Esto consiste en el comando telnet, el usuario, el ip y el puerto (23 para telnet). Una vez ingresada esta información, debemos escribir el password, que en este caso es \"CursoPython1\". Damos enter y estaremos dentro.  </div>"
   ]
  },
  {
   "cell_type": "markdown",
   "metadata": {},
   "source": [
    "<div style=\"text-align:justify;font-size:1.1em;color:#2F2B29;font-family:verdana\">La línea de la terminal donde podemos ingresar nuestro código debe empezar con \"ubuntu@...\", lo cual nos indica que estamos dentro. De aquí es posible ingresar comandos Linux.</div>"
   ]
  },
  {
   "cell_type": "markdown",
   "metadata": {},
   "source": [
    "\n"
   ]
  },
  {
   "cell_type": "markdown",
   "metadata": {},
   "source": [
    "# Librería de Conexión Telnet"
   ]
  },
  {
   "cell_type": "markdown",
   "metadata": {},
   "source": [
    "<div style=\"text-align:justify;font-size:1.1em;color:#2F2B29;font-family:verdana\"> Para conectarnos a Telnet desde Python, debemos primeramente importar la librería \"telnetlib\", la cual nos facilita el acceso.</div>"
   ]
  },
  {
   "cell_type": "code",
   "execution_count": 47,
   "metadata": {},
   "outputs": [],
   "source": [
    "import telnetlib"
   ]
  },
  {
   "cell_type": "markdown",
   "metadata": {},
   "source": [
    "# Conexión al Servidor"
   ]
  },
  {
   "cell_type": "markdown",
   "metadata": {},
   "source": [
    "<div style=\"text-align:justify;font-size:1.1em;color:#2F2B29;font-family:verdana\"> Para conectarnos a Telnet desde Python, debemos primeramente importar la librería \"telnetlib\", la cual nos facilita el acceso.</div>"
   ]
  },
  {
   "cell_type": "code",
   "execution_count": 50,
   "metadata": {},
   "outputs": [
    {
     "name": "stdout",
     "output_type": "stream",
     "text": [
      "<class 'bytes'>\n"
     ]
    }
   ],
   "source": [
    "import telnetlib # Importamos la librería de telnet\n",
    "import time # Utilizaremos algunas funciones del módulo de tiempo\n",
    "\n",
    "\n",
    "usuario = bytes(\"ubuntu\",\"utf-8\") # Convertimos el string en bytes\n",
    "password = bytes(\"CursoPython1\",\"utf-8\")\n",
    "\n",
    "telnet = telnetlib.Telnet(\"192.168.121.32\",23,3) \n",
    "print(type(usuario))"
   ]
  },
  {
   "cell_type": "markdown",
   "metadata": {},
   "source": [
    "<div style=\"text-align:justify;font-size:1.1em;color:#2F2B29;font-family:verdana\"> Conectate a otra red o desactiva el internet y ejecuta la celda anterior. ¿Qué sucede?</div>"
   ]
  },
  {
   "cell_type": "markdown",
   "metadata": {},
   "source": [
    "<div style=\"text-align:justify;font-size:1.1em;color:#2F2B29;font-family:verdana\"> Cuando utilizamos el comando \"Telnet\", debemos proveer varios argumentos. En este caso, damos 3: la IP a donde nos vamos a conectar, el puerto y el tiempo que vamos a esperar la conexión (timeout).</div>"
   ]
  },
  {
   "cell_type": "markdown",
   "metadata": {},
   "source": [
    "# Comando Read_until"
   ]
  },
  {
   "cell_type": "markdown",
   "metadata": {},
   "source": [
    "<div style=\"text-align:justify;font-size:1.1em;color:#2F2B29;font-family:verdana\"> El comando \"read_until\" lee los caracteres que aparecen en la terminal del servidor al que nos conectamos. Leerá todos los caracteres hasta que encuentre el caracter o conjunto de caracteres que le especifiquemos, y los copiará para que podamos usar su valor. En este caso nosotros guardamos estos caracteres (en formato \"string\") en una variable</div>"
   ]
  },
  {
   "cell_type": "code",
   "execution_count": 2,
   "metadata": {},
   "outputs": [
    {
     "ename": "timeout",
     "evalue": "timed out",
     "output_type": "error",
     "traceback": [
      "\u001b[0;31m---------------------------------------------------------------------------\u001b[0m",
      "\u001b[0;31mtimeout\u001b[0m                                   Traceback (most recent call last)",
      "\u001b[0;32m<ipython-input-2-f736e9045292>\u001b[0m in \u001b[0;36m<module>\u001b[0;34m\u001b[0m\n\u001b[1;32m      6\u001b[0m \u001b[0mpassword\u001b[0m \u001b[0;34m=\u001b[0m \u001b[0mbytes\u001b[0m\u001b[0;34m(\u001b[0m\u001b[0;34m\"CursoPython1\"\u001b[0m\u001b[0;34m,\u001b[0m\u001b[0;34m\"utf-8\"\u001b[0m\u001b[0;34m)\u001b[0m\u001b[0;34m\u001b[0m\u001b[0;34m\u001b[0m\u001b[0m\n\u001b[1;32m      7\u001b[0m \u001b[0;34m\u001b[0m\u001b[0m\n\u001b[0;32m----> 8\u001b[0;31m \u001b[0mtelnet\u001b[0m \u001b[0;34m=\u001b[0m \u001b[0mtelnetlib\u001b[0m\u001b[0;34m.\u001b[0m\u001b[0mTelnet\u001b[0m\u001b[0;34m(\u001b[0m\u001b[0;34m\"192.168.121.32\"\u001b[0m\u001b[0;34m,\u001b[0m\u001b[0;36m23\u001b[0m\u001b[0;34m,\u001b[0m\u001b[0;36m3\u001b[0m\u001b[0;34m)\u001b[0m \u001b[0;31m# Esta función abre una sesión de Telnet con la ip y el puerto especificados\u001b[0m\u001b[0;34m\u001b[0m\u001b[0;34m\u001b[0m\u001b[0m\n\u001b[0m\u001b[1;32m      9\u001b[0m \u001b[0mlogin\u001b[0m \u001b[0;34m=\u001b[0m \u001b[0mtelnet\u001b[0m\u001b[0;34m.\u001b[0m\u001b[0mread_until\u001b[0m\u001b[0;34m(\u001b[0m\u001b[0;34mb\":\"\u001b[0m\u001b[0;34m,\u001b[0m\u001b[0mtimeout\u001b[0m\u001b[0;34m=\u001b[0m\u001b[0;36m1\u001b[0m\u001b[0;34m)\u001b[0m\u001b[0;34m\u001b[0m\u001b[0;34m\u001b[0m\u001b[0m\n\u001b[1;32m     10\u001b[0m \u001b[0mprint\u001b[0m\u001b[0;34m(\u001b[0m\u001b[0mlogin\u001b[0m\u001b[0;34m)\u001b[0m\u001b[0;34m\u001b[0m\u001b[0;34m\u001b[0m\u001b[0m\n",
      "\u001b[0;32m/usr/local/Cellar/python/3.7.5/Frameworks/Python.framework/Versions/3.7/lib/python3.7/telnetlib.py\u001b[0m in \u001b[0;36m__init__\u001b[0;34m(self, host, port, timeout)\u001b[0m\n\u001b[1;32m    216\u001b[0m         \u001b[0mself\u001b[0m\u001b[0;34m.\u001b[0m\u001b[0moption_callback\u001b[0m \u001b[0;34m=\u001b[0m \u001b[0;32mNone\u001b[0m\u001b[0;34m\u001b[0m\u001b[0;34m\u001b[0m\u001b[0m\n\u001b[1;32m    217\u001b[0m         \u001b[0;32mif\u001b[0m \u001b[0mhost\u001b[0m \u001b[0;32mis\u001b[0m \u001b[0;32mnot\u001b[0m \u001b[0;32mNone\u001b[0m\u001b[0;34m:\u001b[0m\u001b[0;34m\u001b[0m\u001b[0;34m\u001b[0m\u001b[0m\n\u001b[0;32m--> 218\u001b[0;31m             \u001b[0mself\u001b[0m\u001b[0;34m.\u001b[0m\u001b[0mopen\u001b[0m\u001b[0;34m(\u001b[0m\u001b[0mhost\u001b[0m\u001b[0;34m,\u001b[0m \u001b[0mport\u001b[0m\u001b[0;34m,\u001b[0m \u001b[0mtimeout\u001b[0m\u001b[0;34m)\u001b[0m\u001b[0;34m\u001b[0m\u001b[0;34m\u001b[0m\u001b[0m\n\u001b[0m\u001b[1;32m    219\u001b[0m \u001b[0;34m\u001b[0m\u001b[0m\n\u001b[1;32m    220\u001b[0m     \u001b[0;32mdef\u001b[0m \u001b[0mopen\u001b[0m\u001b[0;34m(\u001b[0m\u001b[0mself\u001b[0m\u001b[0;34m,\u001b[0m \u001b[0mhost\u001b[0m\u001b[0;34m,\u001b[0m \u001b[0mport\u001b[0m\u001b[0;34m=\u001b[0m\u001b[0;36m0\u001b[0m\u001b[0;34m,\u001b[0m \u001b[0mtimeout\u001b[0m\u001b[0;34m=\u001b[0m\u001b[0msocket\u001b[0m\u001b[0;34m.\u001b[0m\u001b[0m_GLOBAL_DEFAULT_TIMEOUT\u001b[0m\u001b[0;34m)\u001b[0m\u001b[0;34m:\u001b[0m\u001b[0;34m\u001b[0m\u001b[0;34m\u001b[0m\u001b[0m\n",
      "\u001b[0;32m/usr/local/Cellar/python/3.7.5/Frameworks/Python.framework/Versions/3.7/lib/python3.7/telnetlib.py\u001b[0m in \u001b[0;36mopen\u001b[0;34m(self, host, port, timeout)\u001b[0m\n\u001b[1;32m    232\u001b[0m         \u001b[0mself\u001b[0m\u001b[0;34m.\u001b[0m\u001b[0mport\u001b[0m \u001b[0;34m=\u001b[0m \u001b[0mport\u001b[0m\u001b[0;34m\u001b[0m\u001b[0;34m\u001b[0m\u001b[0m\n\u001b[1;32m    233\u001b[0m         \u001b[0mself\u001b[0m\u001b[0;34m.\u001b[0m\u001b[0mtimeout\u001b[0m \u001b[0;34m=\u001b[0m \u001b[0mtimeout\u001b[0m\u001b[0;34m\u001b[0m\u001b[0;34m\u001b[0m\u001b[0m\n\u001b[0;32m--> 234\u001b[0;31m         \u001b[0mself\u001b[0m\u001b[0;34m.\u001b[0m\u001b[0msock\u001b[0m \u001b[0;34m=\u001b[0m \u001b[0msocket\u001b[0m\u001b[0;34m.\u001b[0m\u001b[0mcreate_connection\u001b[0m\u001b[0;34m(\u001b[0m\u001b[0;34m(\u001b[0m\u001b[0mhost\u001b[0m\u001b[0;34m,\u001b[0m \u001b[0mport\u001b[0m\u001b[0;34m)\u001b[0m\u001b[0;34m,\u001b[0m \u001b[0mtimeout\u001b[0m\u001b[0;34m)\u001b[0m\u001b[0;34m\u001b[0m\u001b[0;34m\u001b[0m\u001b[0m\n\u001b[0m\u001b[1;32m    235\u001b[0m \u001b[0;34m\u001b[0m\u001b[0m\n\u001b[1;32m    236\u001b[0m     \u001b[0;32mdef\u001b[0m \u001b[0m__del__\u001b[0m\u001b[0;34m(\u001b[0m\u001b[0mself\u001b[0m\u001b[0;34m)\u001b[0m\u001b[0;34m:\u001b[0m\u001b[0;34m\u001b[0m\u001b[0;34m\u001b[0m\u001b[0m\n",
      "\u001b[0;32m/usr/local/Cellar/python/3.7.5/Frameworks/Python.framework/Versions/3.7/lib/python3.7/socket.py\u001b[0m in \u001b[0;36mcreate_connection\u001b[0;34m(address, timeout, source_address)\u001b[0m\n\u001b[1;32m    725\u001b[0m \u001b[0;34m\u001b[0m\u001b[0m\n\u001b[1;32m    726\u001b[0m     \u001b[0;32mif\u001b[0m \u001b[0merr\u001b[0m \u001b[0;32mis\u001b[0m \u001b[0;32mnot\u001b[0m \u001b[0;32mNone\u001b[0m\u001b[0;34m:\u001b[0m\u001b[0;34m\u001b[0m\u001b[0;34m\u001b[0m\u001b[0m\n\u001b[0;32m--> 727\u001b[0;31m         \u001b[0;32mraise\u001b[0m \u001b[0merr\u001b[0m\u001b[0;34m\u001b[0m\u001b[0;34m\u001b[0m\u001b[0m\n\u001b[0m\u001b[1;32m    728\u001b[0m     \u001b[0;32melse\u001b[0m\u001b[0;34m:\u001b[0m\u001b[0;34m\u001b[0m\u001b[0;34m\u001b[0m\u001b[0m\n\u001b[1;32m    729\u001b[0m         \u001b[0;32mraise\u001b[0m \u001b[0merror\u001b[0m\u001b[0;34m(\u001b[0m\u001b[0;34m\"getaddrinfo returns an empty list\"\u001b[0m\u001b[0;34m)\u001b[0m\u001b[0;34m\u001b[0m\u001b[0;34m\u001b[0m\u001b[0m\n",
      "\u001b[0;32m/usr/local/Cellar/python/3.7.5/Frameworks/Python.framework/Versions/3.7/lib/python3.7/socket.py\u001b[0m in \u001b[0;36mcreate_connection\u001b[0;34m(address, timeout, source_address)\u001b[0m\n\u001b[1;32m    714\u001b[0m             \u001b[0;32mif\u001b[0m \u001b[0msource_address\u001b[0m\u001b[0;34m:\u001b[0m\u001b[0;34m\u001b[0m\u001b[0;34m\u001b[0m\u001b[0m\n\u001b[1;32m    715\u001b[0m                 \u001b[0msock\u001b[0m\u001b[0;34m.\u001b[0m\u001b[0mbind\u001b[0m\u001b[0;34m(\u001b[0m\u001b[0msource_address\u001b[0m\u001b[0;34m)\u001b[0m\u001b[0;34m\u001b[0m\u001b[0;34m\u001b[0m\u001b[0m\n\u001b[0;32m--> 716\u001b[0;31m             \u001b[0msock\u001b[0m\u001b[0;34m.\u001b[0m\u001b[0mconnect\u001b[0m\u001b[0;34m(\u001b[0m\u001b[0msa\u001b[0m\u001b[0;34m)\u001b[0m\u001b[0;34m\u001b[0m\u001b[0;34m\u001b[0m\u001b[0m\n\u001b[0m\u001b[1;32m    717\u001b[0m             \u001b[0;31m# Break explicitly a reference cycle\u001b[0m\u001b[0;34m\u001b[0m\u001b[0;34m\u001b[0m\u001b[0;34m\u001b[0m\u001b[0m\n\u001b[1;32m    718\u001b[0m             \u001b[0merr\u001b[0m \u001b[0;34m=\u001b[0m \u001b[0;32mNone\u001b[0m\u001b[0;34m\u001b[0m\u001b[0;34m\u001b[0m\u001b[0m\n",
      "\u001b[0;31mtimeout\u001b[0m: timed out"
     ]
    }
   ],
   "source": [
    "import telnetlib # Importamos la librería de telnet\n",
    "import time # Utilizaremos algunas funciones del módulo de tiempo\n",
    "\n",
    "\n",
    "usuario = bytes(\"ubuntu\",\"utf-8\") # Convertimos el string en bytes\n",
    "password = bytes(\"CursoPython1\",\"utf-8\")\n",
    "\n",
    "telnet = telnetlib.Telnet(\"192.168.121.32\",23,3) # Esta función abre una sesión de Telnet con la ip y el puerto especificados\n",
    "login = telnet.read_until(b\":\",timeout=1)\n",
    "print(login)"
   ]
  },
  {
   "cell_type": "markdown",
   "metadata": {},
   "source": [
    "<div style=\"text-align:justify;font-size:1.1em;color:#2F2B29;font-family:verdana\"> ¿Qué nos arroja la variable login?</div>"
   ]
  },
  {
   "cell_type": "markdown",
   "metadata": {},
   "source": [
    "<img src=\"materials/notepad.svg\" style=\"width: 150px;\"/>\n"
   ]
  },
  {
   "cell_type": "markdown",
   "metadata": {},
   "source": [
    "#### <div style=\"text-align:CENTER;font-size:1.3em;color:red;font-family:verdana\"> EJERCICIO 9.1-2 [1 minutos]</div>\n",
    "<div style=\"text-align:justify;font-size:1.2em;color:red;font-family:verdana\"> Copia el código anterior y cambia el parámetro brindando a \"read_until\" por algún grupo de caracteres de tu elección. Imprime el resultado. ¿Qué sucede? Ejemplos de esto podrían ser: python, fvanda, LTS, etc.</div>"
   ]
  },
  {
   "cell_type": "code",
   "execution_count": 11,
   "metadata": {},
   "outputs": [
    {
     "name": "stdout",
     "output_type": "stream",
     "text": [
      "b''\n"
     ]
    }
   ],
   "source": [
    "# Escribe tu código aquí\n",
    "\n",
    "\n",
    "import telnetlib # Importamos la librería de telnet\n",
    "import time # Utilizaremos algunas funciones del módulo de tiempo\n",
    "\n",
    "\n",
    "usuario = bytes(\"ubuntu\",\"utf-8\") # Convertimos el string en bytes\n",
    "password = bytes(\"CursoPython1\",\"utf-8\")\n",
    "\n",
    "telnet = telnetlib.Telnet(\"192.168.121.32\",23,3) # Esta función abre una sesión de Telnet con la ip y el puerto especificados\n",
    "login = telnet.read_until(b\"\",timeout=1)\n",
    "print(login)\n"
   ]
  },
  {
   "cell_type": "markdown",
   "metadata": {},
   "source": [
    "# Otros comandos Read"
   ]
  },
  {
   "cell_type": "markdown",
   "metadata": {},
   "source": [
    "### read_all"
   ]
  },
  {
   "cell_type": "markdown",
   "metadata": {},
   "source": [
    "<div style=\"text-align:justify;font-size:1.1em;color:#2F2B29;font-family:verdana\"> Leemos todo el contenido hasta el EOF. Genera un bloqueo hasta que la conexión se cierra.</div>"
   ]
  },
  {
   "cell_type": "markdown",
   "metadata": {},
   "source": [
    "### read_some"
   ]
  },
  {
   "cell_type": "markdown",
   "metadata": {},
   "source": [
    "<div style=\"text-align:justify;font-size:1.1em;color:#2F2B29;font-family:verdana\"> Lee por lo menos 1 byte de información. Bloquea si no hay información disponible. </div>"
   ]
  },
  {
   "cell_type": "markdown",
   "metadata": {},
   "source": [
    "### read_eager"
   ]
  },
  {
   "cell_type": "markdown",
   "metadata": {},
   "source": [
    "<div style=\"text-align:justify;font-size:1.1em;color:#2F2B29;font-family:verdana\"> Lee información fácilmente disponible. No bloquear a menos de que se tenga una secuencia IAC (Interpret As Command).</div>"
   ]
  },
  {
   "cell_type": "markdown",
   "metadata": {},
   "source": [
    "<img src=\"materials/notepad.svg\" style=\"width: 150px;\"/>\n"
   ]
  },
  {
   "cell_type": "markdown",
   "metadata": {},
   "source": [
    "#### <div style=\"text-align:CENTER;font-size:1.3em;color:red;font-family:verdana\"> EJERCICIO 9.1-21 [1 minuto]</div>\n",
    "<div style=\"text-align:justify;font-size:1.2em;color:red;font-family:verdana\"> Cambia la función de lectura por alguna de las anteriores e intenta conectarte. ¿Cuál funciona mejor? (cambia el valor de login).</div>"
   ]
  },
  {
   "cell_type": "code",
   "execution_count": 61,
   "metadata": {},
   "outputs": [
    {
     "name": "stdout",
     "output_type": "stream",
     "text": [
      "b'Ubuntu 16.04.3 LTS\\r\\np4-fvanda-cursopython1 login:'\n"
     ]
    }
   ],
   "source": [
    "\n",
    "import telnetlib # Importamos la librería de telnet\n",
    "import time # Utilizaremos algunas funciones del módulo de tiempo\n",
    "\n",
    "\n",
    "usuario = bytes(\"ubuntu\",\"utf-8\") # Convertimos el string en bytes\n",
    "password = bytes(\"CursoPython1\",\"utf-8\")\n",
    "\n",
    "telnet = telnetlib.Telnet(\"192.168.121.32\",23,3) # Esta función abre una sesión de Telnet con la ip y el puerto especificados\n",
    "login = telnet.read_until(b\":\",timeout=1)\n",
    "time.sleep(1)\n",
    "# telnet.close()\n",
    "print(login)"
   ]
  },
  {
   "cell_type": "markdown",
   "metadata": {},
   "source": [
    "# Función Sleep"
   ]
  },
  {
   "cell_type": "markdown",
   "metadata": {},
   "source": [
    "<div style=\"text-align:justify;font-size:1.1em;color:#2F2B29;font-family:verdana\"> Importamos del módulo \"Time\" la función \"sleep\". Esta nos ayudará a hacer una pausa en nuestro programa.</div>"
   ]
  },
  {
   "cell_type": "markdown",
   "metadata": {},
   "source": [
    "\n"
   ]
  },
  {
   "cell_type": "code",
   "execution_count": 26,
   "metadata": {},
   "outputs": [],
   "source": [
    "time.sleep(10)"
   ]
  },
  {
   "cell_type": "markdown",
   "metadata": {},
   "source": [
    "<div style=\"text-align:justify;font-size:1.1em;color:#2F2B29;font-family:verdana\"> El argumento proporcionado indicará que el programa tendrá una pausa de una cierta cantidad de segundos. Podemos pedirle que espere milisegundos agregando el número tras un punto.</div>"
   ]
  },
  {
   "cell_type": "code",
   "execution_count": 25,
   "metadata": {},
   "outputs": [],
   "source": [
    "time.sleep(.300)"
   ]
  },
  {
   "cell_type": "markdown",
   "metadata": {},
   "source": [
    "\n"
   ]
  },
  {
   "cell_type": "markdown",
   "metadata": {},
   "source": [
    "# Comando Write"
   ]
  },
  {
   "cell_type": "markdown",
   "metadata": {},
   "source": [
    "<div style=\"text-align:justify;font-size:1.1em;color:#2F2B29;font-family:verdana\"> Este comando es básicamente lo mismo que tener a alguien escribiendo en la terminal del seridor. Recordemos que el valor que escribamos aquí debe ser convertido a byte.</div>"
   ]
  },
  {
   "cell_type": "markdown",
   "metadata": {},
   "source": [
    "<div style=\"text-align:justify;font-size:1.1em;color:#2F2B29;font-family:verdana\"> Tampoco debemos olvidar utilizar el comando \\n, el cual equivale a presionar la tecla \"enter\" (en este caso estaríamos ingresando el nombre de usuario). </div>"
   ]
  },
  {
   "cell_type": "code",
   "execution_count": 62,
   "metadata": {},
   "outputs": [
    {
     "name": "stdout",
     "output_type": "stream",
     "text": [
      "b'Ubuntu 16.04.3 LTS\\r\\np4-fvanda-cursopython1 login: ' \n",
      "\n",
      "b'Password: ' \n",
      "\n",
      "b\"\\r\\nLast login: Fri Nov  2 21:31:53 UTC 2018 from 10.1.1.235 on pts/7\\r\\nWelcome to Ubuntu 16.04.3 LTS (GNU/Linux 4.4.0-138-generic x86_64)\\r\\n\\r\\n * Documentation:  https://help.ubuntu.com\\r\\n * Management:     https://landscape.canonical.com\\r\\n * Support:        https://ubuntu.com/advantage\\r\\n\\r\\n  Get cloud support with Ubuntu Advantage Cloud Guest:\\r\\n    http://www.ubuntu.com/business/services/cloud\\r\\n\\r\\n86 packages can be updated.\\r\\n1 update is a security update.\\r\\n\\r\\nNew release '18.04.1 LTS' available.\\r\\nRun 'do-release-upgrade' to upgrade to it.\\r\\n\\r\\n\\r\\nubuntu@p4-fvanda-cursopython1:~$\"\n"
     ]
    }
   ],
   "source": [
    "import telnetlib # Importamos la librería de telnet\n",
    "import time # Utilizaremos algunas funciones del módulo de tiempo\n",
    "\n",
    "\n",
    "usuario = bytes(\"ubuntu\",\"utf-8\") # Convertimos el string en bytes\n",
    "password = bytes(\"CursoPython1\",\"utf-8\")\n",
    "\n",
    "telnet = telnetlib.Telnet(\"192.168.121.32\",23,3) # Esta función abre una sesión de Telnet con la ip y el puerto especificados\n",
    "login = telnet.read_until(b\"Login: \",timeout=1) # Leemos el texto de la terminal hasta la palabra \"Login:\"\n",
    "# Especificamos un timeout de 1 segundo por si no obtenemos respuesta.\n",
    "print(login,\"\\n\") # Imprimimos todo el texto leído hasta la palabra \"Login\", para entender donde estamos.\n",
    "telnet.write(usuario) # Escribimos el nombre del usuario en la terminal del equipo remoto.\n",
    "telnet.write(b\"\\n\") # Escribimos \"\\n\" para dar un \"enter\" en la terminal\n",
    "psswrd = telnet.read_until(b\"Password: \",timeout=1) # Leemos hasta donde aparece la palabra \"password\" y guardamos \n",
    "                                                    # este texto en la variable \"psswrd\".\n",
    "print(psswrd,\"\\n\")\n",
    "telnet.write(password) # Ingresamos el password\n",
    "telnet.write(b\"\\n\")\n",
    "result = (telnet.read_until(b\"$\",timeout=2)) # Leeremos hasta el caracter \">\", efectivamente leyendo todo el\n",
    "                                                      # texto en la terminal.\n",
    "print(result)"
   ]
  },
  {
   "cell_type": "markdown",
   "metadata": {},
   "source": [
    "<div style=\"text-align:justify;font-size:1.1em;color:#2F2B29;font-family:verdana\"> ¿Qué sucedió? Obtenemos la respuesta de que estamos conectados, pero el texto no se despliega de manera clara. </div>"
   ]
  },
  {
   "cell_type": "markdown",
   "metadata": {},
   "source": [
    "# Comando Decode"
   ]
  },
  {
   "cell_type": "markdown",
   "metadata": {},
   "source": [
    "<div style=\"text-align:justify;font-size:1.1em;color:#2F2B29;font-family:verdana\"> Para utilizar la función \"decode\", únicamente agregamos un punto a la variable string y luego escribimos \"decode()\".  </div>"
   ]
  },
  {
   "cell_type": "markdown",
   "metadata": {},
   "source": [
    "<div style=\"text-align:justify;font-size:1.1em;color:#2F2B29;font-family:verdana\"> Debido a que existen diversas maneras de darle forma y estilo al texto, en ocasiones obtendremos caracteres de formato que serán ruido en nuestra información.  </div>"
   ]
  },
  {
   "cell_type": "code",
   "execution_count": 63,
   "metadata": {},
   "outputs": [
    {
     "name": "stdout",
     "output_type": "stream",
     "text": [
      "b'Ubuntu 16.04.3 LTS\\r\\np4-fvanda-cursopython1 login: ' \n",
      "\n",
      "b'Password: ' \n",
      "\n",
      "\n",
      "Last login: Fri Nov  2 21:34:12 UTC 2018 from 10.1.1.172 on pts/15\n",
      "Welcome to Ubuntu 16.04.3 LTS (GNU/Linux 4.4.0-138-generic x86_64)\n",
      "\n",
      " * Documentation:  https://help.ubuntu.com\n",
      " * Management:     https://landscape.canonical.com\n",
      " * Support:        https://ubuntu.com/advantage\n",
      "\n",
      "  Get cloud support with Ubuntu Advantage Cloud Guest:\n",
      "    http://www.ubuntu.com/business/services/cloud\n",
      "\n",
      "86 packages can be updated.\n",
      "1 update is a security update.\n",
      "\n",
      "New release '18.04.1 LTS' available.\n",
      "Run 'do-release-upgrade' to upgrade to it.\n",
      "\n",
      "\n",
      "ubuntu@p4-fvanda-cursopython1:~$ \n"
     ]
    }
   ],
   "source": [
    "import telnetlib # Importamos la librería de telnet\n",
    "import time # Utilizaremos algunas funciones del módulo de tiempo\n",
    "\n",
    "\n",
    "usuario = bytes(\"ubuntu\",\"utf-8\") # Convertimos el string en bytes\n",
    "password = bytes(\"CursoPython1\",\"utf-8\")\n",
    "\n",
    "telnet = telnetlib.Telnet(\"192.168.121.32\",23,3) # Esta función abre una sesión de Telnet con la ip y el puerto especificados\n",
    "login = telnet.read_until(b\"Login: \",timeout=1) # Leemos el texto de la terminal hasta la palabra \"Login:\"\n",
    "# Especificamos un timeout de 1 segundo por si no obtenemos respuesta.\n",
    "print(login,\"\\n\") # Imprimimos todo el texto leído hasta la palabra \"Login\", para entender donde estamos.\n",
    "telnet.write(usuario) # Escribimos el nombre del usuario en la terminal del equipo remoto.\n",
    "telnet.write(b\"\\n\") # Escribimos \"\\n\" para dar un \"enter\" en la terminal\n",
    "psswrd = telnet.read_until(b\"Password: \",timeout=1) # Leemos hasta donde aparece la palabra \"password\" y guardamos \n",
    "                                                    # este texto en la variable \"psswrd\".\n",
    "print(psswrd,\"\\n\")\n",
    "telnet.write(password) # Ingresamos el password\n",
    "telnet.write(b\"\\n\")\n",
    "result = (telnet.read_until(b\">\",timeout=2)).decode() # Leeremos hasta el caracter \">\", efectivamente leyendo todo el\n",
    "                                                      # texto en la terminal.\n",
    "print(result)"
   ]
  },
  {
   "cell_type": "markdown",
   "metadata": {},
   "source": [
    "<img src=\"materials/notepad.svg\" style=\"width: 150px;\"/>\n"
   ]
  },
  {
   "cell_type": "markdown",
   "metadata": {},
   "source": [
    "#### <div style=\"text-align:CENTER;font-size:1.3em;color:red;font-family:verdana\"> EJERCICIO 9.1-2 [5 minutos]</div>\n",
    "<div style=\"text-align:justify;font-size:1.2em;color:red;font-family:verdana\"> a) Utiliza el código anterior (copialo) para crear una función que tenga como parámetros de entrada IP, usuario y contraseña. Llamala \"conexionServer()\". Esta función deberá conectarse a través de Telnet con el servidor especificado. </div>"
   ]
  },
  {
   "cell_type": "code",
   "execution_count": 70,
   "metadata": {},
   "outputs": [
    {
     "name": "stdout",
     "output_type": "stream",
     "text": [
      "b'Ubuntu 16.04.3 LTS\\r\\np4-fvanda-cursopython1 login: ' \n",
      "\n",
      "b'Password: ' \n",
      "\n",
      "\n",
      "Last login: Fri Nov  2 22:09:15 UTC 2018 from 10.1.1.59 on pts/18\n",
      "Welcome to Ubuntu 16.04.3 LTS (GNU/Linux 4.4.0-138-generic x86_64)\n",
      "\n",
      " * Documentation:  https://help.ubuntu.com\n",
      " * Management:     https://landscape.canonical.com\n",
      " * Support:        https://ubuntu.com/advantage\n",
      "\n",
      "  Get cloud support with Ubuntu Advantage Cloud Guest:\n",
      "    http://www.ubuntu.com/business/services/cloud\n",
      "\n",
      "86 packages can be updated.\n",
      "1 update is a security update.\n",
      "\n",
      "New release '18.04.1 LTS' available.\n",
      "Run 'do-release-upgrade' to upgrade to it.\n",
      "\n",
      "\n",
      "ubuntu@p4-fvanda-cursopython1:~$ \n",
      "b'Ubuntu 16.04.3 LTS\\r\\np4-fvanda-cursopython2 login: ' \n",
      "\n",
      "b'Password: ' \n",
      "\n",
      "\n",
      "Last login: Fri Nov  2 22:09:18 UTC 2018 from 10.1.1.59 on pts/0\n",
      "Welcome to Ubuntu 16.04.3 LTS (GNU/Linux 4.4.0-138-generic x86_64)\n",
      "\n",
      " * Documentation:  https://help.ubuntu.com\n",
      " * Management:     https://landscape.canonical.com\n",
      " * Support:        https://ubuntu.com/advantage\n",
      "\n",
      "  Get cloud support with Ubuntu Advantage Cloud Guest:\n",
      "    http://www.ubuntu.com/business/services/cloud\n",
      "\n",
      "86 packages can be updated.\n",
      "1 update is a security update.\n",
      "\n",
      "New release '18.04.1 LTS' available.\n",
      "Run 'do-release-upgrade' to upgrade to it.\n",
      "\n",
      "\n",
      "ubuntu@p4-fvanda-cursopython2:~$ \n",
      "b'Ubuntu 16.04.3 LTS\\r\\np4-fvanda-cursopython3 login: ' \n",
      "\n",
      "b'Password: ' \n",
      "\n",
      "\n",
      "Last login: Fri Nov  2 22:09:21 UTC 2018 from 10.1.1.59 on pts/0\n",
      "Welcome to Ubuntu 16.04.3 LTS (GNU/Linux 4.4.0-138-generic x86_64)\n",
      "\n",
      " * Documentation:  https://help.ubuntu.com\n",
      " * Management:     https://landscape.canonical.com\n",
      " * Support:        https://ubuntu.com/advantage\n",
      "\n",
      "  Get cloud support with Ubuntu Advantage Cloud Guest:\n",
      "    http://www.ubuntu.com/business/services/cloud\n",
      "\n",
      "86 packages can be updated.\n",
      "1 update is a security update.\n",
      "\n",
      "New release '18.04.1 LTS' available.\n",
      "Run 'do-release-upgrade' to upgrade to it.\n",
      "\n",
      "\n",
      "ubuntu@p4-fvanda-cursopython3:~$ \n"
     ]
    }
   ],
   "source": [
    "\n",
    "import telnetlib # Importamos la librería de telnet\n",
    "import time # Utilizaremos algunas funciones del módulo de tiempo\n",
    "\n",
    "def conexionServer(ip,Usuario,contraseña):\n",
    "    usuario = bytes(Usuario,\"utf-8\") # Convertimos el string en bytes\n",
    "    password = bytes(contraseña,\"utf-8\")\n",
    "\n",
    "    telnet = telnetlib.Telnet(ip,23,3) # Esta función abre una sesión de Telnet con la ip y el puerto especificados\n",
    "    login = telnet.read_until(b\"Login: \",timeout=1) # Leemos el texto de la terminal hasta la palabra \"Login:\"\n",
    "    # Especificamos un timeout de 1 segundo por si no obtenemos respuesta.\n",
    "    print(login,\"\\n\") # Imprimimos todo el texto leído hasta la palabra \"Login\", para entender donde estamos.\n",
    "    telnet.write(usuario) # Escribimos el nombre del usuario en la terminal del equipo remoto.\n",
    "    telnet.write(b\"\\n\") # Escribimos \"\\n\" para dar un \"enter\" en la terminal\n",
    "    psswrd = telnet.read_until(b\"Password: \",timeout=1) # Leemos hasta donde aparece la palabra \"password\" y guardamos \n",
    "                                                        # este texto en la variable \"psswrd\".\n",
    "    print(psswrd,\"\\n\")\n",
    "    telnet.write(password) # Ingresamos el password\n",
    "    telnet.write(b\"\\n\")\n",
    "    result = (telnet.read_until(b\">\",timeout=2)).decode() # Leeremos hasta el caracter \">\", efectivamente leyendo todo el\n",
    "                                                          # texto en la terminal.\n",
    "    print(result)\n",
    "def serverFile(archivo):\n",
    "    data = pandas.read_csv(archivo)\n",
    "    for element in range(data.shape[0]):\n",
    "        usuario = data[\"Usuario\"][element]\n",
    "        ip = data[\"IP\"][element]\n",
    "        password = data[\"Contraseña\"][element]\n",
    "        conexionServer(ip,usuario,password)\n",
    "    \n",
    "\n",
    "serverFile('materials/servers.config')"
   ]
  },
  {
   "cell_type": "code",
   "execution_count": 28,
   "metadata": {},
   "outputs": [],
   "source": [
    "#conexionServer(\"192.168.121.34\",\"ubuntu\",\"CursoPython2\")"
   ]
  },
  {
   "cell_type": "markdown",
   "metadata": {},
   "source": [
    "<div style=\"text-align:justify;font-size:1.2em;color:red;font-family:verdana\"> Adapta la funcion anterior para que lea un archivo (servers.config) y pueda acceder a cada uno de los servidores descritos en el archivo e imprima el resultado de la conexion. [10 minutos]</div>"
   ]
  },
  {
   "cell_type": "code",
   "execution_count": 46,
   "metadata": {},
   "outputs": [
    {
     "name": "stdout",
     "output_type": "stream",
     "text": [
      "Shape>\n",
      " (3, 4)\n",
      "Rows>\n",
      " 3\n",
      "Columns>\n",
      " 4\n",
      "Info> \n",
      "                IP Usuario    Contraseña  \\\n",
      "0  192.168.121.32  ubuntu  CursoPython1   \n",
      "1  192.168.121.34  ubuntu  CursoPython2   \n",
      "2  192.168.121.37  ubuntu  CursoPython3   \n",
      "\n",
      "                                               File  \n",
      "0    /home/ubuntu/PrimerTercio/CPy_PrimerTercio.csv  \n",
      "1  /home/ubuntu/SegundoTercio/CPy_SegundoTercio.csv  \n",
      "2    /home/ubuntu/TercerTercio/CPy_TercerTercio.csv  \n"
     ]
    }
   ],
   "source": [
    "import pandas # Importamos el módulo\n",
    "data = pandas.read_csv('materials/servers.config')\n",
    "print(\"Shape>\\n\",data.shape)\n",
    "print(\"Rows>\\n\",data.shape[0])\n",
    "print(\"Columns>\\n\",data.shape[1])\n",
    "print(\"Info> \\n\",data)"
   ]
  },
  {
   "cell_type": "markdown",
   "metadata": {},
   "source": [
    "<div style=\"text-align:justify;font-size:1.1em;color:#2F2B29;font-family:verdana\">¿Qué contiene cada servidor?</div>"
   ]
  },
  {
   "cell_type": "markdown",
   "metadata": {},
   "source": [
    "\n",
    "\n",
    "\n",
    "\n",
    "\n",
    "\n",
    "\n",
    "\n"
   ]
  },
  {
   "cell_type": "markdown",
   "metadata": {},
   "source": [
    "# Ejecución Remota de Comandos"
   ]
  },
  {
   "cell_type": "markdown",
   "metadata": {},
   "source": [
    "<div style=\"text-align:justify;font-size:1.1em;color:#2F2B29;font-family:verdana\">Una vez conectados a un servidor remoto, pasaremos a necesitar ejecutar ciertas acciones, como cambiar de carpeta, copiar o mover archivos y leer información. Recordemos que uno de los beneficios de Telnet es que brinda acceso al servidor como si estuvieramos en su terminal, lo que significa que podemos ejecutar los comandos nativos del equipo. </div>"
   ]
  },
  {
   "cell_type": "markdown",
   "metadata": {},
   "source": [
    "<div style=\"text-align:justify;font-size:1.1em;color:#2F2B29;font-family:verdana\">Los servidores suelen trabajar con el sistema operativo Linux. Al acceder a ellos mediante Telnet, carecemos de una interfaz gráfica para trabajar, lo que nos lleva a la implementación de comandos de terminal para ejecutar los procesos requeridos. No es el interés de este curso indagar en el tema, pero aprenderemos algunas instrucciones básicas que nos permitan navegar con facilidad en el entorno Linux.</div>"
   ]
  },
  {
   "cell_type": "markdown",
   "metadata": {},
   "source": [
    "#### <div style=\"text-align:justify;font-size:1.1em;color:#2F2B29;font-family:verdana\">Comando \"more\"</div>"
   ]
  },
  {
   "cell_type": "markdown",
   "metadata": {},
   "source": [
    "<div style=\"text-align:justify;font-size:1.1em;color:#2F2B29;font-family:verdana\">El comando \"more\" es un filtro que nos permite visualizar el texto de algún documento.</div>"
   ]
  },
  {
   "cell_type": "markdown",
   "metadata": {},
   "source": [
    "#### <div style=\"text-align:justify;font-size:1.1em;color:#2F2B29;font-family:verdana\">Comando \"cd\"</div>"
   ]
  },
  {
   "cell_type": "markdown",
   "metadata": {},
   "source": [
    "<div style=\"text-align:justify;font-size:1.1em;color:#2F2B29;font-family:verdana\">El comando \"cd\" significa \"change directory\". Como su nombre lo indica, este comando nos permite cambiar de directorio en cualquier nivel. Es necesario agregar el nombre del directorio después de la palabra \"cd\"..</div>"
   ]
  },
  {
   "cell_type": "markdown",
   "metadata": {},
   "source": [
    "#### <div style=\"text-align:justify;font-size:1.1em;color:#2F2B29;font-family:verdana\">Comando \"ls -l\"</div>"
   ]
  },
  {
   "cell_type": "markdown",
   "metadata": {},
   "source": [
    "<div style=\"text-align:justify;font-size:1.1em;color:#2F2B29;font-family:verdana\">El comando \"ls\" significa \"list\" y nos permite enlistar los archivos y carpetas contenidos en un directorio.</div>"
   ]
  },
  {
   "cell_type": "markdown",
   "metadata": {},
   "source": [
    "#### <div style=\"text-align:justify;font-size:1.1em;color:#2F2B29;font-family:verdana\">Comando \"head\"</div>"
   ]
  },
  {
   "cell_type": "markdown",
   "metadata": {},
   "source": [
    "<div style=\"text-align:justify;font-size:1.1em;color:#2F2B29;font-family:verdana\"> Este comando nos permitirá ver las primeras lineas de un archivo con texto. Podemos agregar un guion y un numero para que nos entregue una cantidad especifica de lineas.</div>"
   ]
  },
  {
   "cell_type": "markdown",
   "metadata": {},
   "source": [
    "#### <div style=\"text-align:justify;font-size:1.1em;color:#2F2B29;font-family:verdana\">Ejecutando comandos remotamente</div>"
   ]
  },
  {
   "cell_type": "markdown",
   "metadata": {},
   "source": [
    "<div style=\"text-align:justify;font-size:1.1em;color:#2F2B29;font-family:verdana\"> Podemos ejecutar comandos en el servidor remoto al que estamos conectados utilizando la función \"write\". En el ejemplo siguiente, usaremos el comando \"ls\" para revisar los contenidos del folder donde nos encontramos en el servidor.</div>"
   ]
  },
  {
   "cell_type": "markdown",
   "metadata": {},
   "source": [
    "<img src=\"materials/notepad.svg\" style=\"width: 150px;\"/>\n"
   ]
  },
  {
   "cell_type": "markdown",
   "metadata": {},
   "source": [
    "#### <div style=\"text-align:CENTER;font-size:1.3em;color:red;font-family:verdana\"> EJERCICIO 9.1-3 [1 minutos]</div>\n",
    "<div style=\"text-align:justify;font-size:1.2em;color:red;font-family:verdana\"> Corre el siguiente codigo para conectarte a un servidor y utilizar el comando \"ls\". ¿Qué resultado obtenemos?  </div>"
   ]
  },
  {
   "cell_type": "code",
   "execution_count": 32,
   "metadata": {},
   "outputs": [
    {
     "name": "stdout",
     "output_type": "stream",
     "text": [
      "b'Ubuntu 16.04.3 LTS\\r\\np4-fvanda-cursopython1 login: ' \n",
      "\n",
      "b'Password: ' \n",
      "\n",
      "\n",
      "Last login: Fri Nov  2 18:18:02 UTC 2018 from 10.1.1.59 on pts/0\n",
      "Welcome to Ubuntu 16.04.3 LTS (GNU/Linux 4.4.0-138-generic x86_64)\n",
      "\n",
      " * Documentation:  https://help.ubuntu.com\n",
      " * Management:     https://landscape.canonical.com\n",
      " * Support:        https://ubuntu.com/advantage\n",
      "\n",
      "  Get cloud support with Ubuntu Advantage Cloud Guest:\n",
      "    http://www.ubuntu.com/business/services/cloud\n",
      "\n",
      "86 packages can be updated.\n",
      "1 update is a security update.\n",
      "\n",
      "New release '18.04.1 LTS' available.\n",
      "Run 'do-release-upgrade' to upgrade to it.\n",
      "\n",
      "\n",
      "ubuntu@p4-fvanda-cursopython1:~$ \n",
      "ls\n",
      "PrimerTercio\n",
      "ubuntu@p4-fvanda-cursopython1:~$\n"
     ]
    }
   ],
   "source": [
    "usuario = bytes(\"ubuntu\",\"utf-8\") # Convertimos el string en bytes\n",
    "password = bytes(\"CursoPython1\",\"utf-8\")\n",
    "\n",
    "telnet = telnetlib.Telnet('192.168.121.32',23,3) # Esta función abre una sesión de Telnet con la ip y el puerto especificados\n",
    "login = telnet.read_until(b\"Login: \",timeout=1) # Leemos el texto de la terminal hasta la palabra \"Login:\"\n",
    "# Especificamos un timeout de 1 segundo por si no obtenemos respuesta.\n",
    "print(login,\"\\n\") # Imprimimos todo el texto leído hasta la palabra \"Login\", para entender donde estamos.\n",
    "telnet.write(usuario) # Escribimos el nombre del usuario en la terminal del equipo remoto.\n",
    "telnet.write(b\"\\n\") # Escribimos \"\\n\" para dar un \"enter\" en la terminal\n",
    "psswrd = telnet.read_until(b\"Password: \",timeout=1) # Leemos hasta donde aparece la palabra \"password\" y guardamos \n",
    "                                                        # este texto en la variable \"psswrd\".\n",
    "print(psswrd,\"\\n\") \n",
    "telnet.write(password) # Ingresamos el password\n",
    "telnet.write(b\"\\n\")\n",
    "result = (telnet.read_until(b\">\",timeout=2)).decode() # Leeremos hasta el caracter \">\", efectivamente leyendo todo el\n",
    "                                                          # texto en la terminal.\n",
    "print(result)\n",
    "telnet.write(b\"ls\") # Escribimos el comando \"pwd\", el cual mostrará el path del directorio actual.\n",
    "telnet.write(b\"\\n\")\n",
    "time.sleep(2) # Utilizamos la función \"sleep\" del módulo time para dar un tiempo y leer el texto desplegado.\n",
    "                  # De no contar con este sleep, no alcanzaríamos a leer el texto y retornaríamos un espacio en blanco.\n",
    "test = (telnet.read_eager()).decode() # La función read_eager lee toda la información disponible en la terminal.\n",
    "print(test)"
   ]
  },
  {
   "cell_type": "markdown",
   "metadata": {},
   "source": [
    "#### <div style=\"text-align:justify;font-size:1.1em;color:#2F2B29;font-family:verdana\">Guardar archivos TXT.</div>"
   ]
  },
  {
   "cell_type": "markdown",
   "metadata": {},
   "source": [
    "<div style=\"text-align:justify;font-size:1.1em;color:#2F2B29;font-family:verdana\"> En ocasiones puede resultar conveniente guardar archivos o \"logs\" donde documentaremos lo ocurrido cuando realizamos una conexion remota. Un formato popular para hacer esto es el TXT.</div>"
   ]
  },
  {
   "cell_type": "code",
   "execution_count": 74,
   "metadata": {},
   "outputs": [
    {
     "data": {
      "text/plain": [
       "15"
      ]
     },
     "execution_count": 74,
     "metadata": {},
     "output_type": "execute_result"
    }
   ],
   "source": [
    "file = open(\"archivoTest2.txt\",\"w\") \n",
    "file.write(\"Curso de Python\") \n",
    "file.write(\"Curso de Python\") "
   ]
  },
  {
   "cell_type": "markdown",
   "metadata": {},
   "source": [
    "<img src=\"materials/notepad.svg\" style=\"width: 150px;\"/>\n"
   ]
  },
  {
   "cell_type": "markdown",
   "metadata": {},
   "source": [
    "#### <div style=\"text-align:CENTER;font-size:1.3em;color:red;font-family:verdana\"> EJERCICIO 9.1-4 [10 minutos]</div>\n",
    "<div style=\"text-align:justify;font-size:1.2em;color:red;font-family:verdana\"> Crea una funcion que se conecte a cada uno de los servidores, entre a la carpeta y haga un \"more\" o \"head\" al archivo contenido. Despliega los resultados de todo el proceso y escribelo en un archivo txt. El archivo \"servers.config\" incluye un path al archivo de cada servidor. Puedes usar este path para hacer mas sencillo tu codigo.  </div>"
   ]
  },
  {
   "cell_type": "code",
   "execution_count": 79,
   "metadata": {},
   "outputs": [
    {
     "name": "stdout",
     "output_type": "stream",
     "text": [
      "b'Ubuntu 16.04.3 LTS\\r\\np4-fvanda-cursopython1 login: ' \n",
      "\n",
      "b'Password: ' \n",
      "\n",
      "\n",
      "Last login: Fri Nov  2 22:30:22 UTC 2018 from 10.1.3.33 on pts/30\n",
      "Welcome to Ubuntu 16.04.3 LTS (GNU/Linux 4.4.0-138-generic x86_64)\n",
      "\n",
      " * Documentation:  https://help.ubuntu.com\n",
      " * Management:     https://landscape.canonical.com\n",
      " * Support:        https://ubuntu.com/advantage\n",
      "\n",
      "  Get cloud support with Ubuntu Advantage Cloud Guest:\n",
      "    http://www.ubuntu.com/business/services/cloud\n",
      "\n",
      "86 packages can be updated.\n",
      "1 update is a security update.\n",
      "\n",
      "New release '18.04.1 LTS' available.\n",
      "Run 'do-release-upgrade' to upgrade to it.\n",
      "\n",
      "\n",
      "ubuntu@p4-fvanda-cursopython1:~$ \n",
      "\n",
      "b'Ubuntu 16.04.3 LTS\\r\\np4-fvanda-cursopython2 login: ' \n",
      "\n",
      "b'Password: ' \n",
      "\n",
      "\n",
      "Last login: Fri Nov  2 22:29:07 UTC 2018 from 10.1.1.59 on pts/0\n",
      "Welcome to Ubuntu 16.04.3 LTS (GNU/Linux 4.4.0-138-generic x86_64)\n",
      "\n",
      " * Documentation:  https://help.ubuntu.com\n",
      " * Management:     https://landscape.canonical.com\n",
      " * Support:        https://ubuntu.com/advantage\n",
      "\n",
      "  Get cloud support with Ubuntu Advantage Cloud Guest:\n",
      "    http://www.ubuntu.com/business/services/cloud\n",
      "\n",
      "86 packages can be updated.\n",
      "1 update is a security update.\n",
      "\n",
      "New release '18.04.1 LTS' available.\n",
      "Run 'do-release-upgrade' to upgrade to it.\n",
      "\n",
      "\n",
      "ubuntu@p4-fvanda-cursopython2:~$ \n",
      "\n",
      "b'Ubuntu 16.04.3 LTS\\r\\np4-fvanda-cursopython3 login: ' \n",
      "\n",
      "b'Password: ' \n",
      "\n",
      "\n",
      "Last login: Fri Nov  2 22:29:10 UTC 2018 from 10.1.1.59 on pts/1\n",
      "Welcome to Ubuntu 16.04.3 LTS (GNU/Linux 4.4.0-138-generic x86_64)\n",
      "\n",
      " * Documentation:  https://help.ubuntu.com\n",
      " * Management:     https://landscape.canonical.com\n",
      " * Support:        https://ubuntu.com/advantage\n",
      "\n",
      "  Get cloud support with Ubuntu Advantage Cloud Guest:\n",
      "    http://www.ubuntu.com/business/services/cloud\n",
      "\n",
      "86 packages can be updated.\n",
      "1 update is a security update.\n",
      "\n",
      "New release '18.04.1 LTS' available.\n",
      "Run 'do-release-upgrade' to upgrade to it.\n",
      "\n",
      "\n",
      "ubuntu@p4-fvanda-cursopython3:~$ \n",
      "\n"
     ]
    }
   ],
   "source": [
    "import telnetlib # Importamos la librería de telnet\n",
    "import time # Utilizaremos algunas funciones del módulo de tiempo\n",
    "\n",
    "def conexionServer(ip,Usuario,contraseña,archivo,archivoTxt):\n",
    "    usuario = bytes(Usuario,\"utf-8\") # Convertimos el string en bytes\n",
    "    password = bytes(contraseña,\"utf-8\")\n",
    "    file = archivo\n",
    "    fileTxt = archivoTxt\n",
    "\n",
    "    telnet = telnetlib.Telnet(ip,23,3) # Esta función abre una sesión de Telnet con la ip y el puerto especificados\n",
    "    login = telnet.read_until(b\"Login: \",timeout=1) # Leemos el texto de la terminal hasta la palabra \"Login:\"\n",
    "    # Especificamos un timeout de 1 segundo por si no obtenemos respuesta.\n",
    "    print(login,\"\\n\") # Imprimimos todo el texto leído hasta la palabra \"Login\", para entender donde estamos.\n",
    "    telnet.write(usuario) # Escribimos el nombre del usuario en la terminal del equipo remoto.\n",
    "    telnet.write(b\"\\n\") # Escribimos \"\\n\" para dar un \"enter\" en la terminal\n",
    "    psswrd = telnet.read_until(b\"Password: \",timeout=1) # Leemos hasta donde aparece la palabra \"password\" y guardamos \n",
    "                                                        # este texto en la variable \"psswrd\".\n",
    "    print(psswrd,\"\\n\")\n",
    "    telnet.write(password) # Ingresamos el password\n",
    "    telnet.write(b\"\\n\")\n",
    "    result = (telnet.read_until(b\">\",timeout=2)).decode() # Leeremos hasta el caracter \">\", efectivamente leyendo todo el\n",
    "                                                          # texto en la terminal.\n",
    "    print(result)\n",
    "    command = \"more \"+ file\n",
    "    command = bytes(command,\"utf-8\")\n",
    "    telnet.write(command)\n",
    "    telnet.write(b\"\\n\")\n",
    "    test = (telnet.read_eager()).decode()\n",
    "    fileTxt.write(test)\n",
    "    fileTxt.write(test)\n",
    "    fileTxt.write(test)\n",
    "    fileTxt.write(test)\n",
    "    print(test)\n",
    "    \n",
    "def serverFile(archivo,archivoTxt):\n",
    "    data = pandas.read_csv(archivo)\n",
    "    file = open(archivoTxt,\"w\") \n",
    "    for element in range(data.shape[0]):\n",
    "        usuario = data[\"Usuario\"][element]\n",
    "        ip = data[\"IP\"][element]\n",
    "        password = data[\"Contraseña\"][element]\n",
    "        archivo = data[\"File\"][element]\n",
    "        conexionServer(ip,usuario,password,archivo,file)\n",
    "    \n",
    "\n",
    "serverFile('materials/servers.config',\"txtTest.txt\")"
   ]
  },
  {
   "cell_type": "code",
   "execution_count": 83,
   "metadata": {},
   "outputs": [
    {
     "name": "stdout",
     "output_type": "stream",
     "text": [
      "b'Ubuntu 16.04.3 LTS\\r\\np4-fvanda-cursopython1 login: ' \n",
      "\n",
      "b'Password: ' \n",
      "\n",
      "\n",
      "Last login: Fri Nov  2 22:36:12 UTC 2018 from 10.1.3.33 on pts/42\n",
      "Welcome to Ubuntu 16.04.3 LTS (GNU/Linux 4.4.0-138-generic x86_64)\n",
      "\n",
      " * Documentation:  https://help.ubuntu.com\n",
      " * Management:     https://landscape.canonical.com\n",
      " * Support:        https://ubuntu.com/advantage\n",
      "\n",
      "  Get cloud support with Ubuntu Advantage Cloud Guest:\n",
      "    http://www.ubuntu.com/business/services/cloud\n",
      "\n",
      "86 packages can be updated.\n",
      "1 update is a security update.\n",
      "\n",
      "New release '18.04.1 LTS' available.\n",
      "Run 'do-release-upgrade' to upgrade to it.\n",
      "\n",
      "\n",
      "ubuntu@p4-fvanda-cursopython1:~$ \n",
      "\n"
     ]
    }
   ],
   "source": [
    "import telnetlib # Importamos la librería de telnet\n",
    "import time # Utilizaremos algunas funciones del módulo de tiempo\n",
    "\n",
    "\n",
    "usuario = bytes(\"ubuntu\",\"utf-8\") # Convertimos el string en bytes\n",
    "password = bytes(\"CursoPython1\",\"utf-8\")\n",
    "\n",
    "telnet = telnetlib.Telnet(\"192.168.121.32\",23,3) # Esta función abre una sesión de Telnet con la ip y el puerto especificados\n",
    "login = telnet.read_until(b\"Login: \",timeout=1) # Leemos el texto de la terminal hasta la palabra \"Login:\"\n",
    "# Especificamos un timeout de 1 segundo por si no obtenemos respuesta.\n",
    "print(login,\"\\n\") # Imprimimos todo el texto leído hasta la palabra \"Login\", para entender donde estamos.\n",
    "telnet.write(usuario) # Escribimos el nombre del usuario en la terminal del equipo remoto.\n",
    "telnet.write(b\"\\n\") # Escribimos \"\\n\" para dar un \"enter\" en la terminal\n",
    "psswrd = telnet.read_until(b\"Password: \",timeout=1) # Leemos hasta donde aparece la palabra \"password\" y guardamos \n",
    "                                                    # este texto en la variable \"psswrd\".\n",
    "print(psswrd,\"\\n\") \n",
    "telnet.write(password) # Ingresamos el password\n",
    "telnet.write(b\"\\n\")\n",
    "result = (telnet.read_until(b\">\",timeout=2)).decode() # Leeremos hasta el caracter \">\", efectivamente leyendo todo el\n",
    "print(result)  \n",
    "# texto en la terminal.\n",
    "command = \"more \"+ \"/home/ubuntu/PrimerTercio/CPy_PrimerTercio.csv\"\n",
    "telnet.write(bytes(command,\"utf-8\"))\n",
    "result = (telnet.read_eager()).decode()\n",
    "print(result)\n"
   ]
  },
  {
   "cell_type": "code",
   "execution_count": null,
   "metadata": {},
   "outputs": [],
   "source": []
  }
 ],
 "metadata": {
  "kernelspec": {
   "display_name": "Python 3",
   "language": "python",
   "name": "python3"
  },
  "language_info": {
   "codemirror_mode": {
    "name": "ipython",
    "version": 3
   },
   "file_extension": ".py",
   "mimetype": "text/x-python",
   "name": "python",
   "nbconvert_exporter": "python",
   "pygments_lexer": "ipython3",
   "version": "3.7.5"
  }
 },
 "nbformat": 4,
 "nbformat_minor": 2
}
