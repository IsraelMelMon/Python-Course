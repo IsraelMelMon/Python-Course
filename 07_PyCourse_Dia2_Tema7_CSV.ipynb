{
 "cells": [
  {
   "cell_type": "markdown",
   "metadata": {},
   "source": [
    "### <font color='black'><div style=\"text-align: center\">2020</div></font>\n",
    "---\n",
    "![image](materials/python-logo-notext.svg)\n",
    "# <div style=\"text-align:center;font-size:1.8em;color:blue;font-family:verdana\">CURSO BÁSICO DE PYTHON</div>\n",
    "## <div style=\"text-align:center;font-size:1.2em;color:blue;font-family:verdana\">DÍA 7</div>\n",
    "\n",
    "<div font color='gray'><div style=\"text-align: center\">AXTEL</div>"
   ]
  },
  {
   "cell_type": "markdown",
   "metadata": {},
   "source": [
    "\n",
    "# <div style=\"text-align:center;font-size:1.1em;color:blue;font-family:verdana\">7. ARCHIVOS CSV</div>"
   ]
  },
  {
   "cell_type": "markdown",
   "metadata": {},
   "source": [
    "<div style=\"text-align:justify;font-size:1.1em;color:#2F2B29;font-family:verdana\">Un formato popular de archivo es el de CSV, que significa Comma Separated Values. Estos archivos son ampliamente utilizados debido a su formato sencillo y fácil de manipular. </div>\n",
    "\n"
   ]
  },
  {
   "cell_type": "markdown",
   "metadata": {},
   "source": [
    "<div style=\"text-align:justify;font-size:1.1em;color:#2F2B29;font-family:verdana\"> Un archivo CSV consiste en un conjunto de datos separados por comas, y en ocasiones cuentan con encabezados que describen la información contenida. Es posible acceder a los datos y separarlos por columna o fila.</div>"
   ]
  },
  {
   "cell_type": "markdown",
   "metadata": {},
   "source": [
    "<div style=\"text-align:justify;font-size:1.1em;color:#2F2B29;font-family:verdana\"> Crear un archivo CSV es muy sencillo y puede realizarse desde un editor de texto.</div>"
   ]
  },
  {
   "cell_type": "markdown",
   "metadata": {},
   "source": [
    "<img src=\"materials/notepad.svg\" style=\"width: 150px;\"/>\n"
   ]
  },
  {
   "cell_type": "markdown",
   "metadata": {},
   "source": [
    "#### <div style=\"text-align:CENTER;font-size:1.3em;color:red;font-family:verdana\"> EJERCICIO 7.1-1 [5 minutos]</div>\n",
    "<div style=\"text-align:justify;font-size:1.2em;color:red;font-family:verdana\"> Elabora un archivo CSV utilizando un editor de texto como el Notepad. Usa Excel o una herramienta similar para visualizarlo.</div>"
   ]
  },
  {
   "cell_type": "markdown",
   "metadata": {},
   "source": [
    "# Leer un CSV"
   ]
  },
  {
   "cell_type": "markdown",
   "metadata": {},
   "source": [
    "<div style=\"text-align:justify;font-size:1.1em;color:#2F2B29;font-family:verdana\">Para poder manipular archivos CSV, primeramente debemos importar un módulo de ayuda:</div>"
   ]
  },
  {
   "cell_type": "code",
   "execution_count": 1,
   "metadata": {},
   "outputs": [
    {
     "name": "stdout",
     "output_type": "stream",
     "text": [
      "    NOMBRE     APELLIDO  EDAD        CARRERA\n",
      "0     Juan     Gonzalez    29  Mercadotecnia\n",
      "1     José  Goldaracena    22       Sistemas\n",
      "2    María      Jimenez    45       Finanzas\n",
      "3    Carla    Hernandez    65       Medicina\n",
      "4  Mariana        Lopez    35     Contaduria\n"
     ]
    }
   ],
   "source": [
    "import pandas\n",
    "\n",
    "\n",
    "data = pandas.read_csv('materials/ejemplo1.csv')\n",
    "print(data)\n",
    "# o la libreria csv\n",
    "#import csv"
   ]
  },
  {
   "cell_type": "markdown",
   "metadata": {},
   "source": [
    "<div style=\"text-align:justify;font-size:1.1em;color:#2F2B29;font-family:verdana\"> Empecemos abriendo el archivo .csv incluido con el material del curso para entender su composición.</div>"
   ]
  },
  {
   "cell_type": "markdown",
   "metadata": {},
   "source": [
    "![image](materials/csv.png)"
   ]
  },
  {
   "cell_type": "markdown",
   "metadata": {},
   "source": [
    "<div style=\"text-align:justify;font-size:1.1em;color:#2F2B29;font-family:verdana\">Como podemos ver, el archivo consiste en columnas con información del nombre, apellido, edad y carrera de 5 personas.</div>"
   ]
  },
  {
   "cell_type": "markdown",
   "metadata": {},
   "source": [
    "<div style=\"text-align:justify;font-size:1.1em;color:#2F2B29;font-family:verdana\">Ahora procederemos a abrir esta información mediante funciones contenidas en el módulo \"pandas\". Ejecutemos la siguiente celda:</div>"
   ]
  },
  {
   "cell_type": "code",
   "execution_count": 5,
   "metadata": {
    "scrolled": true
   },
   "outputs": [
    {
     "name": "stdout",
     "output_type": "stream",
     "text": [
      "    NOMBRE     APELLIDO  EDAD        CARRERA\n",
      "0     Juan     Gonzalez    29  Mercadotecnia\n",
      "1     José  Goldaracena    22       Sistemas\n",
      "2    María      Jimenez    45       Finanzas\n",
      "3    Carla    Hernandez    65       Medicina\n",
      "4  Mariana        Lopez    35     Contaduria\n",
      "<class 'pandas.core.frame.DataFrame'>\n"
     ]
    }
   ],
   "source": [
    "import pandas # Importamos el módulo\n",
    "data = pandas.read_csv('materials/ejemplo1.csv')\n",
    "print(data)\n",
    "print(type(data))"
   ]
  },
  {
   "cell_type": "code",
   "execution_count": 2,
   "metadata": {},
   "outputs": [
    {
     "name": "stdout",
     "output_type": "stream",
     "text": [
      "['NOMBRE', 'APELLIDO', 'EDAD', 'CARRERA']\n",
      "['Juan', 'Gonzalez', '29', 'Mercadotecnia']\n",
      "['José', 'Goldaracena', '22', 'Sistemas']\n",
      "['María', 'Jimenez', '45', 'Finanzas']\n",
      "['Carla', 'Hernandez', '65', 'Medicina']\n",
      "['Mariana', 'Lopez', '35', 'Contaduria']\n"
     ]
    }
   ],
   "source": [
    "import csv\n",
    "with open('materials/ejemplo1.csv', newline='\\n',encoding='utf-8') as File:  \n",
    "    reader = csv.reader(File)\n",
    "    for row in reader:\n",
    "        print(row)"
   ]
  },
  {
   "cell_type": "markdown",
   "metadata": {},
   "source": [
    "<img src=\"materials/notepad.svg\" style=\"width: 150px;\"/>\n"
   ]
  },
  {
   "cell_type": "markdown",
   "metadata": {},
   "source": [
    "#### <div style=\"text-align:CENTER;font-size:1.3em;color:red;font-family:verdana\"> EJERCICIO 7.1-2 [2 minutos]</div>\n",
    "<div style=\"text-align:justify;font-size:1.2em;color:red;font-family:verdana\"> Abre el archivo \"ejemplo2.csv\" e imprime su contenido.</div>"
   ]
  },
  {
   "cell_type": "code",
   "execution_count": 20,
   "metadata": {},
   "outputs": [
    {
     "name": "stdout",
     "output_type": "stream",
     "text": [
      "    NOMBRE     APELLIDO  EDAD        CARRERA\n",
      "0     Juan     Gonzalez    29  Mercadotecnia\n",
      "1     José  Goldaracena    22       Sistemas\n",
      "2    María      Jimenez    45       Finanzas\n",
      "3    Carla    Hernandez    65       Medicina\n",
      "4  Mariana        Lopez    35     Contaduria\n"
     ]
    }
   ],
   "source": [
    "# Ejecuta tu código aquí.\n",
    "import pandas # Importamos el módulo\n",
    "data = pandas.read_csv('materials/ejemplo1.csv')\n",
    "print(data)"
   ]
  },
  {
   "cell_type": "markdown",
   "metadata": {},
   "source": [
    "\n"
   ]
  },
  {
   "cell_type": "markdown",
   "metadata": {},
   "source": [
    "\n"
   ]
  },
  {
   "cell_type": "markdown",
   "metadata": {},
   "source": [
    "\n"
   ]
  },
  {
   "cell_type": "markdown",
   "metadata": {},
   "source": [
    "# Columnas\n"
   ]
  },
  {
   "cell_type": "markdown",
   "metadata": {},
   "source": [
    "<div style=\"text-align:justify;font-size:1.1em;color:#2F2B29;font-family:verdana\">Podemos elegir la información de una columna particular utilizando el encabezado de esta.  </div>"
   ]
  },
  {
   "cell_type": "code",
   "execution_count": 4,
   "metadata": {
    "scrolled": true
   },
   "outputs": [
    {
     "name": "stdout",
     "output_type": "stream",
     "text": [
      "0       Gonzalez\n",
      "1    Goldaracena\n",
      "2        Jimenez\n",
      "3      Hernandez\n",
      "4          Lopez\n",
      "Name: APELLIDO, dtype: object\n"
     ]
    }
   ],
   "source": [
    "import pandas # Importamos el módulo\n",
    "data = pandas.read_csv('materials/ejemplo1.csv')\n",
    "print(data[\"APELLIDO\"])\n"
   ]
  },
  {
   "cell_type": "code",
   "execution_count": 7,
   "metadata": {},
   "outputs": [
    {
     "name": "stdout",
     "output_type": "stream",
     "text": [
      "CARRERA\n",
      "Mercadotecnia\n",
      "Sistemas\n",
      "Finanzas\n",
      "Medicina\n",
      "Contaduria\n"
     ]
    }
   ],
   "source": [
    "import csv\n",
    " \n",
    "with open('materials/ejemplo1.csv', newline='\\n',encoding='utf-8') as File:  \n",
    "    reader = csv.reader(File)\n",
    "    for row in reader:\n",
    "        print(row[3])"
   ]
  },
  {
   "cell_type": "markdown",
   "metadata": {},
   "source": [
    "<img src=\"materials/notepad.svg\" style=\"width: 150px;\"/>\n"
   ]
  },
  {
   "cell_type": "markdown",
   "metadata": {},
   "source": [
    "#### <div style=\"text-align:CENTER;font-size:1.3em;color:red;font-family:verdana\"> EJERCICIO 7.1-3 [3 minutos]</div>\n",
    "<div style=\"text-align:justify;font-size:1.2em;color:red;font-family:verdana\"> Manda llamar el apellido de las personas en el archivo \"ejemplo1.csv\" e imprimelo. Haz lo mismo con el archivo \"ejemplo2.csv\"</div>"
   ]
  },
  {
   "cell_type": "code",
   "execution_count": 17,
   "metadata": {},
   "outputs": [
    {
     "name": "stdout",
     "output_type": "stream",
     "text": [
      "APELLIDO\n",
      "de los Santos\n",
      "Fernandez\n",
      "Vanda\n",
      "Gates\n"
     ]
    }
   ],
   "source": [
    "# Ejecuta tu código aquí.\n",
    "import csv, pandas\n",
    "with open('materials/ejemplo2.csv', newline='\\n', encoding='utf-8') as Document:\n",
    "    reader = csv.reader(Document)\n",
    "    for row in reader:\n",
    "        print(row[1])\n",
    "\n"
   ]
  },
  {
   "cell_type": "markdown",
   "metadata": {},
   "source": [
    "\n"
   ]
  },
  {
   "cell_type": "markdown",
   "metadata": {},
   "source": [
    "\n"
   ]
  },
  {
   "cell_type": "markdown",
   "metadata": {},
   "source": [
    "\n"
   ]
  },
  {
   "cell_type": "markdown",
   "metadata": {},
   "source": [
    "<div style=\"text-align:justify;font-size:1.1em;color:#2F2B29;font-family:verdana\">Pero, ¿ y si quisieramos consultar un dato en una fila y columnas específicas? En este caso podemos hacer lo siguiente: </div>"
   ]
  },
  {
   "cell_type": "code",
   "execution_count": 2,
   "metadata": {},
   "outputs": [
    {
     "name": "stdout",
     "output_type": "stream",
     "text": [
      "Fernando\n"
     ]
    }
   ],
   "source": [
    "# Ejecuta esta celda. \n",
    "import pandas \n",
    "data = pandas.read_csv('materials/ejemplo2.csv')\n",
    "# print(data[\"CARRERA\"][1])\n",
    "print(data.iloc[1][\"NOMBRE\"])"
   ]
  },
  {
   "cell_type": "markdown",
   "metadata": {},
   "source": [
    "<div style=\"text-align:justify;font-size:1.1em;color:#2F2B29;font-family:verdana\"> Para acceder a un dato en una columna y fila específicas, escribimos entre corchetes primero el nombre de la columna, y luego agregamos corchetes con el índice de la fila.</div>"
   ]
  },
  {
   "cell_type": "markdown",
   "metadata": {},
   "source": [
    "<img src=\"materials/notepad.svg\" style=\"width: 150px;\"/>\n"
   ]
  },
  {
   "cell_type": "markdown",
   "metadata": {},
   "source": [
    "#### <div style=\"text-align:CENTER;font-size:1.3em;color:red;font-family:verdana\"> EJERCICIO 7.1-4 [5 minutos]</div>\n",
    "<div style=\"text-align:justify;font-size:1.2em;color:red;font-family:verdana\"> Abre el archivo \"ejemplo1.csv\" como un objeto de pandas (como en el ejemplo anterior) e imprime toda la información de Carla (nombre, apellido,edad,carrera). El formato resultante debe ser similar al siguiente:</div>"
   ]
  },
  {
   "cell_type": "markdown",
   "metadata": {},
   "source": [
    "\n",
    "<div style=\"text-align:justify;font-size:1.1em;color:red;font-family:verdana\"> Nombre y Apellido: Carla Hernandez - Edad: 65 - Carrera: Medicina</div>\n"
   ]
  },
  {
   "cell_type": "code",
   "execution_count": 3,
   "metadata": {},
   "outputs": [
    {
     "name": "stdout",
     "output_type": "stream",
     "text": [
      "Nombre y Apellido:Carla Hernandez - Edad:65 - Carrera:Medicina\n"
     ]
    }
   ],
   "source": [
    "# Ejecuta tu código aquí.\n",
    "import pandas \n",
    "data = pandas.read_csv('materials/ejemplo1.csv')\n",
    "nombre = data.iloc[3]['NOMBRE']\n",
    "apellido = data.iloc[3]['APELLIDO']\n",
    "edad = data.iloc[3]['EDAD']\n",
    "carrera = data.iloc[3]['CARRERA']\n",
    "print('Nombre y Apellido:{0} {1} - Edad:{2} - Carrera:{3}'.format(nombre, apellido, edad, carrera))"
   ]
  },
  {
   "cell_type": "markdown",
   "metadata": {},
   "source": [
    "\n"
   ]
  },
  {
   "cell_type": "markdown",
   "metadata": {},
   "source": [
    "\n"
   ]
  },
  {
   "cell_type": "markdown",
   "metadata": {},
   "source": [
    "\n"
   ]
  },
  {
   "cell_type": "markdown",
   "metadata": {},
   "source": [
    "<img src=\"materials/notepad.svg\" style=\"width: 150px;\"/>\n"
   ]
  },
  {
   "cell_type": "markdown",
   "metadata": {},
   "source": [
    "#### <div style=\"text-align:CENTER;font-size:1.3em;color:red;font-family:verdana\"> EJERCICIO 7.1-5 [5 minutos]</div>\n",
    "<div style=\"text-align:justify;font-size:1.2em;color:red;font-family:verdana\"> Crea una función que reciba como argumento un archivo \".csv\". La función debe imprimir los nombres de todas las personas especificadas en el archivo. Pruébala con \"ejemplo1.csv\" y \"ejemplo2.csv\".</div>"
   ]
  },
  {
   "cell_type": "code",
   "execution_count": 4,
   "metadata": {},
   "outputs": [
    {
     "name": "stdout",
     "output_type": "stream",
     "text": [
      "0       Marco\n",
      "1    Fernando\n",
      "2        Paco\n",
      "3      Romulo\n",
      "Name: NOMBRE, dtype: object\n",
      "0       Juan\n",
      "1       José\n",
      "2      María\n",
      "3      Carla\n",
      "4    Mariana\n",
      "Name: NOMBRE, dtype: object\n"
     ]
    }
   ],
   "source": [
    "# Ejecuta tu código aquí.\n",
    "csv1 = \"ejemplo1.csv\"\n",
    "csv2 = \"ejemplo2.csv\"\n",
    "\n",
    "def printNames(csvFile):\n",
    "    data = pandas.read_csv('materials/' + csvFile)\n",
    "    nombres = data[\"NOMBRE\"]\n",
    "    print(nombres)\n",
    "    \n",
    "printNames(csv2)\n",
    "printNames(csv1)\n",
    "    \n"
   ]
  },
  {
   "cell_type": "markdown",
   "metadata": {},
   "source": [
    "\n"
   ]
  },
  {
   "cell_type": "markdown",
   "metadata": {},
   "source": [
    "\n"
   ]
  },
  {
   "cell_type": "markdown",
   "metadata": {},
   "source": [
    "<img src=\"materials/notepad.svg\" style=\"width: 150px;\"/>\n"
   ]
  },
  {
   "cell_type": "markdown",
   "metadata": {},
   "source": [
    "\n"
   ]
  },
  {
   "cell_type": "markdown",
   "metadata": {},
   "source": [
    "#### <div style=\"text-align:CENTER;font-size:1.3em;color:red;font-family:verdana\"> EJERCICIO 7.1-6 [2 minutos]</div>\n",
    "<div style=\"text-align:justify;font-size:1.2em;color:red;font-family:verdana\"> Abre el archivo \"servers.config\" y analizalo. Utiliza el módulo \"pandas\", lee su contenido e imprimelo.</div>"
   ]
  },
  {
   "cell_type": "code",
   "execution_count": 32,
   "metadata": {},
   "outputs": [
    {
     "name": "stdout",
     "output_type": "stream",
     "text": [
      "               IP Usuario    Contraseña  \\\n",
      "0  192.168.121.32  ubuntu  CursoPython1   \n",
      "1  192.168.121.34  ubuntu  CursoPython2   \n",
      "2  192.168.121.37  ubuntu  CursoPython3   \n",
      "\n",
      "                                               File  \n",
      "0    /home/ubuntu/PrimerTercio/CPy_PrimerTercio.csv  \n",
      "1  /home/ubuntu/SegundoTercio/CPy_SegundoTercio.csv  \n",
      "2    /home/ubuntu/TercerTercio/CPy_TercerTercio.csv  \n"
     ]
    }
   ],
   "source": [
    "# Ejecuta tu código aquí.\n",
    "\n",
    "\n",
    "data = pandas.read_csv(\"servers.config\")\n",
    "print(data)\n",
    "\n",
    "\n"
   ]
  },
  {
   "cell_type": "markdown",
   "metadata": {},
   "source": [
    "\n"
   ]
  },
  {
   "cell_type": "markdown",
   "metadata": {},
   "source": [
    "\n"
   ]
  },
  {
   "cell_type": "markdown",
   "metadata": {},
   "source": [
    "\n"
   ]
  },
  {
   "cell_type": "markdown",
   "metadata": {},
   "source": [
    "# Guardar un archivo CSV\n"
   ]
  },
  {
   "cell_type": "markdown",
   "metadata": {},
   "source": [
    "\n"
   ]
  },
  {
   "cell_type": "markdown",
   "metadata": {},
   "source": [
    "<div style=\"text-align:justify;font-size:1.1em;color:#2F2B29;font-family:verdana\"> Utilizaremos nuevamente la librería de CSV para guardar un archivo.</div>"
   ]
  },
  {
   "cell_type": "markdown",
   "metadata": {},
   "source": [
    "<div style=\"text-align:justify;font-size:1.1em;color:#2F2B29;font-family:verdana\"> Creemos un archivo que se llame \"ejemplo.csv\" y guardemos los siguientes datos:</div>"
   ]
  },
  {
   "cell_type": "markdown",
   "metadata": {},
   "source": [
    "<div style=\"text-align:justify;font-size:1.1em;color:#2F2B29;font-family:verdana\"> Primeramente haremos una lista con los valores que deseamos guardar:</div>"
   ]
  },
  {
   "cell_type": "code",
   "execution_count": 33,
   "metadata": {},
   "outputs": [],
   "source": [
    "ventas = [[\"Empresa\",\"Ventas(Millones)\"],[\"Axtel\",\"250,000,000\"],[\"Google\",\"200,000,000\"],\n",
    "          [\"Facebook\",\"150,000,000\"],[\"Amazon\",\"100,000,000\"],[\"Apple\",\"1,000,000\"]]\n",
    "\n"
   ]
  },
  {
   "cell_type": "markdown",
   "metadata": {},
   "source": [
    "<div style=\"text-align:justify;font-size:1.1em;color:#2F2B29;font-family:verdana\"> ¿Qué tipo de estructura de datos estamos manejando?</div>"
   ]
  },
  {
   "cell_type": "markdown",
   "metadata": {},
   "source": [
    "<div style=\"text-align:justify;font-size:1.1em;color:#2F2B29;font-family:verdana\"> Para guardar la información anterior, haremos lo siguiente:</div>"
   ]
  },
  {
   "cell_type": "code",
   "execution_count": 34,
   "metadata": {},
   "outputs": [],
   "source": [
    "import csv\n",
    "ventas = [[\"Empresa\",\"Ventas(Millones)\"],[\"Axtel\",\"250,000,000\"],[\"Google\",\"200,000,000\"],\n",
    "          [\"Facebook\",\"150,000,000\"],[\"Amazon\",\"100,000,000\"],[\"Apple\",\"1,000,000\"]]\n",
    "\n",
    "with open('ventas.csv', 'w') as archivo:\n",
    "    wr = csv.writer(archivo, quoting=csv.QUOTE_ALL)\n",
    "    for x in ventas:\n",
    "        wr.writerow(x)"
   ]
  },
  {
   "cell_type": "markdown",
   "metadata": {},
   "source": [
    "<div style=\"text-align:justify;font-size:1.1em;color:#2F2B29;font-family:verdana\"> Ahora, entra al directorio donde tienes guardado este notebook y analiza su contenido.</div>"
   ]
  },
  {
   "cell_type": "markdown",
   "metadata": {},
   "source": [
    "<img src=\"materials/notepad.svg\" style=\"width: 150px;\"/>\n"
   ]
  },
  {
   "cell_type": "markdown",
   "metadata": {},
   "source": [
    "#### <div style=\"text-align:CENTER;font-size:1.3em;color:red;font-family:verdana\"> EJERCICIO 7.1-7 [2 minutos]</div>\n",
    "<div style=\"text-align:justify;font-size:1.2em;color:red;font-family:verdana\"> Guarda la información de ventas de la siguiente lista en un archivo CSV con el nombre de tu elección. Ábrelo y verifica la información. </div>"
   ]
  },
  {
   "cell_type": "code",
   "execution_count": 3,
   "metadata": {},
   "outputs": [],
   "source": [
    "# Escribe tu código aquí\n",
    "ventas2 = [[\"Empleado\",\"Ventas(Millones)\", \"id\"],[\"Juan\",\"1,000\", \"987\"],[\"Jose\",\"200\", \"876\"],\n",
    "          [\"Mario\",\"150\", \"675\"],[\"Yesica\",\"100\", \"654\"],[\"Maria\",\"1\", \"398\"]]\n",
    "\n"
   ]
  },
  {
   "cell_type": "markdown",
   "metadata": {},
   "source": [
    "\n"
   ]
  },
  {
   "cell_type": "markdown",
   "metadata": {},
   "source": [
    "\n"
   ]
  },
  {
   "cell_type": "markdown",
   "metadata": {},
   "source": [
    "<img src=\"materials/notepad.svg\" style=\"width: 150px;\"/>\n",
    "\n"
   ]
  },
  {
   "cell_type": "markdown",
   "metadata": {},
   "source": [
    "#### <div style=\"text-align:CENTER;font-size:1.3em;color:red;font-family:verdana\"> EJERCICIO 7.1-8 [5 minutos]</div>\n",
    "<div style=\"text-align:justify;font-size:1.2em;color:red;font-family:verdana\"> Crea una una función que reciba 2 valores: el primero debe ser una lista con información y el segundo será el nombre del archivo en el que se guardará. La función debe tomar la información de la lista y guardarla con el nombre proporcionado. </div>"
   ]
  },
  {
   "cell_type": "code",
   "execution_count": 37,
   "metadata": {},
   "outputs": [],
   "source": [
    "# Escribe tu código aquí\n",
    "\n",
    "ventas = [[\"Empresa\",\"Ventas(Millones)\"],[\"Axtel\",\"250,000,000\"],[\"Google\",\"200,000,000\"],\n",
    "          [\"Facebook\",\"150,000,000\"],[\"Amazon\",\"100,000,000\"],[\"Apple\",\"1,000,000\"]]\n",
    "\n",
    "ventas2 = [[\"Empleado\",\"Ventas(Millones)\"],[\"Juan\",\"1,000\"],[\"Jose\",\"200\"],\n",
    "          [\"Mario\",\"150\"],[\"Yesica\",\"100\"],[\"Maria\",\"1\"]]\n",
    "\n",
    "def saveCSV(list1,csvName):\n",
    "    with open(csvName, 'w') as archivo:\n",
    "        wr = csv.writer(archivo, quoting=csv.QUOTE_ALL)\n",
    "        for x in list1:\n",
    "            wr.writerow(x)\n",
    "        \n",
    "saveCSV(ventas2,\"aquaman.csv\")"
   ]
  },
  {
   "cell_type": "markdown",
   "metadata": {},
   "source": [
    "\n"
   ]
  },
  {
   "cell_type": "markdown",
   "metadata": {},
   "source": [
    "\n"
   ]
  },
  {
   "cell_type": "markdown",
   "metadata": {},
   "source": [
    "\n"
   ]
  }
 ],
 "metadata": {
  "kernelspec": {
   "display_name": "Python 3",
   "language": "python",
   "name": "python3"
  },
  "language_info": {
   "codemirror_mode": {
    "name": "ipython",
    "version": 3
   },
   "file_extension": ".py",
   "mimetype": "text/x-python",
   "name": "python",
   "nbconvert_exporter": "python",
   "pygments_lexer": "ipython3",
   "version": "3.7.5"
  }
 },
 "nbformat": 4,
 "nbformat_minor": 2
}
