{
 "cells": [
  {
   "cell_type": "markdown",
   "metadata": {},
   "source": [
    "### <font color='black'><div style=\"text-align: center\">2020</div></font>\n",
    "---\n",
    "![image](materials/python-logo-notext.svg)\n",
    "# <div style=\"text-align:center;font-size:1.8em;color:red;font-family:verdana\">CURSO BÁSICO DE PYTHON</div>\n",
    "## <div style=\"text-align:center;font-size:1.2em;color:red;font-family:verdana\">DÍA 1</div>\n",
    "\n",
    "<div font color='gray'><div style=\"text-align: center\">AXTEL</div>\n"
   ]
  },
  {
   "cell_type": "markdown",
   "metadata": {},
   "source": [
    "\n",
    "# <div style=\"text-align:center;font-size:1.1em;color:red;font-family:verdana\">4. CICLOS </div>\n"
   ]
  },
  {
   "cell_type": "markdown",
   "metadata": {},
   "source": [
    "## <div style=\"text-align:left;font-size:1.1em;color:#666666;font-family:verdana\">4.1 FOR</div>\n"
   ]
  },
  {
   "cell_type": "markdown",
   "metadata": {},
   "source": [
    "# Ciclo For"
   ]
  },
  {
   "cell_type": "markdown",
   "metadata": {},
   "source": [
    "<div style=\"text-align:justify;font-size:1.1em;color:#2F2B29;font-family:verdana\"> Es probable que necesitemos ejecutar un mismo código en repetidas ocasiones. Escribir dicho código una y otra vez  es posible pero, ¿qué sucedería si debemos repetirlo 1000 veces? ¿O un millón de veces? En estos casos podemos utilizar ciclos mediante la declaración o comando \"For\".  </div>"
   ]
  },
  {
   "cell_type": "markdown",
   "metadata": {},
   "source": [
    "<div style=\"text-align:justify;font-size:1.1em;color:#2F2B29;font-family:verdana\"> Por ejemplo, imaginemos que deseamos crear código que imprima 5 veces la frase \"Hola mundo\". Una posible solución para esta tarea puede describirse con el siguiente diagrama:</div>"
   ]
  },
  {
   "cell_type": "markdown",
   "metadata": {},
   "source": [
    "<img src=\"materials/forCond.svg\" style=\"width: 520px;\"/>\n",
    "\n"
   ]
  },
  {
   "cell_type": "markdown",
   "metadata": {},
   "source": [
    "<div style=\"text-align:justify;font-size:1.1em;color:#2F2B29;font-family:verdana\"> El diagrama anterior supone que utilizamos una variable \"i\", la cual inicializa con un cierto valor (\"0\" en este caso) e iremos incrementándola al final de cada ciclo. Con el ciclo \"For\" haremos un proceso un poco distinto. </div>"
   ]
  },
  {
   "cell_type": "markdown",
   "metadata": {},
   "source": [
    "<div style=\"text-align:justify;font-size:1.1em;color:#2F2B29;font-family:verdana\"> Los ciclos \"For\" en Python se implementan iterando sobre una secuencia de valores, como un string o una lista. ¿Qué quiere decir esto? Sencillamente, que el ciclo se repetirá un número de veces igual a la cantidad de elementos en la secuencia que se use. </div>"
   ]
  },
  {
   "cell_type": "markdown",
   "metadata": {},
   "source": [
    "<div style=\"text-align:justify;font-size:1.1em;color:#2F2B29;font-family:verdana\"> Como ejemplo, podemos crear un ciclo \"For\" con la siguiente lista: </div>"
   ]
  },
  {
   "cell_type": "code",
   "execution_count": null,
   "metadata": {},
   "outputs": [],
   "source": [
    "list1 = [1,2,3,4,5]"
   ]
  },
  {
   "cell_type": "markdown",
   "metadata": {},
   "source": [
    "<div style=\"text-align:justify;font-size:1.1em;color:#2F2B29;font-family:verdana\"> Esta lista contiene 5 elementos, por lo que podemos utilizarla para ejecutar un código 5 veces. Podemos implementar el diagrama ejemplo del inicio utilizando esta lista:  </div>"
   ]
  },
  {
   "cell_type": "code",
   "execution_count": 2,
   "metadata": {},
   "outputs": [
    {
     "name": "stdout",
     "output_type": "stream",
     "text": [
      "Hola mundo\n",
      "Hola mundo\n",
      "Hola mundo\n",
      "Hola mundo\n",
      "Hola mundo\n"
     ]
    }
   ],
   "source": [
    "for y in [1,2,6,4,8]:\n",
    "    print(\"Hola mundo\")"
   ]
  },
  {
   "cell_type": "markdown",
   "metadata": {},
   "source": [
    "<div style=\"text-align:justify;font-size:1.1em;color:#2F2B29;font-family:verdana\"> El formato del comando \"for\" requiere que declaremos una variable nueva al momento de ejcutarla, la cual adquirirá el valor de cada uno de los elementos de la lista, uno a la vez. En el ejemplo anterior, esta variable es \"x\". </div>"
   ]
  },
  {
   "cell_type": "markdown",
   "metadata": {},
   "source": [
    "<div style=\"text-align:justify;font-size:1.1em;color:#2F2B29;font-family:verdana\"> Para entender mejor qué sucede con esta variable (\"x\" en el ejemplo), podemos imprimir su valor en cada ciclo: </div>"
   ]
  },
  {
   "cell_type": "code",
   "execution_count": 3,
   "metadata": {},
   "outputs": [
    {
     "name": "stdout",
     "output_type": "stream",
     "text": [
      "34\n",
      "2\n",
      "8\n",
      "4\n",
      "True\n"
     ]
    }
   ],
   "source": [
    "for x in [34,2,8,4,True]:\n",
    "    print(x)"
   ]
  },
  {
   "cell_type": "markdown",
   "metadata": {},
   "source": [
    "<div style=\"text-align:justify;font-size:1.1em;color:#2F2B29;font-family:verdana\"> Podemos utilizar una lista distinta pero con la misma cantidad de elementos para entender mejor este concepto: </div>"
   ]
  },
  {
   "cell_type": "code",
   "execution_count": 4,
   "metadata": {},
   "outputs": [
    {
     "name": "stdout",
     "output_type": "stream",
     "text": [
      "El día de hoy es lunes\n",
      "El día de hoy es martes\n",
      "El día de hoy es miércoles\n",
      "El día de hoy es jueves\n",
      "El día de hoy es viernes\n"
     ]
    }
   ],
   "source": [
    "for m in [\"lunes\",\"martes\",\"miércoles\",\"jueves\",\"viernes\"]:\n",
    "    print(\"El día de hoy es\",m)\n",
    "    \n"
   ]
  },
  {
   "cell_type": "markdown",
   "metadata": {},
   "source": [
    "<div style=\"text-align:justify;font-size:1.1em;color:#2F2B29;font-family:verdana\"> El formato del \"for loop\" requiere que escribamos la palabra \"for\" seguido de una variable nueva, la palabra \"in\" y posteriormente la lista sobre la cual iteraremos. Es necesario también agregar dos puntos (:) y saltar de renglón. Después de esto agregamos el código que se repetirá, con una indentación de 4 espacios.</div>"
   ]
  },
  {
   "cell_type": "markdown",
   "metadata": {},
   "source": [
    "<img src=\"materials/notepad.svg\" style=\"width: 150px;\"/>\n"
   ]
  },
  {
   "cell_type": "markdown",
   "metadata": {},
   "source": [
    "#### <div style=\"text-align:CENTER;font-size:1.3em;color:red;font-family:verdana\"> EJERCICIO 4.1-1 [2 minutos]</div>\n",
    "<div style=\"text-align:justify;font-size:1.2em;color:red;font-family:verdana\"> Crea una lista con los nombres de los días de la semana. Utiliza la función \"for\" para crear código que imprima cada uno de los elementos de dicha lista. </div>"
   ]
  },
  {
   "cell_type": "code",
   "execution_count": 9,
   "metadata": {},
   "outputs": [
    {
     "name": "stdout",
     "output_type": "stream",
     "text": [
      "0\n",
      "lunes\n",
      "1\n",
      "martes\n",
      "2\n",
      "miercoles\n",
      "3\n",
      "jueves\n",
      "4\n",
      "viernes\n"
     ]
    }
   ],
   "source": [
    "# Escribe tu código aquí\n",
    "\n",
    "    \n",
    "for i, element in enumerate([\"lunes\",\"martes\",\"miercoles\",\"jueves\",\"viernes\",\"sabado\",\"domingo\"]):\n",
    "    print(i)\n",
    "    print(element)\n",
    "    if (element == \"viernes\"):\n",
    "        break"
   ]
  },
  {
   "cell_type": "markdown",
   "metadata": {},
   "source": [
    "\n"
   ]
  },
  {
   "cell_type": "markdown",
   "metadata": {},
   "source": [
    "\n"
   ]
  },
  {
   "cell_type": "markdown",
   "metadata": {},
   "source": [
    "\n"
   ]
  },
  {
   "cell_type": "markdown",
   "metadata": {},
   "source": [
    "# Ciclo \"for\" utilizando \"range\""
   ]
  },
  {
   "cell_type": "markdown",
   "metadata": {},
   "source": [
    "<div style=\"text-align:justify;font-size:1.1em;color:#2F2B29;font-family:verdana\"> La función \"range\" sirve para generar un conjunto de  números ascendentes iniciando en 0. La cantidad de números generados será igual al número dentro del paréntesis. Por ejemplo, si queremos generar un conjunto de 5 números iniciando en \"0\", escribiremos lo siguiente: </div>"
   ]
  },
  {
   "cell_type": "code",
   "execution_count": 10,
   "metadata": {},
   "outputs": [
    {
     "data": {
      "text/plain": [
       "range(0, 5)"
      ]
     },
     "execution_count": 10,
     "metadata": {},
     "output_type": "execute_result"
    }
   ],
   "source": [
    "range(5)"
   ]
  },
  {
   "cell_type": "markdown",
   "metadata": {},
   "source": [
    "<div style=\"text-align:justify;font-size:1.1em;color:#2F2B29;font-family:verdana\"> Si ejecutamos la celda anterior, obtendremos lo siguiente \"range(0, 5)\". Esto nos indica que el rango inicia en \"0\" y consta de 5 elementos. </div>"
   ]
  },
  {
   "cell_type": "markdown",
   "metadata": {},
   "source": [
    "<div style=\"text-align:justify;font-size:1.1em;color:#2F2B29;font-family:verdana\"> Podemos usar un ciclo \"for\" para imprimir los valores generados en \"range\": </div>"
   ]
  },
  {
   "cell_type": "code",
   "execution_count": 11,
   "metadata": {},
   "outputs": [
    {
     "name": "stdout",
     "output_type": "stream",
     "text": [
      "1\n",
      "2\n",
      "3\n",
      "4\n",
      "5\n"
     ]
    }
   ],
   "source": [
    "for x in range(5):\n",
    "    print(x+1)"
   ]
  },
  {
   "cell_type": "code",
   "execution_count": 12,
   "metadata": {},
   "outputs": [
    {
     "name": "stdout",
     "output_type": "stream",
     "text": [
      "1\n",
      "2\n",
      "3\n",
      "4\n",
      "5\n"
     ]
    }
   ],
   "source": [
    "for x in range(1,6):\n",
    "    print(x)"
   ]
  },
  {
   "cell_type": "markdown",
   "metadata": {},
   "source": [
    "<div style=\"text-align:justify;font-size:1.1em;color:#2F2B29;font-family:verdana\"> En el ejemplo anterior, la variable \"x\" toma el valor de cada uno de los elementos de \"range(5)\", uno a la vez, alternando en cada ejecución. </div>"
   ]
  },
  {
   "cell_type": "markdown",
   "metadata": {},
   "source": [
    "<img src=\"materials/notepad.svg\" style=\"width: 150px;\"/>\n"
   ]
  },
  {
   "cell_type": "markdown",
   "metadata": {},
   "source": [
    "#### <div style=\"text-align:CENTER;font-size:1.3em;color:red;font-family:verdana\"> EJERCICIO 4.1-2 [2 minutos]</div>\n",
    "<div style=\"text-align:justify;font-size:1.2em;color:red;font-family:verdana\"> Crea un ciclo usando \"for\" y \"range\" que imprima números del 1 al 50. (Recuerda que range genera valores iniciando con \"0\")</div>"
   ]
  },
  {
   "cell_type": "code",
   "execution_count": 13,
   "metadata": {},
   "outputs": [
    {
     "name": "stdout",
     "output_type": "stream",
     "text": [
      "1\n",
      "2\n",
      "3\n",
      "4\n",
      "5\n",
      "6\n",
      "7\n",
      "8\n",
      "9\n",
      "10\n",
      "11\n",
      "12\n",
      "13\n",
      "14\n",
      "15\n",
      "16\n",
      "17\n",
      "18\n",
      "19\n",
      "20\n",
      "21\n",
      "22\n",
      "23\n",
      "24\n",
      "25\n",
      "26\n",
      "27\n",
      "28\n",
      "29\n",
      "30\n",
      "31\n",
      "32\n",
      "33\n",
      "34\n",
      "35\n",
      "36\n",
      "37\n",
      "38\n",
      "39\n",
      "40\n",
      "41\n",
      "42\n",
      "43\n",
      "44\n",
      "45\n",
      "46\n",
      "47\n",
      "48\n",
      "49\n",
      "50\n"
     ]
    }
   ],
   "source": [
    "# Escribe tu código aquí\n",
    "for element in range(1,51):\n",
    "    print(element)"
   ]
  },
  {
   "cell_type": "markdown",
   "metadata": {},
   "source": [
    "\n"
   ]
  },
  {
   "cell_type": "markdown",
   "metadata": {},
   "source": [
    "\n"
   ]
  },
  {
   "cell_type": "markdown",
   "metadata": {},
   "source": [
    "\n"
   ]
  },
  {
   "cell_type": "markdown",
   "metadata": {},
   "source": [
    "# Comando \"break\""
   ]
  },
  {
   "cell_type": "markdown",
   "metadata": {},
   "source": [
    "<div style=\"text-align:justify;font-size:1.1em;color:#2F2B29;font-family:verdana\"> La declarción o comando \"break\" detiene la ejecución del código dentro de un \"for loop\" y termina con todo el proceso. Por ejemplo:</div>"
   ]
  },
  {
   "cell_type": "code",
   "execution_count": 18,
   "metadata": {},
   "outputs": [
    {
     "name": "stdout",
     "output_type": "stream",
     "text": [
      "0\n",
      "1\n",
      "2\n",
      "3\n",
      "4\n",
      "5\n",
      "6\n",
      "7\n",
      "8\n",
      "9\n",
      "10\n",
      "11\n"
     ]
    }
   ],
   "source": [
    "for x in range(20):\n",
    "    \n",
    "    if x == 12:\n",
    "        break\n",
    "    print(x)\n",
    "    "
   ]
  },
  {
   "cell_type": "markdown",
   "metadata": {},
   "source": [
    "<div style=\"text-align:justify;font-size:1.1em;color:#2F2B29;font-family:verdana\"> El código anterior busca imprimir valores del 0 al 19, pero utilizamos el comando \"break\" en conjunto con un \"if\" para detener la ejecución si el valor es igual a \"12\".</div>"
   ]
  },
  {
   "cell_type": "markdown",
   "metadata": {},
   "source": [
    "<img src=\"materials/notepad.svg\" style=\"width: 150px;\"/>\n"
   ]
  },
  {
   "cell_type": "markdown",
   "metadata": {},
   "source": [
    "#### <div style=\"text-align:CENTER;font-size:1.3em;color:red;font-family:verdana\"> EJERCICIO 4.1-3 [4 minutos]</div>\n",
    "<div style=\"text-align:justify;font-size:1.2em;color:red;font-family:verdana\"> Crea un ciclo usando \"for\" que imprima los valores de la lista proporcionada. Si el valor es \"False\", termina el ciclo utilizando \"break\".</div>"
   ]
  },
  {
   "cell_type": "code",
   "execution_count": 19,
   "metadata": {},
   "outputs": [
    {
     "name": "stdout",
     "output_type": "stream",
     "text": [
      "True\n",
      "True\n",
      "True\n",
      "True\n",
      "True\n",
      "True\n",
      "True\n",
      "False\n"
     ]
    }
   ],
   "source": [
    "# Escribe tu código aquí\n",
    "\n",
    "list1 = [True, True, True, True, True, True, True, False, True, True, False, True, True, True, True]\n",
    "\n",
    "for element in list1:\n",
    "    print(element)\n",
    "    if (element==False):\n",
    "        break"
   ]
  },
  {
   "cell_type": "markdown",
   "metadata": {},
   "source": [
    "\n"
   ]
  },
  {
   "cell_type": "markdown",
   "metadata": {},
   "source": [
    "\n"
   ]
  },
  {
   "cell_type": "markdown",
   "metadata": {},
   "source": [
    "\n"
   ]
  },
  {
   "cell_type": "markdown",
   "metadata": {},
   "source": [
    "# Comando \"continue\""
   ]
  },
  {
   "cell_type": "markdown",
   "metadata": {},
   "source": [
    "<div style=\"text-align:justify;font-size:1.1em;color:#2F2B29;font-family:verdana\"> En ocasiones deseamos parar únicamente la ejecución de una sola iteración dentro del ciclo y no todo el proceso. Para esto empleamos la función \"continue\".</div>"
   ]
  },
  {
   "cell_type": "markdown",
   "metadata": {},
   "source": [
    "<div style=\"text-align:justify;font-size:1.1em;color:#2F2B29;font-family:verdana\"> Retomando uno de los ejemplos anteriores:</div>"
   ]
  },
  {
   "cell_type": "code",
   "execution_count": 21,
   "metadata": {},
   "outputs": [
    {
     "name": "stdout",
     "output_type": "stream",
     "text": [
      "0\n",
      "1\n",
      "2\n",
      "3\n",
      "4\n",
      "5\n",
      "6\n",
      "7\n",
      "8\n",
      "9\n",
      "10\n",
      "11\n"
     ]
    }
   ],
   "source": [
    "for x in range(20):\n",
    "    if x == 12:\n",
    "        break\n",
    "    print(x)"
   ]
  },
  {
   "cell_type": "markdown",
   "metadata": {},
   "source": [
    "<div style=\"text-align:justify;font-size:1.1em;color:#2F2B29;font-family:verdana\"> Como vemos, cuando el valor de \"x\" es igual a 12, se detiene la ejecución de la iteración en curso, pero el ciclo continua.</div>"
   ]
  },
  {
   "cell_type": "markdown",
   "metadata": {},
   "source": [
    "<img src=\"materials/notepad.svg\" style=\"width: 150px;\"/>\n"
   ]
  },
  {
   "cell_type": "markdown",
   "metadata": {},
   "source": [
    "#### <div style=\"text-align:CENTER;font-size:1.3em;color:red;font-family:verdana\"> EJERCICIO 4.1-4 [1 minuto]</div>\n",
    "<div style=\"text-align:justify;font-size:1.2em;color:red;font-family:verdana\"> Crea un ciclo usando \"for\" que imprima los valores de la lista proporcionada. Si el valor es \"False\", evita que se imprima el valor y termina la ejecución de la iteración en curso usando \"continue\".</div>"
   ]
  },
  {
   "cell_type": "code",
   "execution_count": 23,
   "metadata": {},
   "outputs": [
    {
     "name": "stdout",
     "output_type": "stream",
     "text": [
      "True\n",
      "True\n",
      "True\n",
      "True\n",
      "True\n",
      "True\n",
      "True\n",
      "True\n",
      "True\n",
      "True\n",
      "True\n",
      "True\n",
      "True\n"
     ]
    }
   ],
   "source": [
    "# Escribe tu código aquí\n",
    "list1 = [True, True, True, True, True, True, True, False, True, True, False, True, True, True, True]\n",
    "for element in list1:\n",
    "    \n",
    "    if (element==False):\n",
    "        continue\n",
    "    print(element)"
   ]
  },
  {
   "cell_type": "markdown",
   "metadata": {},
   "source": [
    "\n"
   ]
  },
  {
   "cell_type": "markdown",
   "metadata": {},
   "source": [
    "\n"
   ]
  },
  {
   "cell_type": "markdown",
   "metadata": {},
   "source": [
    "\n"
   ]
  },
  {
   "cell_type": "markdown",
   "metadata": {},
   "source": [
    "# Ciclos anidados"
   ]
  },
  {
   "cell_type": "markdown",
   "metadata": {},
   "source": [
    "<div style=\"text-align:justify;font-size:1.1em;color:#2F2B29;font-family:verdana\"> Es perfectamente posible anidar un ciclo \"for\" dentro de otro. Veamos el siguiente ejemplo:</div>"
   ]
  },
  {
   "cell_type": "markdown",
   "metadata": {},
   "source": [
    "<div style=\"text-align:justify;font-size:1.1em;color:#2F2B29;font-family:verdana\"> Digamos que deseamos imprimir los valores por segundo de un lapso de tiempo de 3 minutos. El resultado sería similar a esto:</div>\n",
    "\n",
    "- 0:01\n",
    "- 0:02\n",
    "- 0:03\n",
    "- ...\n",
    "- 2:58\n",
    "- 2:59\n",
    "- 3:00\n"
   ]
  },
  {
   "cell_type": "markdown",
   "metadata": {},
   "source": [
    "<div style=\"text-align:justify;font-size:1.1em;color:#2F2B29;font-family:verdana\"> Utilizando \"for loops\" anidados podemos realizar esto de manera relativamente sencilla:</div>"
   ]
  },
  {
   "cell_type": "code",
   "execution_count": 24,
   "metadata": {},
   "outputs": [
    {
     "name": "stdout",
     "output_type": "stream",
     "text": [
      "0 : 0\n",
      "0 : 1\n",
      "0 : 2\n",
      "0 : 3\n",
      "0 : 4\n",
      "0 : 5\n",
      "0 : 6\n",
      "0 : 7\n",
      "0 : 8\n",
      "0 : 9\n",
      "0 : 10\n",
      "0 : 11\n",
      "0 : 12\n",
      "0 : 13\n",
      "0 : 14\n",
      "0 : 15\n",
      "0 : 16\n",
      "0 : 17\n",
      "0 : 18\n",
      "0 : 19\n",
      "0 : 20\n",
      "0 : 21\n",
      "0 : 22\n",
      "0 : 23\n",
      "0 : 24\n",
      "0 : 25\n",
      "0 : 26\n",
      "0 : 27\n",
      "0 : 28\n",
      "0 : 29\n",
      "0 : 30\n",
      "0 : 31\n",
      "0 : 32\n",
      "0 : 33\n",
      "0 : 34\n",
      "0 : 35\n",
      "0 : 36\n",
      "0 : 37\n",
      "0 : 38\n",
      "0 : 39\n",
      "0 : 40\n",
      "0 : 41\n",
      "0 : 42\n",
      "0 : 43\n",
      "0 : 44\n",
      "0 : 45\n",
      "0 : 46\n",
      "0 : 47\n",
      "0 : 48\n",
      "0 : 49\n",
      "0 : 50\n",
      "0 : 51\n",
      "0 : 52\n",
      "0 : 53\n",
      "0 : 54\n",
      "0 : 55\n",
      "0 : 56\n",
      "0 : 57\n",
      "0 : 58\n",
      "0 : 59\n",
      "1 : 0\n",
      "1 : 1\n",
      "1 : 2\n",
      "1 : 3\n",
      "1 : 4\n",
      "1 : 5\n",
      "1 : 6\n",
      "1 : 7\n",
      "1 : 8\n",
      "1 : 9\n",
      "1 : 10\n",
      "1 : 11\n",
      "1 : 12\n",
      "1 : 13\n",
      "1 : 14\n",
      "1 : 15\n",
      "1 : 16\n",
      "1 : 17\n",
      "1 : 18\n",
      "1 : 19\n",
      "1 : 20\n",
      "1 : 21\n",
      "1 : 22\n",
      "1 : 23\n",
      "1 : 24\n",
      "1 : 25\n",
      "1 : 26\n",
      "1 : 27\n",
      "1 : 28\n",
      "1 : 29\n",
      "1 : 30\n",
      "1 : 31\n",
      "1 : 32\n",
      "1 : 33\n",
      "1 : 34\n",
      "1 : 35\n",
      "1 : 36\n",
      "1 : 37\n",
      "1 : 38\n",
      "1 : 39\n",
      "1 : 40\n",
      "1 : 41\n",
      "1 : 42\n",
      "1 : 43\n",
      "1 : 44\n",
      "1 : 45\n",
      "1 : 46\n",
      "1 : 47\n",
      "1 : 48\n",
      "1 : 49\n",
      "1 : 50\n",
      "1 : 51\n",
      "1 : 52\n",
      "1 : 53\n",
      "1 : 54\n",
      "1 : 55\n",
      "1 : 56\n",
      "1 : 57\n",
      "1 : 58\n",
      "1 : 59\n",
      "2 : 0\n",
      "2 : 1\n",
      "2 : 2\n",
      "2 : 3\n",
      "2 : 4\n",
      "2 : 5\n",
      "2 : 6\n",
      "2 : 7\n",
      "2 : 8\n",
      "2 : 9\n",
      "2 : 10\n",
      "2 : 11\n",
      "2 : 12\n",
      "2 : 13\n",
      "2 : 14\n",
      "2 : 15\n",
      "2 : 16\n",
      "2 : 17\n",
      "2 : 18\n",
      "2 : 19\n",
      "2 : 20\n",
      "2 : 21\n",
      "2 : 22\n",
      "2 : 23\n",
      "2 : 24\n",
      "2 : 25\n",
      "2 : 26\n",
      "2 : 27\n",
      "2 : 28\n",
      "2 : 29\n",
      "2 : 30\n",
      "2 : 31\n",
      "2 : 32\n",
      "2 : 33\n",
      "2 : 34\n",
      "2 : 35\n",
      "2 : 36\n",
      "2 : 37\n",
      "2 : 38\n",
      "2 : 39\n",
      "2 : 40\n",
      "2 : 41\n",
      "2 : 42\n",
      "2 : 43\n",
      "2 : 44\n",
      "2 : 45\n",
      "2 : 46\n",
      "2 : 47\n",
      "2 : 48\n",
      "2 : 49\n",
      "2 : 50\n",
      "2 : 51\n",
      "2 : 52\n",
      "2 : 53\n",
      "2 : 54\n",
      "2 : 55\n",
      "2 : 56\n",
      "2 : 57\n",
      "2 : 58\n",
      "2 : 59\n",
      "3 : 00\n"
     ]
    }
   ],
   "source": [
    "minutos = [0,1,2]\n",
    "segundos = range(60)\n",
    "\n",
    "for x in minutos:\n",
    "    for y in segundos:\n",
    "        print(x,\":\",y)\n",
    "print(\"3 : 00\")"
   ]
  },
  {
   "cell_type": "markdown",
   "metadata": {},
   "source": [
    "<div style=\"text-align:justify;font-size:1.1em;color:#2F2B29;font-family:verdana\"> Al utilizar ciclos anidados, debemos tener cuidado con la indentación. Los espacios de indentación se van acumulando conforme se anida el código. Por ejemplo, en el código anterior, la función de \"print\" tiene 8 espacios de indentación, ya que está dentro de un \"for\" anidado dentro de otro \"for\".</div>"
   ]
  },
  {
   "cell_type": "markdown",
   "metadata": {},
   "source": [
    "<img src=\"materials/notepad.svg\" style=\"width: 150px;\"/>\n"
   ]
  },
  {
   "cell_type": "markdown",
   "metadata": {},
   "source": [
    "#### <div style=\"text-align:CENTER;font-size:1.3em;color:red;font-family:verdana\"> EJERCICIO 4.1-5 [2 minutos]</div>\n",
    "<div style=\"text-align:justify;font-size:1.2em;color:red;font-family:verdana\"> Utilizando las listas proporcionadas a continuación y ciclos anidados, crea código que imprima los meses desde el año 1990 hasta 1993. El resultado debe ser similar a lo siguiente:</div>"
   ]
  },
  {
   "cell_type": "markdown",
   "metadata": {},
   "source": [
    "- Enero de 1990\n",
    "- Febrero de 1990\n",
    "- Marzo de 1990\n",
    "- ...\n",
    "- Octubre de 1993\n",
    "- Noviembre de 1993\n",
    "- Diciembre de 1993"
   ]
  },
  {
   "cell_type": "code",
   "execution_count": 25,
   "metadata": {},
   "outputs": [
    {
     "name": "stdout",
     "output_type": "stream",
     "text": [
      "enero de 1990\n",
      "febrero de 1990\n",
      "marzo de 1990\n",
      "abril de 1990\n",
      "mayo de 1990\n",
      "junio de 1990\n",
      "julio de 1990\n",
      "agosto de 1990\n",
      "septiembre de 1990\n",
      "octubre de 1990\n",
      "noviembre de 1990\n",
      "diciembre de 1990\n",
      "enero de 1991\n",
      "febrero de 1991\n",
      "marzo de 1991\n",
      "abril de 1991\n",
      "mayo de 1991\n",
      "junio de 1991\n",
      "julio de 1991\n",
      "agosto de 1991\n",
      "septiembre de 1991\n",
      "octubre de 1991\n",
      "noviembre de 1991\n",
      "diciembre de 1991\n",
      "enero de 1992\n",
      "febrero de 1992\n",
      "marzo de 1992\n",
      "abril de 1992\n",
      "mayo de 1992\n",
      "junio de 1992\n",
      "julio de 1992\n",
      "agosto de 1992\n",
      "septiembre de 1992\n",
      "octubre de 1992\n",
      "noviembre de 1992\n",
      "diciembre de 1992\n",
      "enero de 1993\n",
      "febrero de 1993\n",
      "marzo de 1993\n",
      "abril de 1993\n",
      "mayo de 1993\n",
      "junio de 1993\n",
      "julio de 1993\n",
      "agosto de 1993\n",
      "septiembre de 1993\n",
      "octubre de 1993\n",
      "noviembre de 1993\n",
      "diciembre de 1993\n"
     ]
    }
   ],
   "source": [
    "# Escribe tu código aquí\n",
    "\n",
    "meses = [\"enero\", \"febrero\", \"marzo\", \"abril\", \"mayo\", \"junio\", \"julio\", \"agosto\", \"septiembre\", \"octubre\", \"noviembre\",\"diciembre\" ]\n",
    "años = [\"1990\", \"1991\", \"1992\", \"1993\"]\n",
    "\n",
    "for año in años:\n",
    "    for mes in meses:\n",
    "        print(mes, \"de\",año)"
   ]
  },
  {
   "cell_type": "markdown",
   "metadata": {},
   "source": [
    "\n"
   ]
  },
  {
   "cell_type": "markdown",
   "metadata": {},
   "source": [
    "\n"
   ]
  },
  {
   "cell_type": "markdown",
   "metadata": {},
   "source": [
    "\n"
   ]
  },
  {
   "cell_type": "markdown",
   "metadata": {},
   "source": [
    "## <div style=\"text-align:left;font-size:1.1em;color:#666666;font-family:verdana\">4.2 WHILE</div>\n"
   ]
  },
  {
   "cell_type": "markdown",
   "metadata": {},
   "source": [
    "<div style=\"text-align:justify;font-size:1.1em;color:#2F2B29;font-family:verdana\"> Si deseamos que un fragmento de código se repita mientras una condición sea cierta, empleamos la declaración o comando \"while\".</div>"
   ]
  },
  {
   "cell_type": "markdown",
   "metadata": {},
   "source": [
    "<div style=\"text-align:justify;font-size:1.1em;color:#2F2B29;font-family:verdana\"> El comando \"while\" puede usarse para correr código un número indefinido hasta que ocurra algún suceso o interrupción que detenga la ejecución. Se debe tener cuidado con este comando, pues existe la posibilidad de crear un ciclo infinito con facilidad. </div>"
   ]
  },
  {
   "cell_type": "markdown",
   "metadata": {},
   "source": [
    "<div style=\"text-align:justify;font-size:1.1em;color:#2F2B29;font-family:verdana\"> Utilicemos el ejemplo del inicio del módulo. Si deseamos imprimir la frase \"Hello, World\" 5 veces, podemos utilizar el siguiente código: </div>"
   ]
  },
  {
   "cell_type": "code",
   "execution_count": null,
   "metadata": {},
   "outputs": [],
   "source": [
    "a = 0\n",
    "\n",
    "while (a < 5):\n",
    "   # print(\"Hola mundo\")\n",
    "    a = a"
   ]
  },
  {
   "cell_type": "markdown",
   "metadata": {},
   "source": [
    "<div style=\"text-align:justify;font-size:1.1em;color:#2F2B29;font-family:verdana\"> Nótese que en este caso es importante inicializar una variable y modificarla durante las iteraciones, pues, de no hacerlo, el ciclo sería infinito. </div>"
   ]
  },
  {
   "cell_type": "markdown",
   "metadata": {},
   "source": [
    "<img src=\"materials/notepad.svg\" style=\"width: 150px;\"/>\n"
   ]
  },
  {
   "cell_type": "markdown",
   "metadata": {},
   "source": [
    "#### <div style=\"text-align:CENTER;font-size:1.3em;color:red;font-family:verdana\"> EJERCICIO 4.1-6 [2 minutos]</div>\n",
    "<div style=\"text-align:justify;font-size:1.2em;color:red;font-family:verdana\"> Crea un ciclo while que imprima los números del 1 al 20.</div>"
   ]
  },
  {
   "cell_type": "code",
   "execution_count": 29,
   "metadata": {},
   "outputs": [
    {
     "name": "stdout",
     "output_type": "stream",
     "text": [
      "1\n",
      "2\n",
      "3\n",
      "4\n",
      "5\n",
      "6\n",
      "7\n",
      "8\n",
      "9\n",
      "10\n",
      "11\n",
      "12\n",
      "13\n",
      "14\n",
      "15\n",
      "16\n",
      "17\n",
      "18\n",
      "19\n",
      "20\n"
     ]
    }
   ],
   "source": [
    "# Escribe tu código aquí\n",
    "\n",
    "a = 1\n",
    "\n",
    "while (a < 21):\n",
    "    print(a)\n",
    "    a = a + 1"
   ]
  },
  {
   "cell_type": "markdown",
   "metadata": {},
   "source": [
    "\n"
   ]
  },
  {
   "cell_type": "markdown",
   "metadata": {},
   "source": [
    "\n"
   ]
  },
  {
   "cell_type": "markdown",
   "metadata": {},
   "source": [
    "\n"
   ]
  },
  {
   "cell_type": "markdown",
   "metadata": {},
   "source": [
    "# While y break"
   ]
  },
  {
   "cell_type": "markdown",
   "metadata": {},
   "source": [
    "<div style=\"text-align:justify;font-size:1.1em;color:#2F2B29;font-family:verdana\"> Podemos utilizar el comando \"break\" de la misma manera que la usamos con el \"For\". </div>"
   ]
  },
  {
   "cell_type": "markdown",
   "metadata": {},
   "source": [
    "<div style=\"text-align:justify;font-size:1.1em;color:#2F2B29;font-family:verdana\"> En este ejemplo haremos algo un poco distinto. La declaración \"while\" espera un valor lógico (booleano) para saber si continua o no con el ciclo. ¿Qué sucede si le proporcionamos un valor booleano \"True\"?</div>"
   ]
  },
  {
   "cell_type": "code",
   "execution_count": 1,
   "metadata": {},
   "outputs": [
    {
     "name": "stdout",
     "output_type": "stream",
     "text": [
      "Hola mundo\n",
      "0\n",
      "Hola mundo\n",
      "1\n",
      "Hola mundo\n",
      "2\n",
      "Hola mundo\n",
      "3\n",
      "Hola mundo\n",
      "4\n",
      "Hola mundo\n",
      "5\n",
      "Hola mundo\n",
      "6\n",
      "Hola mundo\n",
      "7\n",
      "Hola mundo\n",
      "8\n",
      "Hola mundo\n",
      "9\n"
     ]
    }
   ],
   "source": [
    "a = 0\n",
    "\n",
    "while (True):\n",
    "    if a==10:\n",
    "        break\n",
    "    print(\"Hola mundo\")\n",
    "    print(a)\n",
    "    a = a + 1"
   ]
  },
  {
   "cell_type": "markdown",
   "metadata": {},
   "source": [
    "<div style=\"text-align:justify;font-size:1.1em;color:#2F2B29;font-family:verdana\"> Si proporcionamos un valor \"True\" a la declaración \"while\", tendremos un loop que continuará hasta que interrumpamos el proceso. El comando por excelencia para hacer esto es \"Break\". </div>"
   ]
  },
  {
   "cell_type": "markdown",
   "metadata": {},
   "source": [
    "# Función Input"
   ]
  },
  {
   "cell_type": "markdown",
   "metadata": {},
   "source": [
    "<div style=\"text-align:justify;font-size:1.1em;color:#2F2B29;font-family:verdana\"> Una función muy útil que no hemos visto hasta el momento es \"input\". Esta sirve para recibir una entrada escrita del usuario y utilizarla en el código. Pruébala en la siguiente celda: </div>"
   ]
  },
  {
   "cell_type": "code",
   "execution_count": 2,
   "metadata": {},
   "outputs": [
    {
     "name": "stdout",
     "output_type": "stream",
     "text": [
      "¿Cuál es tu nombre?\n",
      "holaIsrael\n",
      "Hola Israel !!\n"
     ]
    }
   ],
   "source": [
    "print(\"¿Cuál es tu nombre?\")\n",
    "a = input(\"hola\")\n",
    "print(\"Hola\",a,\"!!\")"
   ]
  },
  {
   "cell_type": "markdown",
   "metadata": {},
   "source": [
    "<div style=\"text-align:justify;font-size:1.1em;color:#2F2B29;font-family:verdana\"> Podemos combinar la función input con un ciclo while que espere hasta recibir la señal de break: </div>"
   ]
  },
  {
   "cell_type": "code",
   "execution_count": 1,
   "metadata": {},
   "outputs": [
    {
     "name": "stdout",
     "output_type": "stream",
     "text": [
      "Hola!\n",
      "hola\n",
      "Encantado de conocerte.\n",
      "Hola!\n",
      "casa\n",
      "Hola!\n",
      "adios\n",
      "Adios!\n"
     ]
    }
   ],
   "source": [
    "while (True):\n",
    "    print(\"Hola!\")\n",
    "    a = input()\n",
    "    \n",
    "    if a==\"hola\":\n",
    "        print(\"Encantado de conocerte.\")\n",
    "    elif a==\"adios\":\n",
    "        print(\"Adios!\")\n",
    "        break\n",
    "    else:\n",
    "        pass # Este comando solamente indica que no se realizará ninguna acción.\n"
   ]
  },
  {
   "cell_type": "markdown",
   "metadata": {},
   "source": [
    "<div style=\"text-align:justify;font-size:1.1em;color:#2F2B29;font-family:verdana\"> En combinación, estas funciones pueden servirnos para crear servicios parecidos a un chatbot. El código esperará una respuesta del usuario y terminará la ejecución únicamente si se escribe la palabra \"adios\". </div>"
   ]
  },
  {
   "cell_type": "markdown",
   "metadata": {},
   "source": [
    "<img src=\"materials/notepad.svg\" style=\"width: 150px;\"/>\n"
   ]
  },
  {
   "cell_type": "markdown",
   "metadata": {},
   "source": [
    "#### <div style=\"text-align:CENTER;font-size:1.3em;color:red;font-family:verdana\"> EJERCICIO 4.1-7 [10 minutos]</div>\n",
    "<div style=\"text-align:justify;font-size:1.2em;color:red;font-family:verdana\"> Utiliza el código anterior y agrega más \"elif\" para aumentar la funcionalidad. Adiciona también una respuesta para las preguntas \"cómo estas?\" y \"qué día es hoy?\" además de crear una respuesta general (else). Agrega otras 3 preguntas y respuestas de tu elección. </div>"
   ]
  },
  {
   "cell_type": "code",
   "execution_count": null,
   "metadata": {},
   "outputs": [
    {
     "name": "stdout",
     "output_type": "stream",
     "text": [
      "Hola!\n",
      "que opinas de Python?\n",
      "El mejor lenguaje de programacion. punto.\n",
      "Hola!\n"
     ]
    }
   ],
   "source": [
    "# Modifica este código\n",
    "while (True):\n",
    "    print(\"Hola!\")\n",
    "    a = input()\n",
    "    \n",
    "    if a==\"hola\":\n",
    "        print(\"Encantado de conocerte.\")\n",
    "    elif a==\"adios\":\n",
    "        print(\"Adios!\")\n",
    "        break\n",
    "    elif a==\"como estas?\":\n",
    "        print(\"No se, tu?\")\n",
    "    elif a==\"que dia es hoy?\":\n",
    "        print(\"el mejor dia de mi vida\")\n",
    "    elif a==\"como te llamas?\":\n",
    "        print(\"Jupyter y tu?\")\n",
    "    elif a==\"cual es tu signo zodiacal?\":\n",
    "        print(\"Sagitario\")\n",
    "    elif a==\"que opinas de Python?\":\n",
    "        print(\"El mejor lenguaje de programacion. punto.\")\n",
    "    \n",
    "        \n",
    "    else:\n",
    "        pass # Este comando solamente indica que no se realizará ninguna acción.\n",
    "    "
   ]
  },
  {
   "cell_type": "code",
   "execution_count": null,
   "metadata": {},
   "outputs": [],
   "source": []
  }
 ],
 "metadata": {
  "kernelspec": {
   "display_name": "Python 3",
   "language": "python",
   "name": "python3"
  },
  "language_info": {
   "codemirror_mode": {
    "name": "ipython",
    "version": 3
   },
   "file_extension": ".py",
   "mimetype": "text/x-python",
   "name": "python",
   "nbconvert_exporter": "python",
   "pygments_lexer": "ipython3",
   "version": "3.7.5"
  }
 },
 "nbformat": 4,
 "nbformat_minor": 2
}
