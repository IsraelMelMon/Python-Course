{
 "cells": [
  {
   "cell_type": "markdown",
   "metadata": {},
   "source": [
    "### <font color='black'><div style=\"text-align: center\">2020</div></font>\n",
    "---\n",
    "![image](materials/python-logo-notext.svg)\n",
    "# <div style=\"text-align:center;font-size:1.8em;color:green;font-family:verdana\">CURSO BÁSICO DE PYTHON</div>\n",
    "## <div style=\"text-align:center;font-size:1.2em;color:green;font-family:verdana\">DÍA 2</div>\n",
    "\n",
    "<div font color='gray'><div style=\"text-align: center\">AXTEL</div>"
   ]
  },
  {
   "cell_type": "markdown",
   "metadata": {},
   "source": [
    "\n",
    "# <div style=\"text-align:center;font-size:1.1em;color:GREEN;font-family:verdana\">6. LIBRERÍAS</div>"
   ]
  },
  {
   "cell_type": "markdown",
   "metadata": {},
   "source": [
    "<div style=\"text-align:justify;font-size:1.1em;color:#2F2B29;font-family:verdana\">  En ocasiones deseamos crear código para ejecutar acciones que, aunque comunes, resultan ser también algo complejas. Ejemplos de esto pueden ser: la manipulación de imágenes, el acceso a bases de datos, la consulta en páginas web, y muchas más. Escribir el código necesario para cumplir con estas acciones\n",
    "    sin contar con material de apoyo puede tomar mucho tiempo y requerir de conocimientos con los que en ocasiones no contamos.</div>\n",
    "\n"
   ]
  },
  {
   "cell_type": "markdown",
   "metadata": {},
   "source": [
    "<div style=\"text-align:justify;font-size:1.1em;color:#2F2B29;font-family:verdana\"> Una solución a este problema es el uso de las Bibliotecas, las cuales consisten en código previamente creado que permite realizar acciones elaboradas con tan solo invocar un par de funciones sencillas. </div>"
   ]
  },
  {
   "cell_type": "markdown",
   "metadata": {},
   "source": [
    "<div style=\"text-align:justify;font-size:1.1em;color:#2F2B29;font-family:verdana\"> En muchos lugares, comúnmente escucharás que las bibliotecas son llamadas \"librerías\". Esto se debe a la palabra en inglés, \"library\". En este curso utilizaremos mayormente el término \"librería\", ya que, aunque no es el más correcto, es muy popular.  </div>"
   ]
  },
  {
   "cell_type": "markdown",
   "metadata": {},
   "source": [
    "# Librerías y módulos populares"
   ]
  },
  {
   "cell_type": "markdown",
   "metadata": {},
   "source": [
    "|LIBRERÍA|USO|\n",
    "|-------| -------|\n",
    "|<div style=\"text-align: center\">Matplotlib</div>    |<div style=\"text-align: center\">Graficación</div>  |\n",
    "|<div style=\"text-align: center\">Numpy</div>    |<div style=\"text-align: center\">Matemáticas</div> |\n",
    "|<div style=\"text-align: center\">Pillow</div>  |<div style=\"text-align: center\">Manipulación Imágenes</div> |\n",
    "|<div style=\"text-align: center\">Tkinter</div>  |<div style=\"text-align: center\">GUI</div> |\n",
    "|<div style=\"text-align: center\">Telnetlib</div>  |<div style=\"text-align: center\">Conexión Telnet</div> |\n",
    "|<div style=\"text-align: center\">MySQLdb</div>  |<div style=\"text-align: center\">MySQL</div> |\n",
    "|<div style=\"text-align: center\">Paramiko</div>  |<div style=\"text-align: center\">Conexión SSH</div> |\n",
    "|<div style=\"text-align: center\">OpenCV</div>  |<div style=\"text-align: center\">Computer Vision</div> |\n",
    "|<div style=\"text-align: center\">TensorFlow</div>  |<div style=\"text-align: center\">Deep Learning</div> |"
   ]
  },
  {
   "cell_type": "markdown",
   "metadata": {},
   "source": [
    "\n"
   ]
  },
  {
   "cell_type": "markdown",
   "metadata": {},
   "source": [
    "# Importar Módulos"
   ]
  },
  {
   "cell_type": "markdown",
   "metadata": {},
   "source": [
    "<div style=\"text-align:justify;font-size:1.1em;color:#2F2B29;font-family:verdana\"> Para importar un módulo de una librería, escribimos \"import\", un espacio y luego el nombre del módulo requerido.  </div>\n",
    "<div style=\"text-align:justify;font-size:1.1em;color:#2F2B29;font-family:verdana\"> Por ejemplo, importemos el módulo de tiempo:  </div>"
   ]
  },
  {
   "cell_type": "code",
   "execution_count": null,
   "metadata": {},
   "outputs": [],
   "source": [
    "import time"
   ]
  },
  {
   "cell_type": "markdown",
   "metadata": {},
   "source": [
    "<div style=\"text-align:justify;font-size:1.1em;color:#2F2B29;font-family:verdana\"> En este caso importamos el módulo \"time\" de la Standard Library, el cual, como su nombre lo indica, amplía las funciones relacionadas con el tiempo y la hora. Utilicemos una de estas funciones: </div>\n"
   ]
  },
  {
   "cell_type": "code",
   "execution_count": 2,
   "metadata": {},
   "outputs": [
    {
     "name": "stdout",
     "output_type": "stream",
     "text": [
      "<class 'time.struct_time'>\n"
     ]
    }
   ],
   "source": [
    "import time\n",
    "\n",
    "\n",
    "time.localtime()\n",
    "print(type(time.localtime()))\n"
   ]
  },
  {
   "cell_type": "markdown",
   "metadata": {},
   "source": [
    "<div style=\"text-align:justify;font-size:1.1em;color:#2F2B29;font-family:verdana\"> La función nos retorna el año, mes, día, y segundo correspondientes la momento de su ejecución, entre otros valores. Luego de importar un módulo, accedemos a sus funciones escribiendo primeramente el nombre de dicho módulo, luego un punto y finalmente el nombre de dicha función junto con paréntesis (es posible que las funciones requieran argumentos).</div>\n"
   ]
  },
  {
   "cell_type": "markdown",
   "metadata": {},
   "source": [
    "<div style=\"text-align:justify;font-size:1.1em;color:#2F2B29;font-family:verdana\"> Utilicemos ahora un módulo distinto.</div>\n"
   ]
  },
  {
   "cell_type": "markdown",
   "metadata": {},
   "source": [
    "# Ejemplo: Módulo \"math\""
   ]
  },
  {
   "cell_type": "markdown",
   "metadata": {},
   "source": [
    "<div style=\"text-align:justify;font-size:1.1em;color:#2F2B29;font-family:verdana\"> Si requerimos utilizar funciones relacionadas con matemáticas, podemos usar el módulo \"math\":</div>\n"
   ]
  },
  {
   "cell_type": "code",
   "execution_count": null,
   "metadata": {},
   "outputs": [],
   "source": [
    "import math\n"
   ]
  },
  {
   "cell_type": "markdown",
   "metadata": {},
   "source": [
    "<div style=\"text-align:justify;font-size:1.1em;color:#2F2B29;font-family:verdana\"> Como vemos, la función \"sqrt\" del módulo \"math\" sirve para sacar la raíz cuadrada del valor proporcionado (argumento).</div>\n"
   ]
  },
  {
   "cell_type": "markdown",
   "metadata": {},
   "source": [
    "<div style=\"text-align:justify;font-size:1.1em;color:#2F2B29;font-family:verdana\"> Ahora, es posible importar únicamente una sola función de un módulo. Por ejemplo:</div>\n"
   ]
  },
  {
   "cell_type": "code",
   "execution_count": 3,
   "metadata": {},
   "outputs": [
    {
     "data": {
      "text/plain": [
       "11.0"
      ]
     },
     "execution_count": 3,
     "metadata": {},
     "output_type": "execute_result"
    }
   ],
   "source": [
    "from math import sqrt\n",
    "sqrt(121)"
   ]
  },
  {
   "cell_type": "markdown",
   "metadata": {},
   "source": [
    "<div style=\"text-align:justify;font-size:1.1em;color:#2F2B29;font-family:verdana\"> Nótese que no fue necesario agregar \"math.\" al principio de la función.</div>\n"
   ]
  },
  {
   "cell_type": "markdown",
   "metadata": {},
   "source": [
    "<div style=\"text-align:justify;font-size:1.1em;color:#2F2B29;font-family:verdana\"> Imaginemos ahora que deseamos implementar una función nueva. Se requiere que la función se comporte de la siguiente manera:</div>\n"
   ]
  },
  {
   "cell_type": "markdown",
   "metadata": {},
   "source": [
    "- funcion(2) = 1 x 2 = 2\n",
    "- funcion(3) = 1 x 2 x 3 = 6\n",
    "- funcion(4) = 1 x 2 x 3 x 4 = 24\n",
    "- ..."
   ]
  },
  {
   "cell_type": "markdown",
   "metadata": {},
   "source": [
    "<div style=\"text-align:justify;font-size:1.1em;color:#2F2B29;font-family:verdana\"> En matemáticas, esta función es conocida como \"factorial\".</div>\n"
   ]
  },
  {
   "cell_type": "markdown",
   "metadata": {},
   "source": [
    "<img src=\"materials/notepad.svg\" style=\"width: 150px;\"/>\n"
   ]
  },
  {
   "cell_type": "markdown",
   "metadata": {},
   "source": [
    "#### <div style=\"text-align:CENTER;font-size:1.3em;color:red;font-family:verdana\"> EJERCICIO 6.1-1 [2 minutos]</div>\n",
    "<div style=\"text-align:justify;font-size:1.2em;color:red;font-family:verdana\"> Importa únicamente la función \"factorial\" del módulo \"math\". Utilizala con los valores siguientes e imprime el resultado (la función \"factorial\" toma solo un argumento):</div>"
   ]
  },
  {
   "cell_type": "markdown",
   "metadata": {},
   "source": [
    "- 5\n",
    "- 10\n",
    "- 20"
   ]
  },
  {
   "cell_type": "code",
   "execution_count": 9,
   "metadata": {},
   "outputs": [
    {
     "name": "stdout",
     "output_type": "stream",
     "text": [
      "120 3628800 2432902008176640000\n"
     ]
    }
   ],
   "source": [
    "# Escribe tu código aquí\n",
    "import math\n",
    "\n",
    "print (math.factorial(5), math.factorial(10), math.factorial(20))"
   ]
  },
  {
   "cell_type": "markdown",
   "metadata": {},
   "source": [
    "\n"
   ]
  },
  {
   "cell_type": "code",
   "execution_count": 8,
   "metadata": {},
   "outputs": [
    {
     "name": "stdout",
     "output_type": "stream",
     "text": [
      "120 3628800 2432902008176640000\n"
     ]
    }
   ],
   "source": [
    "# from math import\n",
    "from math import factorial\n",
    "print(factorial(6))"
   ]
  },
  {
   "cell_type": "markdown",
   "metadata": {},
   "source": [
    "\n"
   ]
  },
  {
   "cell_type": "markdown",
   "metadata": {},
   "source": [
    "<img src=\"materials/notepad.svg\" style=\"width: 150px;\"/>\n"
   ]
  },
  {
   "cell_type": "markdown",
   "metadata": {},
   "source": [
    "#### <div style=\"text-align:CENTER;font-size:1.3em;color:red;font-family:verdana\"> EJERCICIO 6.1-2 [5 minutos]</div>\n",
    "<div style=\"text-align:justify;font-size:1.2em;color:red;font-family:verdana\"> Crea una función que arroje el mismo resultado que \"factorial\" al ingresar una variable numérica. Pruébala con algún valor de tu elección.</div>"
   ]
  },
  {
   "cell_type": "code",
   "execution_count": 67,
   "metadata": {},
   "outputs": [
    {
     "name": "stdout",
     "output_type": "stream",
     "text": [
      "0\n"
     ]
    }
   ],
   "source": [
    "from math import factorial\n",
    "def factorial(x):\n",
    "    i = 0\n",
    "    for j in range(x):\n",
    "        i = i*(i+1)\n",
    "        \n",
    "        \n",
    "    return i\n",
    "print(factorial(5))\n",
    "        \n",
    "        \n",
    "        \n",
    "    \n",
    "        "
   ]
  },
  {
   "cell_type": "markdown",
   "metadata": {},
   "source": [
    "\n"
   ]
  },
  {
   "cell_type": "markdown",
   "metadata": {},
   "source": [
    "\n"
   ]
  },
  {
   "cell_type": "markdown",
   "metadata": {},
   "source": [
    "\n"
   ]
  },
  {
   "cell_type": "markdown",
   "metadata": {},
   "source": [
    "# Renombrar Módulo"
   ]
  },
  {
   "cell_type": "markdown",
   "metadata": {},
   "source": [
    "<div style=\"text-align:justify;font-size:1.1em;color:#2F2B29;font-family:verdana\"> Para facilitar el uso de un módulo, podemos cambiar el nombre con el que será usado dentro del código:</div>"
   ]
  },
  {
   "cell_type": "code",
   "execution_count": 17,
   "metadata": {},
   "outputs": [
    {
     "name": "stdout",
     "output_type": "stream",
     "text": [
      "0.9649660284921133\n"
     ]
    }
   ],
   "source": [
    "import math as mate\n",
    "\n",
    "print(mate.cos(50))"
   ]
  },
  {
   "cell_type": "markdown",
   "metadata": {},
   "source": [
    "<div style=\"text-align:justify;font-size:1.1em;color:#2F2B29;font-family:verdana\"> Podemos utilizar el nombre que queramos, siempre y cuando sigamos las reglas de nombramiento de las variables.</div>"
   ]
  },
  {
   "cell_type": "markdown",
   "metadata": {},
   "source": [
    "\n"
   ]
  },
  {
   "cell_type": "markdown",
   "metadata": {},
   "source": [
    "# Ejemplo: Módulo \"time\""
   ]
  },
  {
   "cell_type": "markdown",
   "metadata": {},
   "source": [
    "<div style=\"text-align:justify;font-size:1.1em;color:#2F2B29;font-family:verdana\"> Con el módulo \"time\" es posible realizar acciones relacionadas con la fecha. Por ejemplo, podemos invocar fácilmente los valores actuales de año, mes, día, hora, minuto, segundo, día de la semana y día del año para la locación en la que estemos. Estos valores se entregan como elementos de una lista (y por lo tanto podemos acceder a ellos de manera similar), aunque el tipo de estructura es \"time.struct_time\".  </div>"
   ]
  },
  {
   "cell_type": "code",
   "execution_count": 18,
   "metadata": {},
   "outputs": [
    {
     "name": "stdout",
     "output_type": "stream",
     "text": [
      "time.struct_time(tm_year=2019, tm_mon=8, tm_mday=30, tm_hour=12, tm_min=15, tm_sec=46, tm_wday=4, tm_yday=242, tm_isdst=1)\n",
      "15\n",
      "<class 'time.struct_time'>\n"
     ]
    }
   ],
   "source": [
    "import time\n",
    "fecha = time.localtime() \n",
    "                  \n",
    "print(fecha)\n",
    "print(fecha[5]) # Imprimimos el 4to elemento de fecha. Este corresponde con los minutos.\n",
    "print(type(fecha)) "
   ]
  },
  {
   "cell_type": "markdown",
   "metadata": {},
   "source": [
    "<img src=\"materials/notepad.svg\" style=\"width: 150px;\"/>\n"
   ]
  },
  {
   "cell_type": "markdown",
   "metadata": {},
   "source": [
    "#### <div style=\"text-align:CENTER;font-size:1.3em;color:red;font-family:verdana\"> EJERCICIO 6.1-3 [3 minutos]</div>\n",
    "<div style=\"text-align:justify;font-size:1.2em;color:red;font-family:verdana\"> Utilizando la función \"localtime()\", imprime  la hora y dia del año.</div>"
   ]
  },
  {
   "cell_type": "code",
   "execution_count": 21,
   "metadata": {},
   "outputs": [
    {
     "name": "stdout",
     "output_type": "stream",
     "text": [
      "son las  12 y el dia del año es el 242\n"
     ]
    }
   ],
   "source": [
    "# Escribe tu código \n",
    "import time  as  t\n",
    "tiempo = t.localtime()\n",
    "print (\"son las \", tiempo[3],\"y el dia del año es el\",  tiempo[7])"
   ]
  },
  {
   "cell_type": "markdown",
   "metadata": {},
   "source": [
    "\n"
   ]
  },
  {
   "cell_type": "markdown",
   "metadata": {},
   "source": [
    "\n"
   ]
  },
  {
   "cell_type": "markdown",
   "metadata": {},
   "source": [
    "\n"
   ]
  },
  {
   "cell_type": "markdown",
   "metadata": {},
   "source": [
    "# Ejemplo: Módulo \"random\""
   ]
  },
  {
   "cell_type": "markdown",
   "metadata": {},
   "source": [
    "<div style=\"text-align:justify;font-size:1.1em;color:#2F2B29;font-family:verdana\"> El módulo \"random\" nos permite generar valores aleatorios (hasta cierto punto) para nuestros procesos. Por ejemplo, si queremos generar un valor al azar que sea 0 o 21, podemos utilizar el siguiente código:</div>"
   ]
  },
  {
   "cell_type": "code",
   "execution_count": 28,
   "metadata": {},
   "outputs": [
    {
     "name": "stdout",
     "output_type": "stream",
     "text": [
      "Número al azar: 8\n"
     ]
    }
   ],
   "source": [
    "import random\n",
    "val = random.randrange(0,21) \n",
    "\n",
    "    \n",
    "print(\"Número al azar:\",val)\n"
   ]
  },
  {
   "cell_type": "markdown",
   "metadata": {},
   "source": [
    "<img src=\"materials/notepad.svg\" style=\"width: 150px;\"/>\n"
   ]
  },
  {
   "cell_type": "markdown",
   "metadata": {},
   "source": [
    "#### <div style=\"text-align:CENTER;font-size:1.3em;color:red;font-family:verdana\"> EJERCICIO 6.1-4 [2 minutos]</div>\n",
    "<div style=\"text-align:justify;font-size:1.2em;color:red;font-family:verdana\"> Genera e imprime un número al azar entre 1 y 20. Ejecuta la celda varias veces para probar su funcionamiento. Generar 10 numeros al azar del 5 al 50.</div>"
   ]
  },
  {
   "cell_type": "code",
   "execution_count": 31,
   "metadata": {},
   "outputs": [
    {
     "name": "stdout",
     "output_type": "stream",
     "text": [
      "18\n",
      "19\n",
      "7\n",
      "10\n",
      "2\n",
      "3\n",
      "7\n",
      "16\n",
      "8\n",
      "13\n",
      "19\n"
     ]
    }
   ],
   "source": [
    "# Escribe tu código aquí.\n",
    "import random\n",
    "for i in range(10):\n",
    "    val2 = random.randrange(1,20)\n",
    "    print(val2)\n"
   ]
  },
  {
   "cell_type": "markdown",
   "metadata": {},
   "source": [
    "\n"
   ]
  },
  {
   "cell_type": "markdown",
   "metadata": {},
   "source": [
    "\n"
   ]
  },
  {
   "cell_type": "markdown",
   "metadata": {},
   "source": [
    "\n"
   ]
  },
  {
   "cell_type": "markdown",
   "metadata": {},
   "source": [
    "<div style=\"text-align:justify;font-size:1.1em;color:#2F2B29;font-family:verdana\"> Todos los módulos que hemos empleado hasta el momento pertenecen a la Librería Estándar de Python. Normalmente, cuando instalamos Python en Windows, esta librería se instala con todos sus módulos junto con muchos otros componentes. Además de la Librería Estándar, existen miles de componentes adicionales que pueden encontrarse en el Python Package Index( https://pypi.org ).  </div>"
   ]
  },
  {
   "cell_type": "code",
   "execution_count": 65,
   "metadata": {},
   "outputs": [
    {
     "name": "stdout",
     "output_type": "stream",
     "text": [
      "0\n",
      "1\n"
     ]
    }
   ],
   "source": [
    "import random\n",
    "import math\n",
    "\n",
    "def numAzar(num):\n",
    "    fac = random.randrange(num)\n",
    "    print(fac)\n",
    "    print(math.factorial(fac))\n",
    "    \n",
    "numAzar(10)\n",
    "\n",
    "#math.factorial(6)"
   ]
  },
  {
   "cell_type": "markdown",
   "metadata": {},
   "source": [
    "#### <div style=\"text-align:CENTER;font-size:1.3em;color:red;font-family:verdana\"> EJERCICIO 6.1-5 [5 minutos]</div>\n",
    "<div style=\"text-align:justify;font-size:1.2em;color:red;font-family:verdana\"> Crea una función que reciba un valor numérico como argumento. Esta función utilizará el valor para generar un número al azar (e.g., si ingresamos \"5\", generará un número entre 1 y 5) y luego retornará el factorial de dicho número. Imprime el resultado.</div>"
   ]
  },
  {
   "cell_type": "code",
   "execution_count": 34,
   "metadata": {},
   "outputs": [
    {
     "name": "stdout",
     "output_type": "stream",
     "text": [
      "el numero al azar es:  4 y el numerofac:  24\n"
     ]
    }
   ],
   "source": [
    "# Escribe tu código aquí.\n",
    "import random\n",
    "import math\n",
    "\n",
    "def valor(x):\n",
    "    numeroran = random.randrange(1, x)\n",
    "    numerofac = math.factorial(numeroran)\n",
    "    \n",
    "    print(\"el numero al azar es: \", numeroran, \"y el numerofac: \", numerofac)\n",
    "\n",
    "valor(10)"
   ]
  },
  {
   "cell_type": "markdown",
   "metadata": {},
   "source": [
    "\n"
   ]
  },
  {
   "cell_type": "markdown",
   "metadata": {},
   "source": [
    "\n"
   ]
  },
  {
   "cell_type": "markdown",
   "metadata": {},
   "source": [
    "\n"
   ]
  },
  {
   "cell_type": "markdown",
   "metadata": {},
   "source": [
    "# Crear nuestros propios módulos"
   ]
  },
  {
   "cell_type": "markdown",
   "metadata": {},
   "source": [
    "<div style=\"text-align:justify;font-size:1.1em;color:#2F2B29;font-family:verdana\"> Los módulos son realmente archivos de Python, por lo que podemos crear los propios. Para hacer esto, símplemente creamos funciones en un archivo \".py\" y lo mandamos llamar desde el código principal. Recordemos que debemos tener dicho archivo en la misma carpeta que nuestro código principal.</div>"
   ]
  },
  {
   "cell_type": "markdown",
   "metadata": {},
   "source": [
    "<div style=\"text-align:justify;font-size:1.1em;color:#2F2B29;font-family:verdana\"> Para llamar a un módulo creado por nosotros, utilizamos únicamente su nombre (sin \".py\").</div>"
   ]
  },
  {
   "cell_type": "markdown",
   "metadata": {},
   "source": [
    "<img src=\"materials/notepad.svg\" style=\"width: 150px;\"/>\n",
    "\n"
   ]
  },
  {
   "cell_type": "markdown",
   "metadata": {},
   "source": [
    "#### <div style=\"text-align:CENTER;font-size:1.3em;color:red;font-family:verdana\"> EJERCICIO 6.1-6 [2 minutos]</div>\n",
    "<div style=\"text-align:justify;font-size:1.2em;color:red;font-family:verdana\"> Abre el archivo \"ejemplo.py\" y analiza su contenido. Posterior a esto, importa la función \"funcionEjemplo\" de dicho módulo (el archivo .py)  y ejecútala.</div>"
   ]
  },
  {
   "cell_type": "code",
   "execution_count": 38,
   "metadata": {
    "scrolled": true
   },
   "outputs": [
    {
     "name": "stdout",
     "output_type": "stream",
     "text": [
      "Numero al azar es 4 y su factorial es 24\n"
     ]
    }
   ],
   "source": [
    "# Escribe tu código aquí. \n",
    "from ejemplo import funcionEjemplo\n",
    "funcionEjemplo(7)\n"
   ]
  },
  {
   "cell_type": "markdown",
   "metadata": {},
   "source": [
    "\n"
   ]
  },
  {
   "cell_type": "markdown",
   "metadata": {},
   "source": [
    "\n"
   ]
  },
  {
   "cell_type": "markdown",
   "metadata": {},
   "source": [
    "\n"
   ]
  },
  {
   "cell_type": "markdown",
   "metadata": {},
   "source": [
    "<img src=\"materials/notepad.svg\" style=\"width: 150px;\"/>\n"
   ]
  },
  {
   "cell_type": "markdown",
   "metadata": {},
   "source": [
    "#### <div style=\"text-align:CENTER;font-size:1.3em;color:red;font-family:verdana\"> EJERCICIO 6.1-7 [5 minutos]</div>\n",
    "<div style=\"text-align:justify;font-size:1.2em;color:red;font-family:verdana\"> Agrega una función en el archivo \"ejemplo.py\". Utiliza un nombre de tu elección. Esta función debe generar un número del 1 al 5 al azar y escribirlo con letra. El resultado debe ser similar a esto:</div>"
   ]
  },
  {
   "cell_type": "markdown",
   "metadata": {},
   "source": [
    "- El número al azar entre uno y cinco es: \"x\".\n"
   ]
  },
  {
   "cell_type": "markdown",
   "metadata": {},
   "source": [
    "<div style=\"text-align:justify;font-size:1.2em;color:red;font-family:verdana\"> Importa únicamente esta función creada por tí y ejecútala.</div>"
   ]
  },
  {
   "cell_type": "code",
   "execution_count": 63,
   "metadata": {},
   "outputs": [
    {
     "name": "stdout",
     "output_type": "stream",
     "text": [
      "papel\n"
     ]
    }
   ],
   "source": [
    "import random \n",
    "\n",
    "val = random.randrange(1, 4)\n",
    "\n",
    "if(val == 1):\n",
    "    print(\"piedra\")\n",
    "elif(val == 2):\n",
    "    print(\"papel\")\n",
    "elif(val == 3 ):\n",
    "    print(\"tijera\")\n",
    "else:\n",
    "    print(\"no\")\n"
   ]
  },
  {
   "cell_type": "code",
   "execution_count": null,
   "metadata": {},
   "outputs": [],
   "source": []
  },
  {
   "cell_type": "code",
   "execution_count": null,
   "metadata": {},
   "outputs": [],
   "source": []
  }
 ],
 "metadata": {
  "kernelspec": {
   "display_name": "Python 3",
   "language": "python",
   "name": "python3"
  },
  "language_info": {
   "codemirror_mode": {
    "name": "ipython",
    "version": 3
   },
   "file_extension": ".py",
   "mimetype": "text/x-python",
   "name": "python",
   "nbconvert_exporter": "python",
   "pygments_lexer": "ipython3",
   "version": "3.7.5"
  }
 },
 "nbformat": 4,
 "nbformat_minor": 2
}
